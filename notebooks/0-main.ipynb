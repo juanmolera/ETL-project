{
 "cells": [
  {
   "attachments": {},
   "cell_type": "markdown",
   "metadata": {},
   "source": [
    "# Main"
   ]
  },
  {
   "cell_type": "code",
   "execution_count": null,
   "metadata": {},
   "outputs": [],
   "source": [
    "# Data manipulation\n",
    "import pandas as pd # data manipulation and dataframes\n",
    "\n",
    "# Datetime\n",
    "from datetime import datetime"
   ]
  },
  {
   "cell_type": "code",
   "execution_count": null,
   "metadata": {},
   "outputs": [],
   "source": [
    "urls = get_product_urls('https://www.dia.es/')"
   ]
  },
  {
   "cell_type": "code",
   "execution_count": null,
   "metadata": {},
   "outputs": [],
   "source": [
    "# Wanted information of each product\n",
    "scraping_result = {'supermarket': [],\n",
    "                'category': [],\n",
    "                'subcategory': [],\n",
    "                'name': [], \n",
    "                'price': [], \n",
    "                'reference_price': [],\n",
    "                'reference_unit': [],\n",
    "                'insert_date': []}\n",
    "\n",
    "\n",
    "scraping_result = scrap_products(scraping_result, urls)\n",
    "\n",
    "# Export scraping result to csv\n",
    "df = pd.DataFrame(scraping_result)\n",
    "today_date = datetime.today().strftime('%Y-%m-%d %H-%M-%S')\n",
    "df.to_csv(f'../scrap({today_date}).csv', index = True, sep = ',')\n",
    "\n",
    "# Checks performance\n",
    "print(f'Scraped products: {len(scraping_result[\"name\"])} of {total}')"
   ]
  },
  {
   "cell_type": "code",
   "execution_count": null,
   "metadata": {},
   "outputs": [],
   "source": []
  },
  {
   "cell_type": "code",
   "execution_count": null,
   "metadata": {},
   "outputs": [],
   "source": []
  },
  {
   "cell_type": "code",
   "execution_count": null,
   "metadata": {},
   "outputs": [],
   "source": []
  }
 ],
 "metadata": {
  "language_info": {
   "name": "python"
  },
  "orig_nbformat": 4
 },
 "nbformat": 4,
 "nbformat_minor": 2
}
