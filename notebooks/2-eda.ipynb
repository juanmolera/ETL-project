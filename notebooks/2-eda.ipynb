{
 "cells": [
  {
   "cell_type": "markdown",
   "metadata": {},
   "source": [
    "# eda para matchear csvs"
   ]
  },
  {
   "cell_type": "code",
   "execution_count": 5,
   "metadata": {},
   "outputs": [],
   "source": [
    "import pandas as pd\n",
    "import numpy as np"
   ]
  },
  {
   "cell_type": "code",
   "execution_count": 6,
   "metadata": {},
   "outputs": [],
   "source": [
    "scrapeo_dia5 = pd.read_csv(\"../data/scrapeo(2023-07-10 14-50-32).csv\", index_col = 0)\n",
    "datamarket_dia = pd.read_csv(\"../data/datamarket-dia.csv\", index_col = 0)"
   ]
  },
  {
   "cell_type": "code",
   "execution_count": 7,
   "metadata": {},
   "outputs": [
    {
     "data": {
      "text/html": [
       "<div>\n",
       "<style scoped>\n",
       "    .dataframe tbody tr th:only-of-type {\n",
       "        vertical-align: middle;\n",
       "    }\n",
       "\n",
       "    .dataframe tbody tr th {\n",
       "        vertical-align: top;\n",
       "    }\n",
       "\n",
       "    .dataframe thead th {\n",
       "        text-align: right;\n",
       "    }\n",
       "</style>\n",
       "<table border=\"1\" class=\"dataframe\">\n",
       "  <thead>\n",
       "    <tr style=\"text-align: right;\">\n",
       "      <th></th>\n",
       "      <th>supermarket</th>\n",
       "      <th>category</th>\n",
       "      <th>subcategory</th>\n",
       "      <th>name</th>\n",
       "      <th>price</th>\n",
       "      <th>reference_price</th>\n",
       "      <th>reference_unit</th>\n",
       "      <th>insert_date</th>\n",
       "    </tr>\n",
       "  </thead>\n",
       "  <tbody>\n",
       "    <tr>\n",
       "      <th>0</th>\n",
       "      <td>dia-es</td>\n",
       "      <td>charcuteria_y_quesos</td>\n",
       "      <td>jamon_cocido_lacon_fiambres_y_mortadela</td>\n",
       "      <td>Pechuga de pavo NUESTRA ALACENA pack 2 unidade...</td>\n",
       "      <td>3.55</td>\n",
       "      <td>8.88</td>\n",
       "      <td>kilo</td>\n",
       "      <td>2023-07-10</td>\n",
       "    </tr>\n",
       "    <tr>\n",
       "      <th>1</th>\n",
       "      <td>dia-es</td>\n",
       "      <td>charcuteria_y_quesos</td>\n",
       "      <td>jamon_cocido_lacon_fiambres_y_mortadela</td>\n",
       "      <td>Jamón cocido extra NUESTRA ALACENA pack 2 unid...</td>\n",
       "      <td>3.59</td>\n",
       "      <td>7.98</td>\n",
       "      <td>kilo</td>\n",
       "      <td>2023-07-10</td>\n",
       "    </tr>\n",
       "    <tr>\n",
       "      <th>2</th>\n",
       "      <td>dia-es</td>\n",
       "      <td>charcuteria_y_quesos</td>\n",
       "      <td>jamon_cocido_lacon_fiambres_y_mortadela</td>\n",
       "      <td>Bacon en tiras NUESTRA ALACENA pack 2 unidades...</td>\n",
       "      <td>1.79</td>\n",
       "      <td>8.95</td>\n",
       "      <td>kilo</td>\n",
       "      <td>2023-07-10</td>\n",
       "    </tr>\n",
       "    <tr>\n",
       "      <th>3</th>\n",
       "      <td>dia-es</td>\n",
       "      <td>charcuteria_y_quesos</td>\n",
       "      <td>jamon_cocido_lacon_fiambres_y_mortadela</td>\n",
       "      <td>Bacon NUESTRA ALACENA  SOBRE 200 GR</td>\n",
       "      <td>1.99</td>\n",
       "      <td>9.95</td>\n",
       "      <td>kilo</td>\n",
       "      <td>2023-07-10</td>\n",
       "    </tr>\n",
       "    <tr>\n",
       "      <th>4</th>\n",
       "      <td>dia-es</td>\n",
       "      <td>charcuteria_y_quesos</td>\n",
       "      <td>jamon_cocido_lacon_fiambres_y_mortadela</td>\n",
       "      <td>Jamón cocido extra 97% carne NUESTRA ALACENA  ...</td>\n",
       "      <td>2.05</td>\n",
       "      <td>13.67</td>\n",
       "      <td>kilo</td>\n",
       "      <td>2023-07-10</td>\n",
       "    </tr>\n",
       "  </tbody>\n",
       "</table>\n",
       "</div>"
      ],
      "text/plain": [
       "  supermarket              category                              subcategory  \\\n",
       "0      dia-es  charcuteria_y_quesos  jamon_cocido_lacon_fiambres_y_mortadela   \n",
       "1      dia-es  charcuteria_y_quesos  jamon_cocido_lacon_fiambres_y_mortadela   \n",
       "2      dia-es  charcuteria_y_quesos  jamon_cocido_lacon_fiambres_y_mortadela   \n",
       "3      dia-es  charcuteria_y_quesos  jamon_cocido_lacon_fiambres_y_mortadela   \n",
       "4      dia-es  charcuteria_y_quesos  jamon_cocido_lacon_fiambres_y_mortadela   \n",
       "\n",
       "                                                name  price reference_price  \\\n",
       "0  Pechuga de pavo NUESTRA ALACENA pack 2 unidade...   3.55            8.88   \n",
       "1  Jamón cocido extra NUESTRA ALACENA pack 2 unid...   3.59            7.98   \n",
       "2  Bacon en tiras NUESTRA ALACENA pack 2 unidades...   1.79            8.95   \n",
       "3                Bacon NUESTRA ALACENA  SOBRE 200 GR   1.99            9.95   \n",
       "4  Jamón cocido extra 97% carne NUESTRA ALACENA  ...   2.05           13.67   \n",
       "\n",
       "  reference_unit insert_date  \n",
       "0           kilo  2023-07-10  \n",
       "1           kilo  2023-07-10  \n",
       "2           kilo  2023-07-10  \n",
       "3           kilo  2023-07-10  \n",
       "4           kilo  2023-07-10  "
      ]
     },
     "execution_count": 7,
     "metadata": {},
     "output_type": "execute_result"
    }
   ],
   "source": [
    "scrapeo_dia5.head()"
   ]
  },
  {
   "cell_type": "code",
   "execution_count": 8,
   "metadata": {},
   "outputs": [
    {
     "data": {
      "text/html": [
       "<div>\n",
       "<style scoped>\n",
       "    .dataframe tbody tr th:only-of-type {\n",
       "        vertical-align: middle;\n",
       "    }\n",
       "\n",
       "    .dataframe tbody tr th {\n",
       "        vertical-align: top;\n",
       "    }\n",
       "\n",
       "    .dataframe thead th {\n",
       "        text-align: right;\n",
       "    }\n",
       "</style>\n",
       "<table border=\"1\" class=\"dataframe\">\n",
       "  <thead>\n",
       "    <tr style=\"text-align: right;\">\n",
       "      <th></th>\n",
       "      <th>supermarket</th>\n",
       "      <th>category</th>\n",
       "      <th>name</th>\n",
       "      <th>description</th>\n",
       "      <th>price</th>\n",
       "      <th>reference_price</th>\n",
       "      <th>reference_unit</th>\n",
       "      <th>insert_date</th>\n",
       "      <th>product_id</th>\n",
       "    </tr>\n",
       "    <tr>\n",
       "      <th>url</th>\n",
       "      <th></th>\n",
       "      <th></th>\n",
       "      <th></th>\n",
       "      <th></th>\n",
       "      <th></th>\n",
       "      <th></th>\n",
       "      <th></th>\n",
       "      <th></th>\n",
       "      <th></th>\n",
       "    </tr>\n",
       "  </thead>\n",
       "  <tbody>\n",
       "    <tr>\n",
       "      <th>https://www.dia.es/compra-online/productos/perfumeria-e-higiene/cuidado-del-cabello/champu/p/151922</th>\n",
       "      <td>dia-es</td>\n",
       "      <td>perfumeria_e_higiene_cuidado_del_cabello_champu</td>\n",
       "      <td>FLEX champú con Keratina para cabello normal f...</td>\n",
       "      <td>NaN</td>\n",
       "      <td>3.39</td>\n",
       "      <td>5.22</td>\n",
       "      <td>l</td>\n",
       "      <td>2021-03-06 00:00:00</td>\n",
       "      <td>782a516202a4c7d4977341602ed10173</td>\n",
       "    </tr>\n",
       "    <tr>\n",
       "      <th>https://www.dia.es/compra-online/productos/perfumeria-e-higiene/cuidado-del-cabello/champu/p/152591</th>\n",
       "      <td>dia-es</td>\n",
       "      <td>perfumeria_e_higiene_cuidado_del_cabello_champu</td>\n",
       "      <td>FLEX champú con Keratina fortificante frasco 6...</td>\n",
       "      <td>NaN</td>\n",
       "      <td>3.39</td>\n",
       "      <td>5.22</td>\n",
       "      <td>l</td>\n",
       "      <td>2021-03-06 00:00:00</td>\n",
       "      <td>fcadc0dcbdfaa1dc2aa6c99523c3fa47</td>\n",
       "    </tr>\n",
       "    <tr>\n",
       "      <th>https://www.dia.es/compra-online/productos/perfumeria-e-higiene/cuidado-del-cabello/champu/p/152271</th>\n",
       "      <td>dia-es</td>\n",
       "      <td>perfumeria_e_higiene_cuidado_del_cabello_champu</td>\n",
       "      <td>GLISS champú reparador total frasco 250 ml</td>\n",
       "      <td>NaN</td>\n",
       "      <td>2.99</td>\n",
       "      <td>11.96</td>\n",
       "      <td>l</td>\n",
       "      <td>2021-03-06 00:00:00</td>\n",
       "      <td>bf86b25bafae2e646edba24ed9a0af7c</td>\n",
       "    </tr>\n",
       "    <tr>\n",
       "      <th>https://www.dia.es/compra-online/productos/perfumeria-e-higiene/cuidado-del-cabello/champu/p/152274</th>\n",
       "      <td>dia-es</td>\n",
       "      <td>perfumeria_e_higiene_cuidado_del_cabello_champu</td>\n",
       "      <td>GLISS champú reparador ultimate frasco 250 ml</td>\n",
       "      <td>NaN</td>\n",
       "      <td>2.99</td>\n",
       "      <td>11.96</td>\n",
       "      <td>l</td>\n",
       "      <td>2021-03-06 00:00:00</td>\n",
       "      <td>df3b30f9e481ec851d606a99fd8ad8b7</td>\n",
       "    </tr>\n",
       "    <tr>\n",
       "      <th>https://www.dia.es/compra-online/productos/perfumeria-e-higiene/cuidado-del-cabello/champu/p/152175</th>\n",
       "      <td>dia-es</td>\n",
       "      <td>perfumeria_e_higiene_cuidado_del_cabello_champu</td>\n",
       "      <td>NATUR VITAL champú protección color cabellos c...</td>\n",
       "      <td>NaN</td>\n",
       "      <td>3.99</td>\n",
       "      <td>13.30</td>\n",
       "      <td>l</td>\n",
       "      <td>2021-03-06 00:00:00</td>\n",
       "      <td>9c94c0754747ab0d37067ede61a682fc</td>\n",
       "    </tr>\n",
       "  </tbody>\n",
       "</table>\n",
       "</div>"
      ],
      "text/plain": [
       "                                                   supermarket  \\\n",
       "url                                                              \n",
       "https://www.dia.es/compra-online/productos/perf...      dia-es   \n",
       "https://www.dia.es/compra-online/productos/perf...      dia-es   \n",
       "https://www.dia.es/compra-online/productos/perf...      dia-es   \n",
       "https://www.dia.es/compra-online/productos/perf...      dia-es   \n",
       "https://www.dia.es/compra-online/productos/perf...      dia-es   \n",
       "\n",
       "                                                                                           category  \\\n",
       "url                                                                                                   \n",
       "https://www.dia.es/compra-online/productos/perf...  perfumeria_e_higiene_cuidado_del_cabello_champu   \n",
       "https://www.dia.es/compra-online/productos/perf...  perfumeria_e_higiene_cuidado_del_cabello_champu   \n",
       "https://www.dia.es/compra-online/productos/perf...  perfumeria_e_higiene_cuidado_del_cabello_champu   \n",
       "https://www.dia.es/compra-online/productos/perf...  perfumeria_e_higiene_cuidado_del_cabello_champu   \n",
       "https://www.dia.es/compra-online/productos/perf...  perfumeria_e_higiene_cuidado_del_cabello_champu   \n",
       "\n",
       "                                                                                                 name  \\\n",
       "url                                                                                                     \n",
       "https://www.dia.es/compra-online/productos/perf...  FLEX champú con Keratina para cabello normal f...   \n",
       "https://www.dia.es/compra-online/productos/perf...  FLEX champú con Keratina fortificante frasco 6...   \n",
       "https://www.dia.es/compra-online/productos/perf...         GLISS champú reparador total frasco 250 ml   \n",
       "https://www.dia.es/compra-online/productos/perf...      GLISS champú reparador ultimate frasco 250 ml   \n",
       "https://www.dia.es/compra-online/productos/perf...  NATUR VITAL champú protección color cabellos c...   \n",
       "\n",
       "                                                    description  price  \\\n",
       "url                                                                      \n",
       "https://www.dia.es/compra-online/productos/perf...          NaN   3.39   \n",
       "https://www.dia.es/compra-online/productos/perf...          NaN   3.39   \n",
       "https://www.dia.es/compra-online/productos/perf...          NaN   2.99   \n",
       "https://www.dia.es/compra-online/productos/perf...          NaN   2.99   \n",
       "https://www.dia.es/compra-online/productos/perf...          NaN   3.99   \n",
       "\n",
       "                                                    reference_price  \\\n",
       "url                                                                   \n",
       "https://www.dia.es/compra-online/productos/perf...             5.22   \n",
       "https://www.dia.es/compra-online/productos/perf...             5.22   \n",
       "https://www.dia.es/compra-online/productos/perf...            11.96   \n",
       "https://www.dia.es/compra-online/productos/perf...            11.96   \n",
       "https://www.dia.es/compra-online/productos/perf...            13.30   \n",
       "\n",
       "                                                   reference_unit  \\\n",
       "url                                                                 \n",
       "https://www.dia.es/compra-online/productos/perf...              l   \n",
       "https://www.dia.es/compra-online/productos/perf...              l   \n",
       "https://www.dia.es/compra-online/productos/perf...              l   \n",
       "https://www.dia.es/compra-online/productos/perf...              l   \n",
       "https://www.dia.es/compra-online/productos/perf...              l   \n",
       "\n",
       "                                                            insert_date  \\\n",
       "url                                                                       \n",
       "https://www.dia.es/compra-online/productos/perf...  2021-03-06 00:00:00   \n",
       "https://www.dia.es/compra-online/productos/perf...  2021-03-06 00:00:00   \n",
       "https://www.dia.es/compra-online/productos/perf...  2021-03-06 00:00:00   \n",
       "https://www.dia.es/compra-online/productos/perf...  2021-03-06 00:00:00   \n",
       "https://www.dia.es/compra-online/productos/perf...  2021-03-06 00:00:00   \n",
       "\n",
       "                                                                          product_id  \n",
       "url                                                                                   \n",
       "https://www.dia.es/compra-online/productos/perf...  782a516202a4c7d4977341602ed10173  \n",
       "https://www.dia.es/compra-online/productos/perf...  fcadc0dcbdfaa1dc2aa6c99523c3fa47  \n",
       "https://www.dia.es/compra-online/productos/perf...  bf86b25bafae2e646edba24ed9a0af7c  \n",
       "https://www.dia.es/compra-online/productos/perf...  df3b30f9e481ec851d606a99fd8ad8b7  \n",
       "https://www.dia.es/compra-online/productos/perf...  9c94c0754747ab0d37067ede61a682fc  "
      ]
     },
     "execution_count": 8,
     "metadata": {},
     "output_type": "execute_result"
    }
   ],
   "source": [
    "datamarket_dia.head()"
   ]
  },
  {
   "cell_type": "code",
   "execution_count": 9,
   "metadata": {},
   "outputs": [
    {
     "data": {
      "text/html": [
       "<div>\n",
       "<style scoped>\n",
       "    .dataframe tbody tr th:only-of-type {\n",
       "        vertical-align: middle;\n",
       "    }\n",
       "\n",
       "    .dataframe tbody tr th {\n",
       "        vertical-align: top;\n",
       "    }\n",
       "\n",
       "    .dataframe thead th {\n",
       "        text-align: right;\n",
       "    }\n",
       "</style>\n",
       "<table border=\"1\" class=\"dataframe\">\n",
       "  <thead>\n",
       "    <tr style=\"text-align: right;\">\n",
       "      <th></th>\n",
       "      <th>url</th>\n",
       "      <th>supermarket</th>\n",
       "      <th>category</th>\n",
       "      <th>name</th>\n",
       "      <th>description</th>\n",
       "      <th>price</th>\n",
       "      <th>reference_price</th>\n",
       "      <th>reference_unit</th>\n",
       "      <th>insert_date</th>\n",
       "      <th>product_id</th>\n",
       "    </tr>\n",
       "  </thead>\n",
       "  <tbody>\n",
       "    <tr>\n",
       "      <th>0</th>\n",
       "      <td>https://www.dia.es/compra-online/productos/per...</td>\n",
       "      <td>dia-es</td>\n",
       "      <td>perfumeria_e_higiene_cuidado_del_cabello_champu</td>\n",
       "      <td>FLEX champú con Keratina para cabello normal f...</td>\n",
       "      <td>NaN</td>\n",
       "      <td>3.39</td>\n",
       "      <td>5.22</td>\n",
       "      <td>l</td>\n",
       "      <td>2021-03-06 00:00:00</td>\n",
       "      <td>782a516202a4c7d4977341602ed10173</td>\n",
       "    </tr>\n",
       "    <tr>\n",
       "      <th>1</th>\n",
       "      <td>https://www.dia.es/compra-online/productos/per...</td>\n",
       "      <td>dia-es</td>\n",
       "      <td>perfumeria_e_higiene_cuidado_del_cabello_champu</td>\n",
       "      <td>FLEX champú con Keratina fortificante frasco 6...</td>\n",
       "      <td>NaN</td>\n",
       "      <td>3.39</td>\n",
       "      <td>5.22</td>\n",
       "      <td>l</td>\n",
       "      <td>2021-03-06 00:00:00</td>\n",
       "      <td>fcadc0dcbdfaa1dc2aa6c99523c3fa47</td>\n",
       "    </tr>\n",
       "    <tr>\n",
       "      <th>2</th>\n",
       "      <td>https://www.dia.es/compra-online/productos/per...</td>\n",
       "      <td>dia-es</td>\n",
       "      <td>perfumeria_e_higiene_cuidado_del_cabello_champu</td>\n",
       "      <td>GLISS champú reparador total frasco 250 ml</td>\n",
       "      <td>NaN</td>\n",
       "      <td>2.99</td>\n",
       "      <td>11.96</td>\n",
       "      <td>l</td>\n",
       "      <td>2021-03-06 00:00:00</td>\n",
       "      <td>bf86b25bafae2e646edba24ed9a0af7c</td>\n",
       "    </tr>\n",
       "    <tr>\n",
       "      <th>3</th>\n",
       "      <td>https://www.dia.es/compra-online/productos/per...</td>\n",
       "      <td>dia-es</td>\n",
       "      <td>perfumeria_e_higiene_cuidado_del_cabello_champu</td>\n",
       "      <td>GLISS champú reparador ultimate frasco 250 ml</td>\n",
       "      <td>NaN</td>\n",
       "      <td>2.99</td>\n",
       "      <td>11.96</td>\n",
       "      <td>l</td>\n",
       "      <td>2021-03-06 00:00:00</td>\n",
       "      <td>df3b30f9e481ec851d606a99fd8ad8b7</td>\n",
       "    </tr>\n",
       "    <tr>\n",
       "      <th>4</th>\n",
       "      <td>https://www.dia.es/compra-online/productos/per...</td>\n",
       "      <td>dia-es</td>\n",
       "      <td>perfumeria_e_higiene_cuidado_del_cabello_champu</td>\n",
       "      <td>NATUR VITAL champú protección color cabellos c...</td>\n",
       "      <td>NaN</td>\n",
       "      <td>3.99</td>\n",
       "      <td>13.30</td>\n",
       "      <td>l</td>\n",
       "      <td>2021-03-06 00:00:00</td>\n",
       "      <td>9c94c0754747ab0d37067ede61a682fc</td>\n",
       "    </tr>\n",
       "  </tbody>\n",
       "</table>\n",
       "</div>"
      ],
      "text/plain": [
       "                                                 url supermarket  \\\n",
       "0  https://www.dia.es/compra-online/productos/per...      dia-es   \n",
       "1  https://www.dia.es/compra-online/productos/per...      dia-es   \n",
       "2  https://www.dia.es/compra-online/productos/per...      dia-es   \n",
       "3  https://www.dia.es/compra-online/productos/per...      dia-es   \n",
       "4  https://www.dia.es/compra-online/productos/per...      dia-es   \n",
       "\n",
       "                                          category  \\\n",
       "0  perfumeria_e_higiene_cuidado_del_cabello_champu   \n",
       "1  perfumeria_e_higiene_cuidado_del_cabello_champu   \n",
       "2  perfumeria_e_higiene_cuidado_del_cabello_champu   \n",
       "3  perfumeria_e_higiene_cuidado_del_cabello_champu   \n",
       "4  perfumeria_e_higiene_cuidado_del_cabello_champu   \n",
       "\n",
       "                                                name  description  price  \\\n",
       "0  FLEX champú con Keratina para cabello normal f...          NaN   3.39   \n",
       "1  FLEX champú con Keratina fortificante frasco 6...          NaN   3.39   \n",
       "2         GLISS champú reparador total frasco 250 ml          NaN   2.99   \n",
       "3      GLISS champú reparador ultimate frasco 250 ml          NaN   2.99   \n",
       "4  NATUR VITAL champú protección color cabellos c...          NaN   3.99   \n",
       "\n",
       "   reference_price reference_unit          insert_date  \\\n",
       "0             5.22              l  2021-03-06 00:00:00   \n",
       "1             5.22              l  2021-03-06 00:00:00   \n",
       "2            11.96              l  2021-03-06 00:00:00   \n",
       "3            11.96              l  2021-03-06 00:00:00   \n",
       "4            13.30              l  2021-03-06 00:00:00   \n",
       "\n",
       "                         product_id  \n",
       "0  782a516202a4c7d4977341602ed10173  \n",
       "1  fcadc0dcbdfaa1dc2aa6c99523c3fa47  \n",
       "2  bf86b25bafae2e646edba24ed9a0af7c  \n",
       "3  df3b30f9e481ec851d606a99fd8ad8b7  \n",
       "4  9c94c0754747ab0d37067ede61a682fc  "
      ]
     },
     "execution_count": 9,
     "metadata": {},
     "output_type": "execute_result"
    }
   ],
   "source": [
    "datamarket_dia.reset_index(drop = False, inplace = True)\n",
    "\n",
    "datamarket_dia.head()"
   ]
  },
  {
   "cell_type": "markdown",
   "metadata": {},
   "source": [
    "# null"
   ]
  },
  {
   "cell_type": "code",
   "execution_count": 10,
   "metadata": {},
   "outputs": [
    {
     "data": {
      "text/plain": [
       "url                      0\n",
       "supermarket              0\n",
       "category                 0\n",
       "name                     0\n",
       "description        3053473\n",
       "price                    6\n",
       "reference_price          6\n",
       "reference_unit        5480\n",
       "insert_date              0\n",
       "product_id               0\n",
       "dtype: int64"
      ]
     },
     "execution_count": 10,
     "metadata": {},
     "output_type": "execute_result"
    }
   ],
   "source": [
    "datamarket_dia.isnull().sum()"
   ]
  },
  {
   "cell_type": "markdown",
   "metadata": {},
   "source": [
    "# drops"
   ]
  },
  {
   "cell_type": "code",
   "execution_count": 11,
   "metadata": {},
   "outputs": [
    {
     "data": {
      "text/html": [
       "<div>\n",
       "<style scoped>\n",
       "    .dataframe tbody tr th:only-of-type {\n",
       "        vertical-align: middle;\n",
       "    }\n",
       "\n",
       "    .dataframe tbody tr th {\n",
       "        vertical-align: top;\n",
       "    }\n",
       "\n",
       "    .dataframe thead th {\n",
       "        text-align: right;\n",
       "    }\n",
       "</style>\n",
       "<table border=\"1\" class=\"dataframe\">\n",
       "  <thead>\n",
       "    <tr style=\"text-align: right;\">\n",
       "      <th></th>\n",
       "      <th>url</th>\n",
       "      <th>supermarket</th>\n",
       "      <th>category</th>\n",
       "      <th>name</th>\n",
       "      <th>price</th>\n",
       "      <th>reference_price</th>\n",
       "      <th>reference_unit</th>\n",
       "      <th>insert_date</th>\n",
       "      <th>product_id</th>\n",
       "    </tr>\n",
       "  </thead>\n",
       "  <tbody>\n",
       "    <tr>\n",
       "      <th>0</th>\n",
       "      <td>https://www.dia.es/compra-online/productos/per...</td>\n",
       "      <td>dia-es</td>\n",
       "      <td>perfumeria_e_higiene_cuidado_del_cabello_champu</td>\n",
       "      <td>FLEX champú con Keratina para cabello normal f...</td>\n",
       "      <td>3.39</td>\n",
       "      <td>5.22</td>\n",
       "      <td>l</td>\n",
       "      <td>2021-03-06 00:00:00</td>\n",
       "      <td>782a516202a4c7d4977341602ed10173</td>\n",
       "    </tr>\n",
       "    <tr>\n",
       "      <th>1</th>\n",
       "      <td>https://www.dia.es/compra-online/productos/per...</td>\n",
       "      <td>dia-es</td>\n",
       "      <td>perfumeria_e_higiene_cuidado_del_cabello_champu</td>\n",
       "      <td>FLEX champú con Keratina fortificante frasco 6...</td>\n",
       "      <td>3.39</td>\n",
       "      <td>5.22</td>\n",
       "      <td>l</td>\n",
       "      <td>2021-03-06 00:00:00</td>\n",
       "      <td>fcadc0dcbdfaa1dc2aa6c99523c3fa47</td>\n",
       "    </tr>\n",
       "    <tr>\n",
       "      <th>2</th>\n",
       "      <td>https://www.dia.es/compra-online/productos/per...</td>\n",
       "      <td>dia-es</td>\n",
       "      <td>perfumeria_e_higiene_cuidado_del_cabello_champu</td>\n",
       "      <td>GLISS champú reparador total frasco 250 ml</td>\n",
       "      <td>2.99</td>\n",
       "      <td>11.96</td>\n",
       "      <td>l</td>\n",
       "      <td>2021-03-06 00:00:00</td>\n",
       "      <td>bf86b25bafae2e646edba24ed9a0af7c</td>\n",
       "    </tr>\n",
       "    <tr>\n",
       "      <th>3</th>\n",
       "      <td>https://www.dia.es/compra-online/productos/per...</td>\n",
       "      <td>dia-es</td>\n",
       "      <td>perfumeria_e_higiene_cuidado_del_cabello_champu</td>\n",
       "      <td>GLISS champú reparador ultimate frasco 250 ml</td>\n",
       "      <td>2.99</td>\n",
       "      <td>11.96</td>\n",
       "      <td>l</td>\n",
       "      <td>2021-03-06 00:00:00</td>\n",
       "      <td>df3b30f9e481ec851d606a99fd8ad8b7</td>\n",
       "    </tr>\n",
       "    <tr>\n",
       "      <th>4</th>\n",
       "      <td>https://www.dia.es/compra-online/productos/per...</td>\n",
       "      <td>dia-es</td>\n",
       "      <td>perfumeria_e_higiene_cuidado_del_cabello_champu</td>\n",
       "      <td>NATUR VITAL champú protección color cabellos c...</td>\n",
       "      <td>3.99</td>\n",
       "      <td>13.30</td>\n",
       "      <td>l</td>\n",
       "      <td>2021-03-06 00:00:00</td>\n",
       "      <td>9c94c0754747ab0d37067ede61a682fc</td>\n",
       "    </tr>\n",
       "  </tbody>\n",
       "</table>\n",
       "</div>"
      ],
      "text/plain": [
       "                                                 url supermarket  \\\n",
       "0  https://www.dia.es/compra-online/productos/per...      dia-es   \n",
       "1  https://www.dia.es/compra-online/productos/per...      dia-es   \n",
       "2  https://www.dia.es/compra-online/productos/per...      dia-es   \n",
       "3  https://www.dia.es/compra-online/productos/per...      dia-es   \n",
       "4  https://www.dia.es/compra-online/productos/per...      dia-es   \n",
       "\n",
       "                                          category  \\\n",
       "0  perfumeria_e_higiene_cuidado_del_cabello_champu   \n",
       "1  perfumeria_e_higiene_cuidado_del_cabello_champu   \n",
       "2  perfumeria_e_higiene_cuidado_del_cabello_champu   \n",
       "3  perfumeria_e_higiene_cuidado_del_cabello_champu   \n",
       "4  perfumeria_e_higiene_cuidado_del_cabello_champu   \n",
       "\n",
       "                                                name  price  reference_price  \\\n",
       "0  FLEX champú con Keratina para cabello normal f...   3.39             5.22   \n",
       "1  FLEX champú con Keratina fortificante frasco 6...   3.39             5.22   \n",
       "2         GLISS champú reparador total frasco 250 ml   2.99            11.96   \n",
       "3      GLISS champú reparador ultimate frasco 250 ml   2.99            11.96   \n",
       "4  NATUR VITAL champú protección color cabellos c...   3.99            13.30   \n",
       "\n",
       "  reference_unit          insert_date                        product_id  \n",
       "0              l  2021-03-06 00:00:00  782a516202a4c7d4977341602ed10173  \n",
       "1              l  2021-03-06 00:00:00  fcadc0dcbdfaa1dc2aa6c99523c3fa47  \n",
       "2              l  2021-03-06 00:00:00  bf86b25bafae2e646edba24ed9a0af7c  \n",
       "3              l  2021-03-06 00:00:00  df3b30f9e481ec851d606a99fd8ad8b7  \n",
       "4              l  2021-03-06 00:00:00  9c94c0754747ab0d37067ede61a682fc  "
      ]
     },
     "execution_count": 11,
     "metadata": {},
     "output_type": "execute_result"
    }
   ],
   "source": [
    "datamarket_dia.drop(columns=['description'], axis = 1, inplace = True)\n",
    "\n",
    "datamarket_dia.head()"
   ]
  },
  {
   "cell_type": "code",
   "execution_count": 12,
   "metadata": {},
   "outputs": [
    {
     "data": {
      "text/html": [
       "<div>\n",
       "<style scoped>\n",
       "    .dataframe tbody tr th:only-of-type {\n",
       "        vertical-align: middle;\n",
       "    }\n",
       "\n",
       "    .dataframe tbody tr th {\n",
       "        vertical-align: top;\n",
       "    }\n",
       "\n",
       "    .dataframe thead th {\n",
       "        text-align: right;\n",
       "    }\n",
       "</style>\n",
       "<table border=\"1\" class=\"dataframe\">\n",
       "  <thead>\n",
       "    <tr style=\"text-align: right;\">\n",
       "      <th></th>\n",
       "      <th>supermarket</th>\n",
       "      <th>category</th>\n",
       "      <th>name</th>\n",
       "      <th>price</th>\n",
       "      <th>reference_price</th>\n",
       "      <th>reference_unit</th>\n",
       "      <th>insert_date</th>\n",
       "    </tr>\n",
       "  </thead>\n",
       "  <tbody>\n",
       "    <tr>\n",
       "      <th>0</th>\n",
       "      <td>dia-es</td>\n",
       "      <td>perfumeria_e_higiene_cuidado_del_cabello_champu</td>\n",
       "      <td>FLEX champú con Keratina para cabello normal f...</td>\n",
       "      <td>3.39</td>\n",
       "      <td>5.22</td>\n",
       "      <td>l</td>\n",
       "      <td>2021-03-06 00:00:00</td>\n",
       "    </tr>\n",
       "    <tr>\n",
       "      <th>1</th>\n",
       "      <td>dia-es</td>\n",
       "      <td>perfumeria_e_higiene_cuidado_del_cabello_champu</td>\n",
       "      <td>FLEX champú con Keratina fortificante frasco 6...</td>\n",
       "      <td>3.39</td>\n",
       "      <td>5.22</td>\n",
       "      <td>l</td>\n",
       "      <td>2021-03-06 00:00:00</td>\n",
       "    </tr>\n",
       "    <tr>\n",
       "      <th>2</th>\n",
       "      <td>dia-es</td>\n",
       "      <td>perfumeria_e_higiene_cuidado_del_cabello_champu</td>\n",
       "      <td>GLISS champú reparador total frasco 250 ml</td>\n",
       "      <td>2.99</td>\n",
       "      <td>11.96</td>\n",
       "      <td>l</td>\n",
       "      <td>2021-03-06 00:00:00</td>\n",
       "    </tr>\n",
       "    <tr>\n",
       "      <th>3</th>\n",
       "      <td>dia-es</td>\n",
       "      <td>perfumeria_e_higiene_cuidado_del_cabello_champu</td>\n",
       "      <td>GLISS champú reparador ultimate frasco 250 ml</td>\n",
       "      <td>2.99</td>\n",
       "      <td>11.96</td>\n",
       "      <td>l</td>\n",
       "      <td>2021-03-06 00:00:00</td>\n",
       "    </tr>\n",
       "    <tr>\n",
       "      <th>4</th>\n",
       "      <td>dia-es</td>\n",
       "      <td>perfumeria_e_higiene_cuidado_del_cabello_champu</td>\n",
       "      <td>NATUR VITAL champú protección color cabellos c...</td>\n",
       "      <td>3.99</td>\n",
       "      <td>13.30</td>\n",
       "      <td>l</td>\n",
       "      <td>2021-03-06 00:00:00</td>\n",
       "    </tr>\n",
       "  </tbody>\n",
       "</table>\n",
       "</div>"
      ],
      "text/plain": [
       "  supermarket                                         category  \\\n",
       "0      dia-es  perfumeria_e_higiene_cuidado_del_cabello_champu   \n",
       "1      dia-es  perfumeria_e_higiene_cuidado_del_cabello_champu   \n",
       "2      dia-es  perfumeria_e_higiene_cuidado_del_cabello_champu   \n",
       "3      dia-es  perfumeria_e_higiene_cuidado_del_cabello_champu   \n",
       "4      dia-es  perfumeria_e_higiene_cuidado_del_cabello_champu   \n",
       "\n",
       "                                                name  price  reference_price  \\\n",
       "0  FLEX champú con Keratina para cabello normal f...   3.39             5.22   \n",
       "1  FLEX champú con Keratina fortificante frasco 6...   3.39             5.22   \n",
       "2         GLISS champú reparador total frasco 250 ml   2.99            11.96   \n",
       "3      GLISS champú reparador ultimate frasco 250 ml   2.99            11.96   \n",
       "4  NATUR VITAL champú protección color cabellos c...   3.99            13.30   \n",
       "\n",
       "  reference_unit          insert_date  \n",
       "0              l  2021-03-06 00:00:00  \n",
       "1              l  2021-03-06 00:00:00  \n",
       "2              l  2021-03-06 00:00:00  \n",
       "3              l  2021-03-06 00:00:00  \n",
       "4              l  2021-03-06 00:00:00  "
      ]
     },
     "execution_count": 12,
     "metadata": {},
     "output_type": "execute_result"
    }
   ],
   "source": [
    "datamarket_dia.drop(columns=['product_id' , 'url'], axis = 1, inplace = True)\n",
    "\n",
    "datamarket_dia.head()"
   ]
  },
  {
   "cell_type": "code",
   "execution_count": 13,
   "metadata": {},
   "outputs": [
    {
     "data": {
      "text/html": [
       "<div>\n",
       "<style scoped>\n",
       "    .dataframe tbody tr th:only-of-type {\n",
       "        vertical-align: middle;\n",
       "    }\n",
       "\n",
       "    .dataframe tbody tr th {\n",
       "        vertical-align: top;\n",
       "    }\n",
       "\n",
       "    .dataframe thead th {\n",
       "        text-align: right;\n",
       "    }\n",
       "</style>\n",
       "<table border=\"1\" class=\"dataframe\">\n",
       "  <thead>\n",
       "    <tr style=\"text-align: right;\">\n",
       "      <th></th>\n",
       "      <th>supermarket</th>\n",
       "      <th>category</th>\n",
       "      <th>subcategory</th>\n",
       "      <th>name</th>\n",
       "      <th>price</th>\n",
       "      <th>reference_price</th>\n",
       "      <th>reference_unit</th>\n",
       "      <th>insert_date</th>\n",
       "    </tr>\n",
       "  </thead>\n",
       "  <tbody>\n",
       "    <tr>\n",
       "      <th>0</th>\n",
       "      <td>dia-es</td>\n",
       "      <td>charcuteria_y_quesos</td>\n",
       "      <td>jamon_cocido_lacon_fiambres_y_mortadela</td>\n",
       "      <td>Pechuga de pavo NUESTRA ALACENA pack 2 unidade...</td>\n",
       "      <td>3.55</td>\n",
       "      <td>8.88</td>\n",
       "      <td>kilo</td>\n",
       "      <td>2023-07-10</td>\n",
       "    </tr>\n",
       "    <tr>\n",
       "      <th>1</th>\n",
       "      <td>dia-es</td>\n",
       "      <td>charcuteria_y_quesos</td>\n",
       "      <td>jamon_cocido_lacon_fiambres_y_mortadela</td>\n",
       "      <td>Jamón cocido extra NUESTRA ALACENA pack 2 unid...</td>\n",
       "      <td>3.59</td>\n",
       "      <td>7.98</td>\n",
       "      <td>kilo</td>\n",
       "      <td>2023-07-10</td>\n",
       "    </tr>\n",
       "    <tr>\n",
       "      <th>2</th>\n",
       "      <td>dia-es</td>\n",
       "      <td>charcuteria_y_quesos</td>\n",
       "      <td>jamon_cocido_lacon_fiambres_y_mortadela</td>\n",
       "      <td>Bacon en tiras NUESTRA ALACENA pack 2 unidades...</td>\n",
       "      <td>1.79</td>\n",
       "      <td>8.95</td>\n",
       "      <td>kilo</td>\n",
       "      <td>2023-07-10</td>\n",
       "    </tr>\n",
       "    <tr>\n",
       "      <th>3</th>\n",
       "      <td>dia-es</td>\n",
       "      <td>charcuteria_y_quesos</td>\n",
       "      <td>jamon_cocido_lacon_fiambres_y_mortadela</td>\n",
       "      <td>Bacon NUESTRA ALACENA  SOBRE 200 GR</td>\n",
       "      <td>1.99</td>\n",
       "      <td>9.95</td>\n",
       "      <td>kilo</td>\n",
       "      <td>2023-07-10</td>\n",
       "    </tr>\n",
       "    <tr>\n",
       "      <th>4</th>\n",
       "      <td>dia-es</td>\n",
       "      <td>charcuteria_y_quesos</td>\n",
       "      <td>jamon_cocido_lacon_fiambres_y_mortadela</td>\n",
       "      <td>Jamón cocido extra 97% carne NUESTRA ALACENA  ...</td>\n",
       "      <td>2.05</td>\n",
       "      <td>13.67</td>\n",
       "      <td>kilo</td>\n",
       "      <td>2023-07-10</td>\n",
       "    </tr>\n",
       "  </tbody>\n",
       "</table>\n",
       "</div>"
      ],
      "text/plain": [
       "  supermarket              category                              subcategory  \\\n",
       "0      dia-es  charcuteria_y_quesos  jamon_cocido_lacon_fiambres_y_mortadela   \n",
       "1      dia-es  charcuteria_y_quesos  jamon_cocido_lacon_fiambres_y_mortadela   \n",
       "2      dia-es  charcuteria_y_quesos  jamon_cocido_lacon_fiambres_y_mortadela   \n",
       "3      dia-es  charcuteria_y_quesos  jamon_cocido_lacon_fiambres_y_mortadela   \n",
       "4      dia-es  charcuteria_y_quesos  jamon_cocido_lacon_fiambres_y_mortadela   \n",
       "\n",
       "                                                name  price reference_price  \\\n",
       "0  Pechuga de pavo NUESTRA ALACENA pack 2 unidade...   3.55            8.88   \n",
       "1  Jamón cocido extra NUESTRA ALACENA pack 2 unid...   3.59            7.98   \n",
       "2  Bacon en tiras NUESTRA ALACENA pack 2 unidades...   1.79            8.95   \n",
       "3                Bacon NUESTRA ALACENA  SOBRE 200 GR   1.99            9.95   \n",
       "4  Jamón cocido extra 97% carne NUESTRA ALACENA  ...   2.05           13.67   \n",
       "\n",
       "  reference_unit insert_date  \n",
       "0           kilo  2023-07-10  \n",
       "1           kilo  2023-07-10  \n",
       "2           kilo  2023-07-10  \n",
       "3           kilo  2023-07-10  \n",
       "4           kilo  2023-07-10  "
      ]
     },
     "execution_count": 13,
     "metadata": {},
     "output_type": "execute_result"
    }
   ],
   "source": [
    "scrapeo_dia5.head()"
   ]
  },
  {
   "cell_type": "markdown",
   "metadata": {},
   "source": [
    "# duplicated"
   ]
  },
  {
   "cell_type": "code",
   "execution_count": 14,
   "metadata": {},
   "outputs": [
    {
     "data": {
      "text/plain": [
       "119"
      ]
     },
     "execution_count": 14,
     "metadata": {},
     "output_type": "execute_result"
    }
   ],
   "source": [
    "scrapeo_dia5['name'].duplicated().sum()"
   ]
  },
  {
   "cell_type": "code",
   "execution_count": 15,
   "metadata": {},
   "outputs": [
    {
     "data": {
      "text/plain": [
       "3041311"
      ]
     },
     "execution_count": 15,
     "metadata": {},
     "output_type": "execute_result"
    }
   ],
   "source": [
    "datamarket_dia['name'].duplicated().sum()"
   ]
  },
  {
   "cell_type": "code",
   "execution_count": 16,
   "metadata": {},
   "outputs": [
    {
     "data": {
      "text/plain": [
       "(3053473, 7)"
      ]
     },
     "execution_count": 16,
     "metadata": {},
     "output_type": "execute_result"
    }
   ],
   "source": [
    "datamarket_dia.shape"
   ]
  },
  {
   "cell_type": "markdown",
   "metadata": {},
   "source": [
    "# col dtype"
   ]
  },
  {
   "cell_type": "code",
   "execution_count": 17,
   "metadata": {},
   "outputs": [
    {
     "data": {
      "text/plain": [
       "supermarket         object\n",
       "category            object\n",
       "name                object\n",
       "price              float64\n",
       "reference_price    float64\n",
       "reference_unit      object\n",
       "insert_date         object\n",
       "dtype: object"
      ]
     },
     "execution_count": 17,
     "metadata": {},
     "output_type": "execute_result"
    }
   ],
   "source": [
    "datamarket_dia.dtypes"
   ]
  },
  {
   "cell_type": "code",
   "execution_count": 18,
   "metadata": {},
   "outputs": [
    {
     "data": {
      "text/plain": [
       "supermarket         object\n",
       "category            object\n",
       "subcategory         object\n",
       "name                object\n",
       "price              float64\n",
       "reference_price     object\n",
       "reference_unit      object\n",
       "insert_date         object\n",
       "dtype: object"
      ]
     },
     "execution_count": 18,
     "metadata": {},
     "output_type": "execute_result"
    }
   ],
   "source": [
    "scrapeo_dia5.dtypes"
   ]
  },
  {
   "cell_type": "code",
   "execution_count": 19,
   "metadata": {},
   "outputs": [
    {
     "data": {
      "text/html": [
       "<div>\n",
       "<style scoped>\n",
       "    .dataframe tbody tr th:only-of-type {\n",
       "        vertical-align: middle;\n",
       "    }\n",
       "\n",
       "    .dataframe tbody tr th {\n",
       "        vertical-align: top;\n",
       "    }\n",
       "\n",
       "    .dataframe thead th {\n",
       "        text-align: right;\n",
       "    }\n",
       "</style>\n",
       "<table border=\"1\" class=\"dataframe\">\n",
       "  <thead>\n",
       "    <tr style=\"text-align: right;\">\n",
       "      <th></th>\n",
       "      <th>supermarket</th>\n",
       "      <th>category</th>\n",
       "      <th>name</th>\n",
       "      <th>price</th>\n",
       "      <th>reference_price</th>\n",
       "      <th>reference_unit</th>\n",
       "      <th>insert_date</th>\n",
       "    </tr>\n",
       "  </thead>\n",
       "  <tbody>\n",
       "    <tr>\n",
       "      <th>0</th>\n",
       "      <td>dia-es</td>\n",
       "      <td>perfumeria_e_higiene_cuidado_del_cabello_champu</td>\n",
       "      <td>FLEX champú con Keratina para cabello normal f...</td>\n",
       "      <td>3.39</td>\n",
       "      <td>5.22</td>\n",
       "      <td>l</td>\n",
       "      <td>2021-03-06</td>\n",
       "    </tr>\n",
       "    <tr>\n",
       "      <th>1</th>\n",
       "      <td>dia-es</td>\n",
       "      <td>perfumeria_e_higiene_cuidado_del_cabello_champu</td>\n",
       "      <td>FLEX champú con Keratina fortificante frasco 6...</td>\n",
       "      <td>3.39</td>\n",
       "      <td>5.22</td>\n",
       "      <td>l</td>\n",
       "      <td>2021-03-06</td>\n",
       "    </tr>\n",
       "    <tr>\n",
       "      <th>2</th>\n",
       "      <td>dia-es</td>\n",
       "      <td>perfumeria_e_higiene_cuidado_del_cabello_champu</td>\n",
       "      <td>GLISS champú reparador total frasco 250 ml</td>\n",
       "      <td>2.99</td>\n",
       "      <td>11.96</td>\n",
       "      <td>l</td>\n",
       "      <td>2021-03-06</td>\n",
       "    </tr>\n",
       "    <tr>\n",
       "      <th>3</th>\n",
       "      <td>dia-es</td>\n",
       "      <td>perfumeria_e_higiene_cuidado_del_cabello_champu</td>\n",
       "      <td>GLISS champú reparador ultimate frasco 250 ml</td>\n",
       "      <td>2.99</td>\n",
       "      <td>11.96</td>\n",
       "      <td>l</td>\n",
       "      <td>2021-03-06</td>\n",
       "    </tr>\n",
       "    <tr>\n",
       "      <th>4</th>\n",
       "      <td>dia-es</td>\n",
       "      <td>perfumeria_e_higiene_cuidado_del_cabello_champu</td>\n",
       "      <td>NATUR VITAL champú protección color cabellos c...</td>\n",
       "      <td>3.99</td>\n",
       "      <td>13.30</td>\n",
       "      <td>l</td>\n",
       "      <td>2021-03-06</td>\n",
       "    </tr>\n",
       "  </tbody>\n",
       "</table>\n",
       "</div>"
      ],
      "text/plain": [
       "  supermarket                                         category  \\\n",
       "0      dia-es  perfumeria_e_higiene_cuidado_del_cabello_champu   \n",
       "1      dia-es  perfumeria_e_higiene_cuidado_del_cabello_champu   \n",
       "2      dia-es  perfumeria_e_higiene_cuidado_del_cabello_champu   \n",
       "3      dia-es  perfumeria_e_higiene_cuidado_del_cabello_champu   \n",
       "4      dia-es  perfumeria_e_higiene_cuidado_del_cabello_champu   \n",
       "\n",
       "                                                name  price  reference_price  \\\n",
       "0  FLEX champú con Keratina para cabello normal f...   3.39             5.22   \n",
       "1  FLEX champú con Keratina fortificante frasco 6...   3.39             5.22   \n",
       "2         GLISS champú reparador total frasco 250 ml   2.99            11.96   \n",
       "3      GLISS champú reparador ultimate frasco 250 ml   2.99            11.96   \n",
       "4  NATUR VITAL champú protección color cabellos c...   3.99            13.30   \n",
       "\n",
       "  reference_unit insert_date  \n",
       "0              l  2021-03-06  \n",
       "1              l  2021-03-06  \n",
       "2              l  2021-03-06  \n",
       "3              l  2021-03-06  \n",
       "4              l  2021-03-06  "
      ]
     },
     "execution_count": 19,
     "metadata": {},
     "output_type": "execute_result"
    }
   ],
   "source": [
    "datamarket_dia['insert_date'] = datamarket_dia['insert_date'].str.split(' ', expand = True).get(0) #get nos permite quedarnos con la primera parte de la lista\n",
    "datamarket_dia.head()"
   ]
  },
  {
   "cell_type": "code",
   "execution_count": 20,
   "metadata": {},
   "outputs": [
    {
     "data": {
      "text/html": [
       "<div>\n",
       "<style scoped>\n",
       "    .dataframe tbody tr th:only-of-type {\n",
       "        vertical-align: middle;\n",
       "    }\n",
       "\n",
       "    .dataframe tbody tr th {\n",
       "        vertical-align: top;\n",
       "    }\n",
       "\n",
       "    .dataframe thead th {\n",
       "        text-align: right;\n",
       "    }\n",
       "</style>\n",
       "<table border=\"1\" class=\"dataframe\">\n",
       "  <thead>\n",
       "    <tr style=\"text-align: right;\">\n",
       "      <th></th>\n",
       "      <th>supermarket</th>\n",
       "      <th>category</th>\n",
       "      <th>subcategory</th>\n",
       "      <th>name</th>\n",
       "      <th>price</th>\n",
       "      <th>reference_price</th>\n",
       "      <th>reference_unit</th>\n",
       "      <th>insert_date</th>\n",
       "    </tr>\n",
       "  </thead>\n",
       "  <tbody>\n",
       "    <tr>\n",
       "      <th>0</th>\n",
       "      <td>dia-es</td>\n",
       "      <td>charcuteria_y_quesos</td>\n",
       "      <td>jamon_cocido_lacon_fiambres_y_mortadela</td>\n",
       "      <td>Pechuga de pavo NUESTRA ALACENA pack 2 unidade...</td>\n",
       "      <td>3.55</td>\n",
       "      <td>8.88</td>\n",
       "      <td>kilo</td>\n",
       "      <td>2023-07-10</td>\n",
       "    </tr>\n",
       "    <tr>\n",
       "      <th>1</th>\n",
       "      <td>dia-es</td>\n",
       "      <td>charcuteria_y_quesos</td>\n",
       "      <td>jamon_cocido_lacon_fiambres_y_mortadela</td>\n",
       "      <td>Jamón cocido extra NUESTRA ALACENA pack 2 unid...</td>\n",
       "      <td>3.59</td>\n",
       "      <td>7.98</td>\n",
       "      <td>kilo</td>\n",
       "      <td>2023-07-10</td>\n",
       "    </tr>\n",
       "    <tr>\n",
       "      <th>2</th>\n",
       "      <td>dia-es</td>\n",
       "      <td>charcuteria_y_quesos</td>\n",
       "      <td>jamon_cocido_lacon_fiambres_y_mortadela</td>\n",
       "      <td>Bacon en tiras NUESTRA ALACENA pack 2 unidades...</td>\n",
       "      <td>1.79</td>\n",
       "      <td>8.95</td>\n",
       "      <td>kilo</td>\n",
       "      <td>2023-07-10</td>\n",
       "    </tr>\n",
       "    <tr>\n",
       "      <th>3</th>\n",
       "      <td>dia-es</td>\n",
       "      <td>charcuteria_y_quesos</td>\n",
       "      <td>jamon_cocido_lacon_fiambres_y_mortadela</td>\n",
       "      <td>Bacon NUESTRA ALACENA  SOBRE 200 GR</td>\n",
       "      <td>1.99</td>\n",
       "      <td>9.95</td>\n",
       "      <td>kilo</td>\n",
       "      <td>2023-07-10</td>\n",
       "    </tr>\n",
       "    <tr>\n",
       "      <th>4</th>\n",
       "      <td>dia-es</td>\n",
       "      <td>charcuteria_y_quesos</td>\n",
       "      <td>jamon_cocido_lacon_fiambres_y_mortadela</td>\n",
       "      <td>Jamón cocido extra 97% carne NUESTRA ALACENA  ...</td>\n",
       "      <td>2.05</td>\n",
       "      <td>13.67</td>\n",
       "      <td>kilo</td>\n",
       "      <td>2023-07-10</td>\n",
       "    </tr>\n",
       "  </tbody>\n",
       "</table>\n",
       "</div>"
      ],
      "text/plain": [
       "  supermarket              category                              subcategory  \\\n",
       "0      dia-es  charcuteria_y_quesos  jamon_cocido_lacon_fiambres_y_mortadela   \n",
       "1      dia-es  charcuteria_y_quesos  jamon_cocido_lacon_fiambres_y_mortadela   \n",
       "2      dia-es  charcuteria_y_quesos  jamon_cocido_lacon_fiambres_y_mortadela   \n",
       "3      dia-es  charcuteria_y_quesos  jamon_cocido_lacon_fiambres_y_mortadela   \n",
       "4      dia-es  charcuteria_y_quesos  jamon_cocido_lacon_fiambres_y_mortadela   \n",
       "\n",
       "                                                name  price reference_price  \\\n",
       "0  Pechuga de pavo NUESTRA ALACENA pack 2 unidade...   3.55            8.88   \n",
       "1  Jamón cocido extra NUESTRA ALACENA pack 2 unid...   3.59            7.98   \n",
       "2  Bacon en tiras NUESTRA ALACENA pack 2 unidades...   1.79            8.95   \n",
       "3                Bacon NUESTRA ALACENA  SOBRE 200 GR   1.99            9.95   \n",
       "4  Jamón cocido extra 97% carne NUESTRA ALACENA  ...   2.05           13.67   \n",
       "\n",
       "  reference_unit insert_date  \n",
       "0           kilo  2023-07-10  \n",
       "1           kilo  2023-07-10  \n",
       "2           kilo  2023-07-10  \n",
       "3           kilo  2023-07-10  \n",
       "4           kilo  2023-07-10  "
      ]
     },
     "execution_count": 20,
     "metadata": {},
     "output_type": "execute_result"
    }
   ],
   "source": [
    "scrapeo_dia5.head()"
   ]
  },
  {
   "cell_type": "code",
   "execution_count": 21,
   "metadata": {},
   "outputs": [
    {
     "data": {
      "text/plain": [
       "array(['l', 'kg', 'ud', 'lavado', 'm', nan], dtype=object)"
      ]
     },
     "execution_count": 21,
     "metadata": {},
     "output_type": "execute_result"
    }
   ],
   "source": [
    "datamarket_dia['reference_unit'].unique()"
   ]
  },
  {
   "cell_type": "code",
   "execution_count": 22,
   "metadata": {},
   "outputs": [
    {
     "data": {
      "text/plain": [
       "array(['kilo', 'unidad', 'litro', 'docena', '100 gr.', 'lavado',\n",
       "       '100 ml.', 'metro'], dtype=object)"
      ]
     },
     "execution_count": 22,
     "metadata": {},
     "output_type": "execute_result"
    }
   ],
   "source": [
    "scrapeo_dia5['reference_unit'].unique()"
   ]
  },
  {
   "cell_type": "code",
   "execution_count": 23,
   "metadata": {},
   "outputs": [],
   "source": [
    "unidades = scrapeo_dia5['reference_unit'].tolist()\n"
   ]
  },
  {
   "cell_type": "code",
   "execution_count": 24,
   "metadata": {},
   "outputs": [],
   "source": [
    "nuevas_uds = []\n",
    "\n",
    "for u in unidades:\n",
    "\n",
    "    if u == 'kilo':\n",
    "        nuevas_uds.append('kg')\n",
    "\n",
    "    elif u == 'unidad':\n",
    "        nuevas_uds.append('ud')\n",
    "\n",
    "    elif u == 'litro':\n",
    "        nuevas_uds.append('l')\n",
    "\n",
    "    elif u == 'metro':\n",
    "        nuevas_uds.append('m')\n",
    "\n",
    "    elif u == 'lavado':\n",
    "        nuevas_uds.append('lavado')\n",
    "\n",
    "    else:\n",
    "        nuevas_uds.append(np.nan)\n"
   ]
  },
  {
   "cell_type": "code",
   "execution_count": 25,
   "metadata": {},
   "outputs": [],
   "source": [
    "scrapeo_dia5['reference_unit'] = nuevas_uds"
   ]
  },
  {
   "cell_type": "code",
   "execution_count": 26,
   "metadata": {},
   "outputs": [
    {
     "data": {
      "text/html": [
       "<div>\n",
       "<style scoped>\n",
       "    .dataframe tbody tr th:only-of-type {\n",
       "        vertical-align: middle;\n",
       "    }\n",
       "\n",
       "    .dataframe tbody tr th {\n",
       "        vertical-align: top;\n",
       "    }\n",
       "\n",
       "    .dataframe thead th {\n",
       "        text-align: right;\n",
       "    }\n",
       "</style>\n",
       "<table border=\"1\" class=\"dataframe\">\n",
       "  <thead>\n",
       "    <tr style=\"text-align: right;\">\n",
       "      <th></th>\n",
       "      <th>supermarket</th>\n",
       "      <th>category</th>\n",
       "      <th>subcategory</th>\n",
       "      <th>name</th>\n",
       "      <th>price</th>\n",
       "      <th>reference_price</th>\n",
       "      <th>reference_unit</th>\n",
       "      <th>insert_date</th>\n",
       "    </tr>\n",
       "  </thead>\n",
       "  <tbody>\n",
       "    <tr>\n",
       "      <th>0</th>\n",
       "      <td>dia-es</td>\n",
       "      <td>charcuteria_y_quesos</td>\n",
       "      <td>jamon_cocido_lacon_fiambres_y_mortadela</td>\n",
       "      <td>Pechuga de pavo NUESTRA ALACENA pack 2 unidade...</td>\n",
       "      <td>3.55</td>\n",
       "      <td>8.88</td>\n",
       "      <td>kg</td>\n",
       "      <td>2023-07-10</td>\n",
       "    </tr>\n",
       "    <tr>\n",
       "      <th>1</th>\n",
       "      <td>dia-es</td>\n",
       "      <td>charcuteria_y_quesos</td>\n",
       "      <td>jamon_cocido_lacon_fiambres_y_mortadela</td>\n",
       "      <td>Jamón cocido extra NUESTRA ALACENA pack 2 unid...</td>\n",
       "      <td>3.59</td>\n",
       "      <td>7.98</td>\n",
       "      <td>kg</td>\n",
       "      <td>2023-07-10</td>\n",
       "    </tr>\n",
       "    <tr>\n",
       "      <th>2</th>\n",
       "      <td>dia-es</td>\n",
       "      <td>charcuteria_y_quesos</td>\n",
       "      <td>jamon_cocido_lacon_fiambres_y_mortadela</td>\n",
       "      <td>Bacon en tiras NUESTRA ALACENA pack 2 unidades...</td>\n",
       "      <td>1.79</td>\n",
       "      <td>8.95</td>\n",
       "      <td>kg</td>\n",
       "      <td>2023-07-10</td>\n",
       "    </tr>\n",
       "    <tr>\n",
       "      <th>3</th>\n",
       "      <td>dia-es</td>\n",
       "      <td>charcuteria_y_quesos</td>\n",
       "      <td>jamon_cocido_lacon_fiambres_y_mortadela</td>\n",
       "      <td>Bacon NUESTRA ALACENA  SOBRE 200 GR</td>\n",
       "      <td>1.99</td>\n",
       "      <td>9.95</td>\n",
       "      <td>kg</td>\n",
       "      <td>2023-07-10</td>\n",
       "    </tr>\n",
       "    <tr>\n",
       "      <th>4</th>\n",
       "      <td>dia-es</td>\n",
       "      <td>charcuteria_y_quesos</td>\n",
       "      <td>jamon_cocido_lacon_fiambres_y_mortadela</td>\n",
       "      <td>Jamón cocido extra 97% carne NUESTRA ALACENA  ...</td>\n",
       "      <td>2.05</td>\n",
       "      <td>13.67</td>\n",
       "      <td>kg</td>\n",
       "      <td>2023-07-10</td>\n",
       "    </tr>\n",
       "  </tbody>\n",
       "</table>\n",
       "</div>"
      ],
      "text/plain": [
       "  supermarket              category                              subcategory  \\\n",
       "0      dia-es  charcuteria_y_quesos  jamon_cocido_lacon_fiambres_y_mortadela   \n",
       "1      dia-es  charcuteria_y_quesos  jamon_cocido_lacon_fiambres_y_mortadela   \n",
       "2      dia-es  charcuteria_y_quesos  jamon_cocido_lacon_fiambres_y_mortadela   \n",
       "3      dia-es  charcuteria_y_quesos  jamon_cocido_lacon_fiambres_y_mortadela   \n",
       "4      dia-es  charcuteria_y_quesos  jamon_cocido_lacon_fiambres_y_mortadela   \n",
       "\n",
       "                                                name  price reference_price  \\\n",
       "0  Pechuga de pavo NUESTRA ALACENA pack 2 unidade...   3.55            8.88   \n",
       "1  Jamón cocido extra NUESTRA ALACENA pack 2 unid...   3.59            7.98   \n",
       "2  Bacon en tiras NUESTRA ALACENA pack 2 unidades...   1.79            8.95   \n",
       "3                Bacon NUESTRA ALACENA  SOBRE 200 GR   1.99            9.95   \n",
       "4  Jamón cocido extra 97% carne NUESTRA ALACENA  ...   2.05           13.67   \n",
       "\n",
       "  reference_unit insert_date  \n",
       "0             kg  2023-07-10  \n",
       "1             kg  2023-07-10  \n",
       "2             kg  2023-07-10  \n",
       "3             kg  2023-07-10  \n",
       "4             kg  2023-07-10  "
      ]
     },
     "execution_count": 26,
     "metadata": {},
     "output_type": "execute_result"
    }
   ],
   "source": [
    "scrapeo_dia5.head()"
   ]
  },
  {
   "cell_type": "code",
   "execution_count": 27,
   "metadata": {},
   "outputs": [
    {
     "data": {
      "text/plain": [
       "array(['kg', 'ud', 'l', nan, 'lavado', 'm'], dtype=object)"
      ]
     },
     "execution_count": 27,
     "metadata": {},
     "output_type": "execute_result"
    }
   ],
   "source": [
    "scrapeo_dia5['reference_unit'].unique()"
   ]
  },
  {
   "cell_type": "code",
   "execution_count": 28,
   "metadata": {},
   "outputs": [],
   "source": [
    "scrapeo_dia5['insert_date'] = pd.to_datetime(scrapeo_dia5['insert_date'])\n",
    "datamarket_dia['insert_date'] = pd.to_datetime(datamarket_dia['insert_date'])"
   ]
  },
  {
   "cell_type": "code",
   "execution_count": 29,
   "metadata": {},
   "outputs": [
    {
     "data": {
      "text/plain": [
       "supermarket                object\n",
       "category                   object\n",
       "subcategory                object\n",
       "name                       object\n",
       "price                     float64\n",
       "reference_price            object\n",
       "reference_unit             object\n",
       "insert_date        datetime64[ns]\n",
       "dtype: object"
      ]
     },
     "execution_count": 29,
     "metadata": {},
     "output_type": "execute_result"
    }
   ],
   "source": [
    "scrapeo_dia5.dtypes"
   ]
  },
  {
   "cell_type": "code",
   "execution_count": 30,
   "metadata": {},
   "outputs": [
    {
     "data": {
      "text/plain": [
       "supermarket                object\n",
       "category                   object\n",
       "name                       object\n",
       "price                     float64\n",
       "reference_price           float64\n",
       "reference_unit             object\n",
       "insert_date        datetime64[ns]\n",
       "dtype: object"
      ]
     },
     "execution_count": 30,
     "metadata": {},
     "output_type": "execute_result"
    }
   ],
   "source": [
    "datamarket_dia.dtypes"
   ]
  },
  {
   "cell_type": "code",
   "execution_count": 32,
   "metadata": {},
   "outputs": [
    {
     "data": {
      "text/plain": [
       "supermarket                                                   dia-es\n",
       "category                                  galletas_bollos_y_cereales\n",
       "subcategory                                                 bolleria\n",
       "name               Mini palmeritas al cacao VIRGEN DEL BREZO   BO...\n",
       "price                                                           2.35\n",
       "reference_price                                            13.823.53\n",
       "reference_unit                                                    kg\n",
       "insert_date                                      2023-07-10 00:00:00\n",
       "Name: 2698, dtype: object"
      ]
     },
     "execution_count": 32,
     "metadata": {},
     "output_type": "execute_result"
    }
   ],
   "source": [
    "scrapeo_dia5.iloc[2698] # xddd\n",
    "\n",
    "# https://www.dia.es/galletas-bollos-y-cereales/bolleria/p/282311"
   ]
  },
  {
   "cell_type": "code",
   "execution_count": 33,
   "metadata": {},
   "outputs": [
    {
     "data": {
      "text/plain": [
       "'13.82'"
      ]
     },
     "execution_count": 33,
     "metadata": {},
     "output_type": "execute_result"
    }
   ],
   "source": [
    "scrapeo_dia5.iloc[2698, scrapeo_dia5.columns.get_loc('reference_price')] = '13.82'\n",
    "scrapeo_dia5['reference_price'].iloc[2698]"
   ]
  },
  {
   "cell_type": "code",
   "execution_count": 34,
   "metadata": {},
   "outputs": [],
   "source": [
    "scrapeo_dia5['reference_price'] = pd.to_numeric(scrapeo_dia5['reference_price'])"
   ]
  },
  {
   "cell_type": "code",
   "execution_count": 35,
   "metadata": {},
   "outputs": [
    {
     "data": {
      "text/plain": [
       "supermarket                object\n",
       "category                   object\n",
       "subcategory                object\n",
       "name                       object\n",
       "price                     float64\n",
       "reference_price           float64\n",
       "reference_unit             object\n",
       "insert_date        datetime64[ns]\n",
       "dtype: object"
      ]
     },
     "execution_count": 35,
     "metadata": {},
     "output_type": "execute_result"
    }
   ],
   "source": [
    "scrapeo_dia5.dtypes"
   ]
  },
  {
   "cell_type": "code",
   "execution_count": 36,
   "metadata": {},
   "outputs": [
    {
     "data": {
      "text/plain": [
       "supermarket                object\n",
       "category                   object\n",
       "name                       object\n",
       "price                     float64\n",
       "reference_price           float64\n",
       "reference_unit             object\n",
       "insert_date        datetime64[ns]\n",
       "dtype: object"
      ]
     },
     "execution_count": 36,
     "metadata": {},
     "output_type": "execute_result"
    }
   ],
   "source": [
    "datamarket_dia.dtypes"
   ]
  },
  {
   "cell_type": "code",
   "execution_count": null,
   "metadata": {},
   "outputs": [],
   "source": []
  },
  {
   "cell_type": "code",
   "execution_count": null,
   "metadata": {},
   "outputs": [],
   "source": []
  },
  {
   "cell_type": "code",
   "execution_count": null,
   "metadata": {},
   "outputs": [],
   "source": []
  },
  {
   "cell_type": "code",
   "execution_count": null,
   "metadata": {},
   "outputs": [],
   "source": []
  },
  {
   "cell_type": "code",
   "execution_count": null,
   "metadata": {},
   "outputs": [],
   "source": []
  },
  {
   "cell_type": "code",
   "execution_count": null,
   "metadata": {},
   "outputs": [],
   "source": []
  },
  {
   "cell_type": "code",
   "execution_count": null,
   "metadata": {},
   "outputs": [],
   "source": []
  },
  {
   "cell_type": "code",
   "execution_count": null,
   "metadata": {},
   "outputs": [],
   "source": []
  },
  {
   "cell_type": "code",
   "execution_count": null,
   "metadata": {},
   "outputs": [],
   "source": []
  },
  {
   "cell_type": "code",
   "execution_count": null,
   "metadata": {},
   "outputs": [],
   "source": []
  },
  {
   "cell_type": "code",
   "execution_count": null,
   "metadata": {},
   "outputs": [],
   "source": []
  },
  {
   "cell_type": "code",
   "execution_count": null,
   "metadata": {},
   "outputs": [],
   "source": []
  }
 ],
 "metadata": {
  "kernelspec": {
   "display_name": "Python 3",
   "language": "python",
   "name": "python3"
  },
  "language_info": {
   "codemirror_mode": {
    "name": "ipython",
    "version": 3
   },
   "file_extension": ".py",
   "mimetype": "text/x-python",
   "name": "python",
   "nbconvert_exporter": "python",
   "pygments_lexer": "ipython3",
   "version": "3.10.9"
  },
  "orig_nbformat": 4
 },
 "nbformat": 4,
 "nbformat_minor": 2
}
