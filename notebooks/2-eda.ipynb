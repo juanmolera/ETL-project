{
 "cells": [
  {
   "attachments": {},
   "cell_type": "markdown",
   "metadata": {},
   "source": [
    "# Challenge 2: Exploratory Data Analysis (EDA)"
   ]
  },
  {
   "cell_type": "code",
   "execution_count": 50,
   "metadata": {},
   "outputs": [],
   "source": [
    "# Data manipulation\n",
    "import pandas as pd # data manipulation and dataframes\n",
    "import numpy as np # arrays manipulation and mathematical operations\n",
    "\n",
    "# Fuzzy string matching\n",
    "from fuzzywuzzy import fuzz"
   ]
  },
  {
   "cell_type": "code",
   "execution_count": 51,
   "metadata": {},
   "outputs": [],
   "source": [
    "# Pandas configuration\n",
    "pd.set_option('display.max_columns', None)  # shows all columns\n",
    "pd.set_option('display.max_colwidth', None)  # shows all cell content"
   ]
  },
  {
   "cell_type": "code",
   "execution_count": 52,
   "metadata": {},
   "outputs": [],
   "source": [
    "# Reads csvs\n",
    "initial_csv = pd.read_csv('../data/datamarket-dia.csv', index_col = 0)\n",
    "scrapped_csv = pd.read_csv('../data/scrapeo(2023-07-10 14-50-32).csv', index_col = 0)\n",
    "\n",
    "# Index\n",
    "initial_csv.reset_index(drop = False, inplace = True) # resets index named by url\n",
    "\n",
    "# Nulls\n",
    "initial_csv.isnull().sum() # 3053473 description, 5480 reference_unit\n",
    "\n",
    "# Drops\n",
    "initial_csv.drop(columns=['description'], axis = 1, inplace = True) # descrition column (all values are null)\n",
    "initial_csv.drop(columns=['product_id'], axis = 1, inplace = True) # product_id column (not used information)\n",
    "scrapped_csv.drop(columns=['subcategory'], axis = 1, inplace = True) # subcategory column (not used information)\n",
    "\n",
    "# Checks duplicated values\n",
    "initial_csv['name'].duplicated().sum() # 3041311\n",
    "scrapped_csv['name'].duplicated().sum() # 119\n",
    "\n",
    "# Gets YYYY-MM-DD format\n",
    "initial_csv['insert_date'] = initial_csv['insert_date'].str.split(' ', expand = True).get(0) \n",
    "\n",
    "# Matches reference_unit column content between both dfs\n",
    "units = scrapped_csv['reference_unit'].tolist()\n",
    "\n",
    "new_units = []\n",
    "\n",
    "for u in units:\n",
    "\n",
    "    if u == 'kilo':\n",
    "        new_units.append('kg')\n",
    "\n",
    "    elif u == 'unidad':\n",
    "        new_units.append('ud')\n",
    "\n",
    "    elif u == 'litro':\n",
    "        new_units.append('l')\n",
    "\n",
    "    elif u == 'metro':\n",
    "        new_units.append('m')\n",
    "\n",
    "    elif u == 'lavado':\n",
    "        new_units.append('lavado')\n",
    "\n",
    "    else:\n",
    "        new_units.append(np.nan)\n",
    "\n",
    "scrapped_csv['reference_unit'] = new_units\n",
    "\n",
    "# Adjusts column dtypes\n",
    "initial_csv['insert_date'] = pd.to_datetime(initial_csv['insert_date']) # to datetime\n",
    "scrapped_csv['insert_date'] = pd.to_datetime(scrapped_csv['insert_date']) # to datetime\n",
    "scrapped_csv.iloc[2698, scrapped_csv.columns.get_loc('reference_price')] = '13.82' # corrects supermarket labelling error\n",
    "scrapped_csv['reference_price'] = pd.to_numeric(scrapped_csv['reference_price']) # to float\n",
    "\n",
    "# No url info for scraped csv\n",
    "scrapped_csv['url'] = np.nan\n"
   ]
  },
  {
   "cell_type": "code",
   "execution_count": null,
   "metadata": {},
   "outputs": [],
   "source": []
  },
  {
   "cell_type": "code",
   "execution_count": null,
   "metadata": {},
   "outputs": [],
   "source": []
  },
  {
   "cell_type": "code",
   "execution_count": null,
   "metadata": {},
   "outputs": [],
   "source": []
  },
  {
   "cell_type": "code",
   "execution_count": null,
   "metadata": {},
   "outputs": [],
   "source": []
  },
  {
   "cell_type": "code",
   "execution_count": null,
   "metadata": {},
   "outputs": [],
   "source": []
  },
  {
   "cell_type": "code",
   "execution_count": null,
   "metadata": {},
   "outputs": [],
   "source": []
  },
  {
   "cell_type": "code",
   "execution_count": null,
   "metadata": {},
   "outputs": [],
   "source": []
  },
  {
   "cell_type": "code",
   "execution_count": null,
   "metadata": {},
   "outputs": [],
   "source": []
  },
  {
   "cell_type": "code",
   "execution_count": null,
   "metadata": {},
   "outputs": [],
   "source": []
  },
  {
   "cell_type": "code",
   "execution_count": null,
   "metadata": {},
   "outputs": [],
   "source": []
  },
  {
   "cell_type": "code",
   "execution_count": null,
   "metadata": {},
   "outputs": [],
   "source": []
  },
  {
   "cell_type": "code",
   "execution_count": null,
   "metadata": {},
   "outputs": [],
   "source": []
  },
  {
   "cell_type": "code",
   "execution_count": null,
   "metadata": {},
   "outputs": [],
   "source": []
  },
  {
   "cell_type": "code",
   "execution_count": null,
   "metadata": {},
   "outputs": [],
   "source": []
  }
 ],
 "metadata": {
  "kernelspec": {
   "display_name": "Python 3",
   "language": "python",
   "name": "python3"
  },
  "language_info": {
   "codemirror_mode": {
    "name": "ipython",
    "version": 3
   },
   "file_extension": ".py",
   "mimetype": "text/x-python",
   "name": "python",
   "nbconvert_exporter": "python",
   "pygments_lexer": "ipython3",
   "version": "3.10.9"
  },
  "orig_nbformat": 4
 },
 "nbformat": 4,
 "nbformat_minor": 2
}
