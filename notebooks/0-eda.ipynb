{
 "cells": [
  {
   "attachments": {},
   "cell_type": "markdown",
   "metadata": {},
   "source": [
    "# 0-eda"
   ]
  },
  {
   "cell_type": "code",
   "execution_count": 1,
   "metadata": {},
   "outputs": [],
   "source": [
    "import pandas as pd\n",
    "import numpy as np"
   ]
  },
  {
   "cell_type": "code",
   "execution_count": 2,
   "metadata": {},
   "outputs": [],
   "source": [
    "import matplotlib.pyplot as plt\n",
    "import seaborn as sns\n",
    "from datetime import datetime"
   ]
  },
  {
   "cell_type": "code",
   "execution_count": 3,
   "metadata": {},
   "outputs": [],
   "source": [
    "df_super = pd.read_csv('../data/datamarket_productos_de_supermercados.csv', index_col=0)"
   ]
  },
  {
   "cell_type": "code",
   "execution_count": null,
   "metadata": {},
   "outputs": [],
   "source": [
    "df_super.sample(10)"
   ]
  },
  {
   "cell_type": "code",
   "execution_count": null,
   "metadata": {},
   "outputs": [],
   "source": [
    "df_super.shape # 7,8 millones de registros"
   ]
  },
  {
   "cell_type": "code",
   "execution_count": null,
   "metadata": {},
   "outputs": [],
   "source": [
    "df_super.columns"
   ]
  },
  {
   "cell_type": "code",
   "execution_count": null,
   "metadata": {},
   "outputs": [],
   "source": [
    "df_super.head(1) # primero"
   ]
  },
  {
   "cell_type": "code",
   "execution_count": null,
   "metadata": {},
   "outputs": [],
   "source": [
    "df_super.tail(1) # último"
   ]
  },
  {
   "cell_type": "code",
   "execution_count": 4,
   "metadata": {},
   "outputs": [],
   "source": [
    "df_dia = df_super[df_super['supermarket']=='dia-es'] # solo supermercado día"
   ]
  },
  {
   "cell_type": "code",
   "execution_count": 5,
   "metadata": {},
   "outputs": [],
   "source": [
    "df_dia.to_csv(\"../data/datamarket-dia.csv\", index=False, sep= \",\")"
   ]
  },
  {
   "cell_type": "code",
   "execution_count": 6,
   "metadata": {},
   "outputs": [
    {
     "data": {
      "text/html": [
       "<div>\n",
       "<style scoped>\n",
       "    .dataframe tbody tr th:only-of-type {\n",
       "        vertical-align: middle;\n",
       "    }\n",
       "\n",
       "    .dataframe tbody tr th {\n",
       "        vertical-align: top;\n",
       "    }\n",
       "\n",
       "    .dataframe thead th {\n",
       "        text-align: right;\n",
       "    }\n",
       "</style>\n",
       "<table border=\"1\" class=\"dataframe\">\n",
       "  <thead>\n",
       "    <tr style=\"text-align: right;\">\n",
       "      <th></th>\n",
       "      <th>supermarket</th>\n",
       "      <th>category</th>\n",
       "      <th>name</th>\n",
       "      <th>description</th>\n",
       "      <th>price</th>\n",
       "      <th>reference_price</th>\n",
       "      <th>reference_unit</th>\n",
       "      <th>insert_date</th>\n",
       "      <th>product_id</th>\n",
       "    </tr>\n",
       "    <tr>\n",
       "      <th>url</th>\n",
       "      <th></th>\n",
       "      <th></th>\n",
       "      <th></th>\n",
       "      <th></th>\n",
       "      <th></th>\n",
       "      <th></th>\n",
       "      <th></th>\n",
       "      <th></th>\n",
       "      <th></th>\n",
       "    </tr>\n",
       "  </thead>\n",
       "  <tbody>\n",
       "    <tr>\n",
       "      <th>https://www.dia.es/compra-online/congelados/reposteria/p/196994</th>\n",
       "      <td>dia-es</td>\n",
       "      <td>congelados_carne_y_pollo</td>\n",
       "      <td>RAPUN trenza de Huesca caja 450 gr</td>\n",
       "      <td>NaN</td>\n",
       "      <td>10.45</td>\n",
       "      <td>23.22</td>\n",
       "      <td>kg</td>\n",
       "      <td>2022-07-20 00:00:00</td>\n",
       "      <td>74e304fc87ca06643e6c4a62356865b0</td>\n",
       "    </tr>\n",
       "    <tr>\n",
       "      <th>https://www.dia.es/compra-online/cuidado-personal/bano-e-higiene-personal/geles-de-duchas-y-esponjas/p/231193</th>\n",
       "      <td>dia-es</td>\n",
       "      <td>cuidado_personal_bano_e_higiene_personal_geles...</td>\n",
       "      <td>INSTITUTO ESPAÑOL gel de ducha urea bote 1250 ml</td>\n",
       "      <td>NaN</td>\n",
       "      <td>2.45</td>\n",
       "      <td>1.96</td>\n",
       "      <td>l</td>\n",
       "      <td>2022-04-18 00:00:00</td>\n",
       "      <td>ad78b752dbf36eebb305eb4707445927</td>\n",
       "    </tr>\n",
       "    <tr>\n",
       "      <th>https://www.dia.es/compra-online/bebidas/batidos-y-horchata/p/115833</th>\n",
       "      <td>dia-es</td>\n",
       "      <td>bebidas_batidos_y_horchata</td>\n",
       "      <td>DIA LACTEA batido de chocolate pack 6 unidades...</td>\n",
       "      <td>NaN</td>\n",
       "      <td>1.39</td>\n",
       "      <td>1.16</td>\n",
       "      <td>l</td>\n",
       "      <td>2021-12-25 00:00:00</td>\n",
       "      <td>5c7cc859d4168940568a6f8c10d1ec2c</td>\n",
       "    </tr>\n",
       "    <tr>\n",
       "      <th>https://www.dia.es/compra-online/despensa/sopas/caldos/p/274192</th>\n",
       "      <td>dia-es</td>\n",
       "      <td>despensa_sopas_caldos</td>\n",
       "      <td>DON SIMON caldo para paella envase 1 lt</td>\n",
       "      <td>NaN</td>\n",
       "      <td>1.85</td>\n",
       "      <td>1.85</td>\n",
       "      <td>l</td>\n",
       "      <td>2021-12-22 00:00:00</td>\n",
       "      <td>193135e916d2ceeb214989098cbe103a</td>\n",
       "    </tr>\n",
       "    <tr>\n",
       "      <th>https://www.dia.es/compra-online/cuidado-personal/cuidado-corporal/hidratacion-corporal/p/3097</th>\n",
       "      <td>dia-es</td>\n",
       "      <td>cuidado_personal_cuidado_corporal_hidratacion_...</td>\n",
       "      <td>NIVEA Soft crema hidratante intensiva tarro 30...</td>\n",
       "      <td>NaN</td>\n",
       "      <td>4.79</td>\n",
       "      <td>15.97</td>\n",
       "      <td>l</td>\n",
       "      <td>2021-08-30 00:00:00</td>\n",
       "      <td>68a0d690494b618282f439acd13f3a61</td>\n",
       "    </tr>\n",
       "  </tbody>\n",
       "</table>\n",
       "</div>"
      ],
      "text/plain": [
       "                                                   supermarket  \\\n",
       "url                                                              \n",
       "https://www.dia.es/compra-online/congelados/rep...      dia-es   \n",
       "https://www.dia.es/compra-online/cuidado-person...      dia-es   \n",
       "https://www.dia.es/compra-online/bebidas/batido...      dia-es   \n",
       "https://www.dia.es/compra-online/despensa/sopas...      dia-es   \n",
       "https://www.dia.es/compra-online/cuidado-person...      dia-es   \n",
       "\n",
       "                                                                                             category  \\\n",
       "url                                                                                                     \n",
       "https://www.dia.es/compra-online/congelados/rep...                           congelados_carne_y_pollo   \n",
       "https://www.dia.es/compra-online/cuidado-person...  cuidado_personal_bano_e_higiene_personal_geles...   \n",
       "https://www.dia.es/compra-online/bebidas/batido...                         bebidas_batidos_y_horchata   \n",
       "https://www.dia.es/compra-online/despensa/sopas...                              despensa_sopas_caldos   \n",
       "https://www.dia.es/compra-online/cuidado-person...  cuidado_personal_cuidado_corporal_hidratacion_...   \n",
       "\n",
       "                                                                                                 name  \\\n",
       "url                                                                                                     \n",
       "https://www.dia.es/compra-online/congelados/rep...                 RAPUN trenza de Huesca caja 450 gr   \n",
       "https://www.dia.es/compra-online/cuidado-person...   INSTITUTO ESPAÑOL gel de ducha urea bote 1250 ml   \n",
       "https://www.dia.es/compra-online/bebidas/batido...  DIA LACTEA batido de chocolate pack 6 unidades...   \n",
       "https://www.dia.es/compra-online/despensa/sopas...            DON SIMON caldo para paella envase 1 lt   \n",
       "https://www.dia.es/compra-online/cuidado-person...  NIVEA Soft crema hidratante intensiva tarro 30...   \n",
       "\n",
       "                                                   description  price  \\\n",
       "url                                                                     \n",
       "https://www.dia.es/compra-online/congelados/rep...         NaN  10.45   \n",
       "https://www.dia.es/compra-online/cuidado-person...         NaN   2.45   \n",
       "https://www.dia.es/compra-online/bebidas/batido...         NaN   1.39   \n",
       "https://www.dia.es/compra-online/despensa/sopas...         NaN   1.85   \n",
       "https://www.dia.es/compra-online/cuidado-person...         NaN   4.79   \n",
       "\n",
       "                                                    reference_price  \\\n",
       "url                                                                   \n",
       "https://www.dia.es/compra-online/congelados/rep...            23.22   \n",
       "https://www.dia.es/compra-online/cuidado-person...             1.96   \n",
       "https://www.dia.es/compra-online/bebidas/batido...             1.16   \n",
       "https://www.dia.es/compra-online/despensa/sopas...             1.85   \n",
       "https://www.dia.es/compra-online/cuidado-person...            15.97   \n",
       "\n",
       "                                                   reference_unit  \\\n",
       "url                                                                 \n",
       "https://www.dia.es/compra-online/congelados/rep...             kg   \n",
       "https://www.dia.es/compra-online/cuidado-person...              l   \n",
       "https://www.dia.es/compra-online/bebidas/batido...              l   \n",
       "https://www.dia.es/compra-online/despensa/sopas...              l   \n",
       "https://www.dia.es/compra-online/cuidado-person...              l   \n",
       "\n",
       "                                                            insert_date  \\\n",
       "url                                                                       \n",
       "https://www.dia.es/compra-online/congelados/rep...  2022-07-20 00:00:00   \n",
       "https://www.dia.es/compra-online/cuidado-person...  2022-04-18 00:00:00   \n",
       "https://www.dia.es/compra-online/bebidas/batido...  2021-12-25 00:00:00   \n",
       "https://www.dia.es/compra-online/despensa/sopas...  2021-12-22 00:00:00   \n",
       "https://www.dia.es/compra-online/cuidado-person...  2021-08-30 00:00:00   \n",
       "\n",
       "                                                                          product_id  \n",
       "url                                                                                   \n",
       "https://www.dia.es/compra-online/congelados/rep...  74e304fc87ca06643e6c4a62356865b0  \n",
       "https://www.dia.es/compra-online/cuidado-person...  ad78b752dbf36eebb305eb4707445927  \n",
       "https://www.dia.es/compra-online/bebidas/batido...  5c7cc859d4168940568a6f8c10d1ec2c  \n",
       "https://www.dia.es/compra-online/despensa/sopas...  193135e916d2ceeb214989098cbe103a  \n",
       "https://www.dia.es/compra-online/cuidado-person...  68a0d690494b618282f439acd13f3a61  "
      ]
     },
     "execution_count": 6,
     "metadata": {},
     "output_type": "execute_result"
    }
   ],
   "source": [
    "df_dia.sample(5)"
   ]
  },
  {
   "cell_type": "code",
   "execution_count": null,
   "metadata": {},
   "outputs": [],
   "source": [
    "df_dia.shape # 3 millones de registros"
   ]
  },
  {
   "cell_type": "code",
   "execution_count": null,
   "metadata": {},
   "outputs": [],
   "source": [
    "df_dia.dtypes"
   ]
  },
  {
   "cell_type": "code",
   "execution_count": null,
   "metadata": {},
   "outputs": [],
   "source": [
    "df_dia['insert_date'] = pd.to_datetime(df_dia['insert_date'])"
   ]
  },
  {
   "cell_type": "code",
   "execution_count": null,
   "metadata": {},
   "outputs": [],
   "source": [
    "df_dia.dtypes"
   ]
  },
  {
   "cell_type": "code",
   "execution_count": null,
   "metadata": {},
   "outputs": [],
   "source": [
    "df_dia.sample(5)"
   ]
  },
  {
   "cell_type": "code",
   "execution_count": 11,
   "metadata": {},
   "outputs": [
    {
     "data": {
      "text/plain": [
       "supermarket              0\n",
       "category                 0\n",
       "name                     0\n",
       "description        3053473\n",
       "price                    6\n",
       "reference_price          6\n",
       "reference_unit        5480\n",
       "insert_date              0\n",
       "product_id               0\n",
       "dtype: int64"
      ]
     },
     "execution_count": 11,
     "metadata": {},
     "output_type": "execute_result"
    }
   ],
   "source": [
    "df_dia.isnull().sum()\n"
   ]
  },
  {
   "cell_type": "code",
   "execution_count": null,
   "metadata": {},
   "outputs": [],
   "source": []
  },
  {
   "cell_type": "code",
   "execution_count": null,
   "metadata": {},
   "outputs": [],
   "source": []
  },
  {
   "cell_type": "code",
   "execution_count": null,
   "metadata": {},
   "outputs": [],
   "source": []
  },
  {
   "cell_type": "code",
   "execution_count": null,
   "metadata": {},
   "outputs": [],
   "source": []
  },
  {
   "cell_type": "code",
   "execution_count": null,
   "metadata": {},
   "outputs": [],
   "source": []
  },
  {
   "cell_type": "code",
   "execution_count": null,
   "metadata": {},
   "outputs": [],
   "source": []
  },
  {
   "cell_type": "code",
   "execution_count": null,
   "metadata": {},
   "outputs": [],
   "source": []
  },
  {
   "cell_type": "code",
   "execution_count": null,
   "metadata": {},
   "outputs": [],
   "source": []
  },
  {
   "cell_type": "code",
   "execution_count": null,
   "metadata": {},
   "outputs": [],
   "source": []
  },
  {
   "cell_type": "code",
   "execution_count": null,
   "metadata": {},
   "outputs": [],
   "source": []
  },
  {
   "cell_type": "code",
   "execution_count": null,
   "metadata": {},
   "outputs": [],
   "source": []
  },
  {
   "cell_type": "code",
   "execution_count": null,
   "metadata": {},
   "outputs": [],
   "source": []
  },
  {
   "cell_type": "code",
   "execution_count": null,
   "metadata": {},
   "outputs": [],
   "source": []
  },
  {
   "cell_type": "code",
   "execution_count": null,
   "metadata": {},
   "outputs": [],
   "source": []
  },
  {
   "cell_type": "code",
   "execution_count": null,
   "metadata": {},
   "outputs": [],
   "source": []
  }
 ],
 "metadata": {
  "kernelspec": {
   "display_name": "Python 3 (ipykernel)",
   "language": "python",
   "name": "python3"
  },
  "language_info": {
   "codemirror_mode": {
    "name": "ipython",
    "version": 3
   },
   "file_extension": ".py",
   "mimetype": "text/x-python",
   "name": "python",
   "nbconvert_exporter": "python",
   "pygments_lexer": "ipython3",
   "version": "3.10.9"
  },
  "toc": {
   "base_numbering": 1,
   "nav_menu": {},
   "number_sections": true,
   "sideBar": true,
   "skip_h1_title": true,
   "title_cell": "Table of Contents",
   "title_sidebar": "Contents",
   "toc_cell": false,
   "toc_position": {},
   "toc_section_display": true,
   "toc_window_display": false
  }
 },
 "nbformat": 4,
 "nbformat_minor": 4
}
