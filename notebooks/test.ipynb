{
 "cells": [
  {
   "cell_type": "code",
   "execution_count": 1,
   "metadata": {},
   "outputs": [],
   "source": [
    "# Data manipulation\n",
    "import pandas as pd # data manipulation and dataframes\n",
    "import numpy as np # arrays manipulation and mathematical operations\n",
    "\n",
    "# Data visualization\n",
    "import matplotlib.pyplot as plt\n",
    "import seaborn as sns\n",
    "\n",
    "# Datetime\n",
    "from datetime import datetime\n",
    "\n",
    "# Te quiero demasiado\n",
    "from tqdm import tqdm"
   ]
  },
  {
   "cell_type": "code",
   "execution_count": 30,
   "metadata": {},
   "outputs": [],
   "source": [
    "# Reads csvs\n",
    "initial = pd.read_csv('../eda/initial.csv', index_col = 0)\n",
    "scraped = pd.read_csv('../eda/scraped.csv', index_col = 0)\n",
    "\n",
    "scraped['hue'] = 'scraped'\n",
    "initial['hue'] = 'initial'\n",
    "\n",
    "frames = [initial, scraped]\n",
    "concatenation = pd.concat(frames)\n",
    "\n",
    "unique_dates = concatenation['insert_date'].unique();\n",
    "unique_categories = concatenation['category'].unique();\n"
   ]
  },
  {
   "cell_type": "code",
   "execution_count": 3,
   "metadata": {},
   "outputs": [
    {
     "data": {
      "text/html": [
       "<div>\n",
       "<style scoped>\n",
       "    .dataframe tbody tr th:only-of-type {\n",
       "        vertical-align: middle;\n",
       "    }\n",
       "\n",
       "    .dataframe tbody tr th {\n",
       "        vertical-align: top;\n",
       "    }\n",
       "\n",
       "    .dataframe thead th {\n",
       "        text-align: right;\n",
       "    }\n",
       "</style>\n",
       "<table border=\"1\" class=\"dataframe\">\n",
       "  <thead>\n",
       "    <tr style=\"text-align: right;\">\n",
       "      <th></th>\n",
       "      <th>url</th>\n",
       "      <th>supermarket</th>\n",
       "      <th>category</th>\n",
       "      <th>name</th>\n",
       "      <th>price</th>\n",
       "      <th>reference_price</th>\n",
       "      <th>reference_unit</th>\n",
       "      <th>insert_date</th>\n",
       "    </tr>\n",
       "  </thead>\n",
       "  <tbody>\n",
       "    <tr>\n",
       "      <th>0</th>\n",
       "      <td>https://www.dia.es/compra-online/productos/per...</td>\n",
       "      <td>dia-es</td>\n",
       "      <td>perfumeria_higiene_salud</td>\n",
       "      <td>FLEX champú con Keratina para cabello normal f...</td>\n",
       "      <td>3.39</td>\n",
       "      <td>5.22</td>\n",
       "      <td>l</td>\n",
       "      <td>2021-03-06</td>\n",
       "    </tr>\n",
       "  </tbody>\n",
       "</table>\n",
       "</div>"
      ],
      "text/plain": [
       "                                                 url supermarket  \\\n",
       "0  https://www.dia.es/compra-online/productos/per...      dia-es   \n",
       "\n",
       "                   category  \\\n",
       "0  perfumeria_higiene_salud   \n",
       "\n",
       "                                                name  price  reference_price  \\\n",
       "0  FLEX champú con Keratina para cabello normal f...   3.39             5.22   \n",
       "\n",
       "  reference_unit insert_date  \n",
       "0              l  2021-03-06  "
      ]
     },
     "execution_count": 3,
     "metadata": {},
     "output_type": "execute_result"
    }
   ],
   "source": [
    "initial.head(1) #2021-03-06"
   ]
  },
  {
   "cell_type": "code",
   "execution_count": 4,
   "metadata": {},
   "outputs": [
    {
     "data": {
      "text/html": [
       "<div>\n",
       "<style scoped>\n",
       "    .dataframe tbody tr th:only-of-type {\n",
       "        vertical-align: middle;\n",
       "    }\n",
       "\n",
       "    .dataframe tbody tr th {\n",
       "        vertical-align: top;\n",
       "    }\n",
       "\n",
       "    .dataframe thead th {\n",
       "        text-align: right;\n",
       "    }\n",
       "</style>\n",
       "<table border=\"1\" class=\"dataframe\">\n",
       "  <thead>\n",
       "    <tr style=\"text-align: right;\">\n",
       "      <th></th>\n",
       "      <th>url</th>\n",
       "      <th>supermarket</th>\n",
       "      <th>category</th>\n",
       "      <th>name</th>\n",
       "      <th>price</th>\n",
       "      <th>reference_price</th>\n",
       "      <th>reference_unit</th>\n",
       "      <th>insert_date</th>\n",
       "    </tr>\n",
       "  </thead>\n",
       "  <tbody>\n",
       "    <tr>\n",
       "      <th>3053472</th>\n",
       "      <td>https://www.dia.es/compra-online/despensa/desa...</td>\n",
       "      <td>dia-es</td>\n",
       "      <td>galletas_bollos_y_cereales</td>\n",
       "      <td>REGLERO pastas artesanas estuche 400 gr</td>\n",
       "      <td>4.29</td>\n",
       "      <td>10.73</td>\n",
       "      <td>kg</td>\n",
       "      <td>2022-08-18</td>\n",
       "    </tr>\n",
       "  </tbody>\n",
       "</table>\n",
       "</div>"
      ],
      "text/plain": [
       "                                                       url supermarket  \\\n",
       "3053472  https://www.dia.es/compra-online/despensa/desa...      dia-es   \n",
       "\n",
       "                           category                                     name  \\\n",
       "3053472  galletas_bollos_y_cereales  REGLERO pastas artesanas estuche 400 gr   \n",
       "\n",
       "         price  reference_price reference_unit insert_date  \n",
       "3053472   4.29            10.73             kg  2022-08-18  "
      ]
     },
     "execution_count": 4,
     "metadata": {},
     "output_type": "execute_result"
    }
   ],
   "source": [
    "initial.tail(1) #2022-08-18"
   ]
  },
  {
   "cell_type": "code",
   "execution_count": 7,
   "metadata": {},
   "outputs": [
    {
     "data": {
      "text/html": [
       "<div>\n",
       "<style scoped>\n",
       "    .dataframe tbody tr th:only-of-type {\n",
       "        vertical-align: middle;\n",
       "    }\n",
       "\n",
       "    .dataframe tbody tr th {\n",
       "        vertical-align: top;\n",
       "    }\n",
       "\n",
       "    .dataframe thead th {\n",
       "        text-align: right;\n",
       "    }\n",
       "</style>\n",
       "<table border=\"1\" class=\"dataframe\">\n",
       "  <thead>\n",
       "    <tr style=\"text-align: right;\">\n",
       "      <th></th>\n",
       "      <th>url</th>\n",
       "      <th>supermarket</th>\n",
       "      <th>category</th>\n",
       "      <th>name</th>\n",
       "      <th>price</th>\n",
       "      <th>reference_price</th>\n",
       "      <th>reference_unit</th>\n",
       "      <th>insert_date</th>\n",
       "    </tr>\n",
       "  </thead>\n",
       "  <tbody>\n",
       "    <tr>\n",
       "      <th>0</th>\n",
       "      <td>NaN</td>\n",
       "      <td>dia-es</td>\n",
       "      <td>charcuteria_y_quesos</td>\n",
       "      <td>Pechuga de pavo NUESTRA ALACENA pack 2 unidade...</td>\n",
       "      <td>3.55</td>\n",
       "      <td>8.88</td>\n",
       "      <td>kg</td>\n",
       "      <td>2023-07-10</td>\n",
       "    </tr>\n",
       "  </tbody>\n",
       "</table>\n",
       "</div>"
      ],
      "text/plain": [
       "   url supermarket              category  \\\n",
       "0  NaN      dia-es  charcuteria_y_quesos   \n",
       "\n",
       "                                                name  price  reference_price  \\\n",
       "0  Pechuga de pavo NUESTRA ALACENA pack 2 unidade...   3.55             8.88   \n",
       "\n",
       "  reference_unit insert_date  \n",
       "0             kg  2023-07-10  "
      ]
     },
     "execution_count": 7,
     "metadata": {},
     "output_type": "execute_result"
    }
   ],
   "source": [
    "scraped.head(1)"
   ]
  },
  {
   "cell_type": "code",
   "execution_count": 10,
   "metadata": {},
   "outputs": [],
   "source": [
    "initial.isnull().sum()\n",
    "initial.dropna(axis=0, inplace=True)"
   ]
  },
  {
   "cell_type": "code",
   "execution_count": 14,
   "metadata": {},
   "outputs": [],
   "source": [
    "mean_21_22 = sum(initial['price']) / len(initial['price'])"
   ]
  },
  {
   "cell_type": "code",
   "execution_count": 15,
   "metadata": {},
   "outputs": [],
   "source": [
    "mean_23 = sum(scraped['price']) / len(scraped['price'])"
   ]
  },
  {
   "cell_type": "code",
   "execution_count": 16,
   "metadata": {},
   "outputs": [
    {
     "data": {
      "text/plain": [
       "1.002338701330084"
      ]
     },
     "execution_count": 16,
     "metadata": {},
     "output_type": "execute_result"
    }
   ],
   "source": [
    "mean_23 / mean_21_22"
   ]
  },
  {
   "cell_type": "code",
   "execution_count": 17,
   "metadata": {},
   "outputs": [
    {
     "name": "stderr",
     "output_type": "stream",
     "text": [
      "100%|██████████| 532/532 [01:44<00:00,  5.10it/s]\n"
     ]
    }
   ],
   "source": [
    "mean_price_evolution = {'dates': [], 'mean_prices': []}\n",
    "\n",
    "for d in tqdm(unique_dates):\n",
    "    mean_price_evolution['dates'].append(d)\n",
    "    mean_price_evolution['mean_prices'].append(concatenation[concatenation['insert_date'] == d]['price'].mean())"
   ]
  },
  {
   "cell_type": "code",
   "execution_count": 18,
   "metadata": {},
   "outputs": [
    {
     "data": {
      "image/png": "[encoded data removed]",
      "text/plain": [
       "<Figure size 2000x800 with 1 Axes>"
      ]
     },
     "metadata": {},
     "output_type": "display_data"
    }
   ],
   "source": [
    "plt.figure(figsize =(20,8))\n",
    "\n",
    "bar_plot = sns.barplot(x = mean_price_evolution['dates'], y = mean_price_evolution['mean_prices'], palette= \"mako\")\n",
    "\n",
    "plt.title('History of the evolution of the average price of the DIA supermarket')\n",
    "plt.xlabel('Date')\n",
    "plt.ylabel('Average price')\n",
    "plt.xticks(rotation=90);\n",
    "\n",
    "plt.axhline(mean_21_22, color='red', linewidth=2, linestyle='dotted')\n",
    "plt.axhline(mean_23, color='blue', linewidth=2, linestyle='dotted')\n",
    "\n",
    "for index, label in enumerate(bar_plot.get_xticklabels()):\n",
    "   if index % 5 == 0:\n",
    "      label.set_visible(True)\n",
    "   else:\n",
    "      label.set_visible(False)\n",
    "plt.show()"
   ]
  },
  {
   "cell_type": "code",
   "execution_count": null,
   "metadata": {},
   "outputs": [],
   "source": [
    "sns.barplot(concatenation, \n",
    "            x = 'category', \n",
    "            y = 'Count',\n",
    "            hue = 'Sex')"
   ]
  },
  {
   "cell_type": "code",
   "execution_count": 31,
   "metadata": {},
   "outputs": [
    {
     "name": "stderr",
     "output_type": "stream",
     "text": [
      "100%|██████████| 26/26 [00:05<00:00,  5.16it/s]\n"
     ]
    }
   ],
   "source": [
    "mean_price_by_categories = {'categories': [], 'mean_prices': []}\n",
    "\n",
    "for c in tqdm(unique_categories):\n",
    "    mean_price_by_categories['categories'].append(c)\n",
    "    mean_price_by_categories['mean_prices'].append(concatenation[concatenation['category'] == c]['price'].mean())"
   ]
  },
  {
   "cell_type": "code",
   "execution_count": 37,
   "metadata": {},
   "outputs": [
    {
     "data": {
      "text/plain": [
       "{'categories': ['perfumeria_higiene_salud',\n",
       "  'cervezas_vinos_y_bebidas_con_alcohol',\n",
       "  'bebe',\n",
       "  'solidario',\n",
       "  'limpieza_y_hogar',\n",
       "  'panes_harinas_y_masas',\n",
       "  'pescados_mariscos_y_ahumados',\n",
       "  'verduras',\n",
       "  'charcuteria_y_quesos',\n",
       "  'aceites_salsas_y_especias',\n",
       "  'patatas_fritas_encurtidos_y_frutos_secos',\n",
       "  'conservas_caldos_y_cremas',\n",
       "  'arroz_pastas_y_legumbres',\n",
       "  'pizzas_y_platos_preparados',\n",
       "  'mascotas',\n",
       "  'agua_refrescos_y_zumos',\n",
       "  'congelados',\n",
       "  'leche_huevos_y_mantequilla',\n",
       "  'carniceria',\n",
       "  'galletas_bollos_y_cereales',\n",
       "  'frutas',\n",
       "  'cafe_cacao_e_infusiones',\n",
       "  'azucar_chocolates_y_caramelos',\n",
       "  'yogures_y_postres',\n",
       "  'internacional',\n",
       "  'navidad'],\n",
       " 'mean_prices': [4.553563670649869,\n",
       "  4.967957060031111,\n",
       "  4.800689561320801,\n",
       "  2.8390570719602977,\n",
       "  3.2654626779530593,\n",
       "  1.756382982536312,\n",
       "  4.945456671187392,\n",
       "  1.465266157821036,\n",
       "  5.241368444493932,\n",
       "  2.386084337891733,\n",
       "  1.6315500770962195,\n",
       "  2.111836630097518,\n",
       "  1.6012216510432415,\n",
       "  2.606751037506852,\n",
       "  3.937536042538418,\n",
       "  1.508584671700565,\n",
       "  3.045511205976521,\n",
       "  1.8655196740729167,\n",
       "  3.9540955604220587,\n",
       "  2.2510346518276974,\n",
       "  2.1426577943047262,\n",
       "  3.2740853308612543,\n",
       "  2.017679850101697,\n",
       "  2.3692205732411917,\n",
       "  1.7869240904765389,\n",
       "  2.416713986502211]}"
      ]
     },
     "execution_count": 37,
     "metadata": {},
     "output_type": "execute_result"
    }
   ],
   "source": [
    "mean_price_by_categories"
   ]
  },
  {
   "cell_type": "code",
   "execution_count": 38,
   "metadata": {},
   "outputs": [
    {
     "ename": "KeyboardInterrupt",
     "evalue": "",
     "output_type": "error",
     "traceback": [
      "\u001b[0;31m---------------------------------------------------------------------------\u001b[0m",
      "\u001b[0;31mKeyboardInterrupt\u001b[0m                         Traceback (most recent call last)",
      "Cell \u001b[0;32mIn[38], line 5\u001b[0m\n\u001b[1;32m      1\u001b[0m df \u001b[39m=\u001b[39m concatenation\u001b[39m.\u001b[39mgroupby([\u001b[39m'\u001b[39m\u001b[39mcategory\u001b[39m\u001b[39m'\u001b[39m, \u001b[39m'\u001b[39m\u001b[39mhue\u001b[39m\u001b[39m'\u001b[39m])\u001b[39m.\u001b[39mcount()[\u001b[39m'\u001b[39m\u001b[39mprice\u001b[39m\u001b[39m'\u001b[39m]\u001b[39m.\u001b[39mreset_index()\n\u001b[1;32m      3\u001b[0m df\u001b[39m.\u001b[39mcolumns \u001b[39m=\u001b[39m [\u001b[39m'\u001b[39m\u001b[39mcategory\u001b[39m\u001b[39m'\u001b[39m, \u001b[39m'\u001b[39m\u001b[39mhue\u001b[39m\u001b[39m'\u001b[39m, \u001b[39m'\u001b[39m\u001b[39mprice\u001b[39m\u001b[39m'\u001b[39m]\n\u001b[0;32m----> 5\u001b[0m sns\u001b[39m.\u001b[39;49mbarplot(df, \n\u001b[1;32m      6\u001b[0m             x \u001b[39m=\u001b[39;49m \u001b[39m'\u001b[39;49m\u001b[39mcategory\u001b[39;49m\u001b[39m'\u001b[39;49m, \n\u001b[1;32m      7\u001b[0m             y \u001b[39m=\u001b[39;49m \u001b[39m'\u001b[39;49m\u001b[39mprice\u001b[39;49m\u001b[39m'\u001b[39;49m,\n\u001b[1;32m      8\u001b[0m             hue \u001b[39m=\u001b[39;49m \u001b[39m'\u001b[39;49m\u001b[39mhue\u001b[39;49m\u001b[39m'\u001b[39;49m)\n",
      "File \u001b[0;32m~/anaconda3/lib/python3.10/site-packages/seaborn/categorical.py:2755\u001b[0m, in \u001b[0;36mbarplot\u001b[0;34m(data, x, y, hue, order, hue_order, estimator, errorbar, n_boot, units, seed, orient, color, palette, saturation, width, errcolor, errwidth, capsize, dodge, ci, ax, **kwargs)\u001b[0m\n\u001b[1;32m   2752\u001b[0m \u001b[39mif\u001b[39;00m estimator \u001b[39mis\u001b[39;00m \u001b[39mlen\u001b[39m:\n\u001b[1;32m   2753\u001b[0m     estimator \u001b[39m=\u001b[39m \u001b[39m\"\u001b[39m\u001b[39msize\u001b[39m\u001b[39m\"\u001b[39m\n\u001b[0;32m-> 2755\u001b[0m plotter \u001b[39m=\u001b[39m _BarPlotter(x, y, hue, data, order, hue_order,\n\u001b[1;32m   2756\u001b[0m                       estimator, errorbar, n_boot, units, seed,\n\u001b[1;32m   2757\u001b[0m                       orient, color, palette, saturation,\n\u001b[1;32m   2758\u001b[0m                       width, errcolor, errwidth, capsize, dodge)\n\u001b[1;32m   2760\u001b[0m \u001b[39mif\u001b[39;00m ax \u001b[39mis\u001b[39;00m \u001b[39mNone\u001b[39;00m:\n\u001b[1;32m   2761\u001b[0m     ax \u001b[39m=\u001b[39m plt\u001b[39m.\u001b[39mgca()\n",
      "File \u001b[0;32m~/anaconda3/lib/python3.10/site-packages/seaborn/categorical.py:1532\u001b[0m, in \u001b[0;36m_BarPlotter.__init__\u001b[0;34m(self, x, y, hue, data, order, hue_order, estimator, errorbar, n_boot, units, seed, orient, color, palette, saturation, width, errcolor, errwidth, capsize, dodge)\u001b[0m\n\u001b[1;32m   1529\u001b[0m \u001b[39m\"\"\"Initialize the plotter.\"\"\"\u001b[39;00m\n\u001b[1;32m   1530\u001b[0m \u001b[39mself\u001b[39m\u001b[39m.\u001b[39mestablish_variables(x, y, hue, data, orient,\n\u001b[1;32m   1531\u001b[0m                          order, hue_order, units)\n\u001b[0;32m-> 1532\u001b[0m \u001b[39mself\u001b[39;49m\u001b[39m.\u001b[39;49mestablish_colors(color, palette, saturation)\n\u001b[1;32m   1533\u001b[0m \u001b[39mself\u001b[39m\u001b[39m.\u001b[39mestimate_statistic(estimator, errorbar, n_boot, seed)\n\u001b[1;32m   1535\u001b[0m \u001b[39mself\u001b[39m\u001b[39m.\u001b[39mdodge \u001b[39m=\u001b[39m dodge\n",
      "File \u001b[0;32m~/anaconda3/lib/python3.10/site-packages/seaborn/categorical.py:670\u001b[0m, in \u001b[0;36m_CategoricalPlotter.establish_colors\u001b[0;34m(self, color, palette, saturation)\u001b[0m\n\u001b[1;32m    668\u001b[0m         colors \u001b[39m=\u001b[39m color_palette(n_colors\u001b[39m=\u001b[39mn_colors)\n\u001b[1;32m    669\u001b[0m     \u001b[39melse\u001b[39;00m:\n\u001b[0;32m--> 670\u001b[0m         colors \u001b[39m=\u001b[39m husl_palette(n_colors, l\u001b[39m=\u001b[39;49m\u001b[39m.7\u001b[39;49m)  \u001b[39m# noqa\u001b[39;00m\n\u001b[1;32m    672\u001b[0m \u001b[39melif\u001b[39;00m palette \u001b[39mis\u001b[39;00m \u001b[39mNone\u001b[39;00m:\n\u001b[1;32m    673\u001b[0m     \u001b[39m# When passing a specific color, the interpretation depends\u001b[39;00m\n\u001b[1;32m    674\u001b[0m     \u001b[39m# on whether there is a hue variable or not.\u001b[39;00m\n\u001b[1;32m    675\u001b[0m     \u001b[39m# If so, we will make a blend palette so that the different\u001b[39;00m\n\u001b[1;32m    676\u001b[0m     \u001b[39m# levels have some amount of variation.\u001b[39;00m\n\u001b[1;32m    677\u001b[0m     \u001b[39mif\u001b[39;00m \u001b[39mself\u001b[39m\u001b[39m.\u001b[39mhue_names \u001b[39mis\u001b[39;00m \u001b[39mNone\u001b[39;00m:\n",
      "File \u001b[0;32m~/anaconda3/lib/python3.10/site-packages/seaborn/palettes.py:359\u001b[0m, in \u001b[0;36mhusl_palette\u001b[0;34m(n_colors, h, s, l, as_cmap)\u001b[0m\n\u001b[1;32m    357\u001b[0m s \u001b[39m*\u001b[39m\u001b[39m=\u001b[39m \u001b[39m99\u001b[39m\n\u001b[1;32m    358\u001b[0m l \u001b[39m*\u001b[39m\u001b[39m=\u001b[39m \u001b[39m99\u001b[39m  \u001b[39m# noqa\u001b[39;00m\n\u001b[0;32m--> 359\u001b[0m palette \u001b[39m=\u001b[39m [_color_to_rgb((h_i, s, l), \u001b[39minput\u001b[39m\u001b[39m=\u001b[39m\u001b[39m\"\u001b[39m\u001b[39mhusl\u001b[39m\u001b[39m\"\u001b[39m) \u001b[39mfor\u001b[39;00m h_i \u001b[39min\u001b[39;00m hues]\n\u001b[1;32m    360\u001b[0m \u001b[39mif\u001b[39;00m as_cmap:\n\u001b[1;32m    361\u001b[0m     \u001b[39mreturn\u001b[39;00m mpl\u001b[39m.\u001b[39mcolors\u001b[39m.\u001b[39mListedColormap(palette, \u001b[39m\"\u001b[39m\u001b[39mhsl\u001b[39m\u001b[39m\"\u001b[39m)\n",
      "File \u001b[0;32m~/anaconda3/lib/python3.10/site-packages/seaborn/palettes.py:359\u001b[0m, in \u001b[0;36m<listcomp>\u001b[0;34m(.0)\u001b[0m\n\u001b[1;32m    357\u001b[0m s \u001b[39m*\u001b[39m\u001b[39m=\u001b[39m \u001b[39m99\u001b[39m\n\u001b[1;32m    358\u001b[0m l \u001b[39m*\u001b[39m\u001b[39m=\u001b[39m \u001b[39m99\u001b[39m  \u001b[39m# noqa\u001b[39;00m\n\u001b[0;32m--> 359\u001b[0m palette \u001b[39m=\u001b[39m [_color_to_rgb((h_i, s, l), \u001b[39minput\u001b[39;49m\u001b[39m=\u001b[39;49m\u001b[39m\"\u001b[39;49m\u001b[39mhusl\u001b[39;49m\u001b[39m\"\u001b[39;49m) \u001b[39mfor\u001b[39;00m h_i \u001b[39min\u001b[39;00m hues]\n\u001b[1;32m    360\u001b[0m \u001b[39mif\u001b[39;00m as_cmap:\n\u001b[1;32m    361\u001b[0m     \u001b[39mreturn\u001b[39;00m mpl\u001b[39m.\u001b[39mcolors\u001b[39m.\u001b[39mListedColormap(palette, \u001b[39m\"\u001b[39m\u001b[39mhsl\u001b[39m\u001b[39m\"\u001b[39m)\n",
      "File \u001b[0;32m~/anaconda3/lib/python3.10/site-packages/seaborn/palettes.py:426\u001b[0m, in \u001b[0;36m_color_to_rgb\u001b[0;34m(color, input)\u001b[0m\n\u001b[1;32m    424\u001b[0m \u001b[39melif\u001b[39;00m \u001b[39minput\u001b[39m \u001b[39m==\u001b[39m \u001b[39m\"\u001b[39m\u001b[39mhusl\u001b[39m\u001b[39m\"\u001b[39m:\n\u001b[1;32m    425\u001b[0m     color \u001b[39m=\u001b[39m husl\u001b[39m.\u001b[39mhusl_to_rgb(\u001b[39m*\u001b[39mcolor)\n\u001b[0;32m--> 426\u001b[0m     color \u001b[39m=\u001b[39m \u001b[39mtuple\u001b[39m(np\u001b[39m.\u001b[39;49mclip(color, \u001b[39m0\u001b[39;49m, \u001b[39m1\u001b[39;49m))\n\u001b[1;32m    427\u001b[0m \u001b[39melif\u001b[39;00m \u001b[39minput\u001b[39m \u001b[39m==\u001b[39m \u001b[39m\"\u001b[39m\u001b[39mxkcd\u001b[39m\u001b[39m\"\u001b[39m:\n\u001b[1;32m    428\u001b[0m     color \u001b[39m=\u001b[39m xkcd_rgb[color]\n",
      "File \u001b[0;32m<__array_function__ internals>:180\u001b[0m, in \u001b[0;36mclip\u001b[0;34m(*args, **kwargs)\u001b[0m\n",
      "File \u001b[0;32m~/anaconda3/lib/python3.10/site-packages/numpy/core/fromnumeric.py:2154\u001b[0m, in \u001b[0;36mclip\u001b[0;34m(a, a_min, a_max, out, **kwargs)\u001b[0m\n\u001b[1;32m   2085\u001b[0m \u001b[39m@array_function_dispatch\u001b[39m(_clip_dispatcher)\n\u001b[1;32m   2086\u001b[0m \u001b[39mdef\u001b[39;00m \u001b[39mclip\u001b[39m(a, a_min, a_max, out\u001b[39m=\u001b[39m\u001b[39mNone\u001b[39;00m, \u001b[39m*\u001b[39m\u001b[39m*\u001b[39mkwargs):\n\u001b[1;32m   2087\u001b[0m     \u001b[39m\"\"\"\u001b[39;00m\n\u001b[1;32m   2088\u001b[0m \u001b[39m    Clip (limit) the values in an array.\u001b[39;00m\n\u001b[1;32m   2089\u001b[0m \n\u001b[0;32m   (...)\u001b[0m\n\u001b[1;32m   2152\u001b[0m \n\u001b[1;32m   2153\u001b[0m \u001b[39m    \"\"\"\u001b[39;00m\n\u001b[0;32m-> 2154\u001b[0m     \u001b[39mreturn\u001b[39;00m _wrapfunc(a, \u001b[39m'\u001b[39;49m\u001b[39mclip\u001b[39;49m\u001b[39m'\u001b[39;49m, a_min, a_max, out\u001b[39m=\u001b[39;49mout, \u001b[39m*\u001b[39;49m\u001b[39m*\u001b[39;49mkwargs)\n",
      "File \u001b[0;32m~/anaconda3/lib/python3.10/site-packages/numpy/core/fromnumeric.py:54\u001b[0m, in \u001b[0;36m_wrapfunc\u001b[0;34m(obj, method, *args, **kwds)\u001b[0m\n\u001b[1;32m     52\u001b[0m bound \u001b[39m=\u001b[39m \u001b[39mgetattr\u001b[39m(obj, method, \u001b[39mNone\u001b[39;00m)\n\u001b[1;32m     53\u001b[0m \u001b[39mif\u001b[39;00m bound \u001b[39mis\u001b[39;00m \u001b[39mNone\u001b[39;00m:\n\u001b[0;32m---> 54\u001b[0m     \u001b[39mreturn\u001b[39;00m _wrapit(obj, method, \u001b[39m*\u001b[39;49margs, \u001b[39m*\u001b[39;49m\u001b[39m*\u001b[39;49mkwds)\n\u001b[1;32m     56\u001b[0m \u001b[39mtry\u001b[39;00m:\n\u001b[1;32m     57\u001b[0m     \u001b[39mreturn\u001b[39;00m bound(\u001b[39m*\u001b[39margs, \u001b[39m*\u001b[39m\u001b[39m*\u001b[39mkwds)\n",
      "File \u001b[0;32m~/anaconda3/lib/python3.10/site-packages/numpy/core/fromnumeric.py:43\u001b[0m, in \u001b[0;36m_wrapit\u001b[0;34m(obj, method, *args, **kwds)\u001b[0m\n\u001b[1;32m     41\u001b[0m \u001b[39mexcept\u001b[39;00m \u001b[39mAttributeError\u001b[39;00m:\n\u001b[1;32m     42\u001b[0m     wrap \u001b[39m=\u001b[39m \u001b[39mNone\u001b[39;00m\n\u001b[0;32m---> 43\u001b[0m result \u001b[39m=\u001b[39m \u001b[39mgetattr\u001b[39;49m(asarray(obj), method)(\u001b[39m*\u001b[39;49margs, \u001b[39m*\u001b[39;49m\u001b[39m*\u001b[39;49mkwds)\n\u001b[1;32m     44\u001b[0m \u001b[39mif\u001b[39;00m wrap:\n\u001b[1;32m     45\u001b[0m     \u001b[39mif\u001b[39;00m \u001b[39mnot\u001b[39;00m \u001b[39misinstance\u001b[39m(result, mu\u001b[39m.\u001b[39mndarray):\n",
      "File \u001b[0;32m~/anaconda3/lib/python3.10/site-packages/numpy/core/_methods.py:135\u001b[0m, in \u001b[0;36m_clip\u001b[0;34m(a, min, max, out, casting, **kwargs)\u001b[0m\n\u001b[1;32m    133\u001b[0m \u001b[39mif\u001b[39;00m \u001b[39mnot\u001b[39;00m _clip_dep_is_byte_swapped(a) \u001b[39mand\u001b[39;00m \u001b[39mnot\u001b[39;00m _clip_dep_is_byte_swapped(out):\n\u001b[1;32m    134\u001b[0m     using_deprecated_nan \u001b[39m=\u001b[39m \u001b[39mFalse\u001b[39;00m\n\u001b[0;32m--> 135\u001b[0m     \u001b[39mif\u001b[39;00m _clip_dep_is_scalar_nan(\u001b[39mmin\u001b[39;49m):\n\u001b[1;32m    136\u001b[0m         \u001b[39mmin\u001b[39m \u001b[39m=\u001b[39m \u001b[39m-\u001b[39m\u001b[39mfloat\u001b[39m(\u001b[39m'\u001b[39m\u001b[39minf\u001b[39m\u001b[39m'\u001b[39m)\n\u001b[1;32m    137\u001b[0m         using_deprecated_nan \u001b[39m=\u001b[39m \u001b[39mTrue\u001b[39;00m\n",
      "File \u001b[0;32m~/anaconda3/lib/python3.10/site-packages/numpy/core/_methods.py:95\u001b[0m, in \u001b[0;36m_clip_dep_is_scalar_nan\u001b[0;34m(a)\u001b[0m\n\u001b[1;32m     92\u001b[0m \u001b[39mdef\u001b[39;00m \u001b[39m_clip_dep_is_scalar_nan\u001b[39m(a):\n\u001b[1;32m     93\u001b[0m     \u001b[39m# guarded to protect circular imports\u001b[39;00m\n\u001b[1;32m     94\u001b[0m     \u001b[39mfrom\u001b[39;00m \u001b[39mnumpy\u001b[39;00m\u001b[39m.\u001b[39;00m\u001b[39mcore\u001b[39;00m\u001b[39m.\u001b[39;00m\u001b[39mfromnumeric\u001b[39;00m \u001b[39mimport\u001b[39;00m ndim\n\u001b[0;32m---> 95\u001b[0m     \u001b[39mif\u001b[39;00m ndim(a) \u001b[39m!=\u001b[39m \u001b[39m0\u001b[39m:\n\u001b[1;32m     96\u001b[0m         \u001b[39mreturn\u001b[39;00m \u001b[39mFalse\u001b[39;00m\n\u001b[1;32m     97\u001b[0m     \u001b[39mtry\u001b[39;00m:\n",
      "File \u001b[0;32m<__array_function__ internals>:179\u001b[0m, in \u001b[0;36mndim\u001b[0;34m(*args, **kwargs)\u001b[0m\n",
      "File \u001b[0;32m~/anaconda3/lib/python3.10/site-packages/numpy/core/fromnumeric.py:3117\u001b[0m, in \u001b[0;36m_ndim_dispatcher\u001b[0;34m(a)\u001b[0m\n\u001b[1;32m   3055\u001b[0m     \u001b[39m\"\"\"\u001b[39;00m\n\u001b[1;32m   3056\u001b[0m \u001b[39m    Return the cumulative product of elements along a given axis.\u001b[39;00m\n\u001b[1;32m   3057\u001b[0m \n\u001b[0;32m   (...)\u001b[0m\n\u001b[1;32m   3112\u001b[0m \n\u001b[1;32m   3113\u001b[0m \u001b[39m    \"\"\"\u001b[39;00m\n\u001b[1;32m   3114\u001b[0m     \u001b[39mreturn\u001b[39;00m _wrapfunc(a, \u001b[39m'\u001b[39m\u001b[39mcumprod\u001b[39m\u001b[39m'\u001b[39m, axis\u001b[39m=\u001b[39maxis, dtype\u001b[39m=\u001b[39mdtype, out\u001b[39m=\u001b[39mout)\n\u001b[0;32m-> 3117\u001b[0m \u001b[39mdef\u001b[39;00m \u001b[39m_ndim_dispatcher\u001b[39m(a):\n\u001b[1;32m   3118\u001b[0m     \u001b[39mreturn\u001b[39;00m (a,)\n\u001b[1;32m   3121\u001b[0m \u001b[39m@array_function_dispatch\u001b[39m(_ndim_dispatcher)\n\u001b[1;32m   3122\u001b[0m \u001b[39mdef\u001b[39;00m \u001b[39mndim\u001b[39m(a):\n",
      "\u001b[0;31mKeyboardInterrupt\u001b[0m: "
     ]
    }
   ],
   "source": [
    "df = concatenation.groupby(['category', 'hue']).mean()['price'].reset_index()\n",
    "\n",
    "df.columns = ['category', 'hue', 'price']\n",
    "\n",
    "sns.barplot(df, \n",
    "            x = 'category', \n",
    "            y = 'price',\n",
    "            hue = 'hue')"
   ]
  },
  {
   "cell_type": "code",
   "execution_count": 35,
   "metadata": {},
   "outputs": [
    {
     "ename": "ValueError",
     "evalue": "Could not interpret input 'hue'",
     "output_type": "error",
     "traceback": [
      "\u001b[0;31m---------------------------------------------------------------------------\u001b[0m",
      "\u001b[0;31mValueError\u001b[0m                                Traceback (most recent call last)",
      "Cell \u001b[0;32mIn[35], line 3\u001b[0m\n\u001b[1;32m      1\u001b[0m plt\u001b[39m.\u001b[39mfigure(figsize \u001b[39m=\u001b[39m(\u001b[39m20\u001b[39m,\u001b[39m8\u001b[39m))\n\u001b[0;32m----> 3\u001b[0m sns\u001b[39m.\u001b[39;49mbarplot(x \u001b[39m=\u001b[39;49m mean_price_by_categories[\u001b[39m'\u001b[39;49m\u001b[39mcategories\u001b[39;49m\u001b[39m'\u001b[39;49m], y \u001b[39m=\u001b[39;49m mean_price_by_categories[\u001b[39m'\u001b[39;49m\u001b[39mmean_prices\u001b[39;49m\u001b[39m'\u001b[39;49m], hue \u001b[39m=\u001b[39;49m \u001b[39m'\u001b[39;49m\u001b[39mhue\u001b[39;49m\u001b[39m'\u001b[39;49m, palette\u001b[39m=\u001b[39;49m \u001b[39m\"\u001b[39;49m\u001b[39mmako\u001b[39;49m\u001b[39m\"\u001b[39;49m)\n\u001b[1;32m      5\u001b[0m plt\u001b[39m.\u001b[39mtitle(\u001b[39m'\u001b[39m\u001b[39mAverage price by category\u001b[39m\u001b[39m'\u001b[39m)\n\u001b[1;32m      6\u001b[0m plt\u001b[39m.\u001b[39mxlabel(\u001b[39m'\u001b[39m\u001b[39mCategory\u001b[39m\u001b[39m'\u001b[39m)\n",
      "File \u001b[0;32m~/anaconda3/lib/python3.10/site-packages/seaborn/categorical.py:2755\u001b[0m, in \u001b[0;36mbarplot\u001b[0;34m(data, x, y, hue, order, hue_order, estimator, errorbar, n_boot, units, seed, orient, color, palette, saturation, width, errcolor, errwidth, capsize, dodge, ci, ax, **kwargs)\u001b[0m\n\u001b[1;32m   2752\u001b[0m \u001b[39mif\u001b[39;00m estimator \u001b[39mis\u001b[39;00m \u001b[39mlen\u001b[39m:\n\u001b[1;32m   2753\u001b[0m     estimator \u001b[39m=\u001b[39m \u001b[39m\"\u001b[39m\u001b[39msize\u001b[39m\u001b[39m\"\u001b[39m\n\u001b[0;32m-> 2755\u001b[0m plotter \u001b[39m=\u001b[39m _BarPlotter(x, y, hue, data, order, hue_order,\n\u001b[1;32m   2756\u001b[0m                       estimator, errorbar, n_boot, units, seed,\n\u001b[1;32m   2757\u001b[0m                       orient, color, palette, saturation,\n\u001b[1;32m   2758\u001b[0m                       width, errcolor, errwidth, capsize, dodge)\n\u001b[1;32m   2760\u001b[0m \u001b[39mif\u001b[39;00m ax \u001b[39mis\u001b[39;00m \u001b[39mNone\u001b[39;00m:\n\u001b[1;32m   2761\u001b[0m     ax \u001b[39m=\u001b[39m plt\u001b[39m.\u001b[39mgca()\n",
      "File \u001b[0;32m~/anaconda3/lib/python3.10/site-packages/seaborn/categorical.py:1530\u001b[0m, in \u001b[0;36m_BarPlotter.__init__\u001b[0;34m(self, x, y, hue, data, order, hue_order, estimator, errorbar, n_boot, units, seed, orient, color, palette, saturation, width, errcolor, errwidth, capsize, dodge)\u001b[0m\n\u001b[1;32m   1525\u001b[0m \u001b[39mdef\u001b[39;00m \u001b[39m__init__\u001b[39m(\u001b[39mself\u001b[39m, x, y, hue, data, order, hue_order,\n\u001b[1;32m   1526\u001b[0m              estimator, errorbar, n_boot, units, seed,\n\u001b[1;32m   1527\u001b[0m              orient, color, palette, saturation, width,\n\u001b[1;32m   1528\u001b[0m              errcolor, errwidth, capsize, dodge):\n\u001b[1;32m   1529\u001b[0m     \u001b[39m\"\"\"Initialize the plotter.\"\"\"\u001b[39;00m\n\u001b[0;32m-> 1530\u001b[0m     \u001b[39mself\u001b[39;49m\u001b[39m.\u001b[39;49mestablish_variables(x, y, hue, data, orient,\n\u001b[1;32m   1531\u001b[0m                              order, hue_order, units)\n\u001b[1;32m   1532\u001b[0m     \u001b[39mself\u001b[39m\u001b[39m.\u001b[39mestablish_colors(color, palette, saturation)\n\u001b[1;32m   1533\u001b[0m     \u001b[39mself\u001b[39m\u001b[39m.\u001b[39mestimate_statistic(estimator, errorbar, n_boot, seed)\n",
      "File \u001b[0;32m~/anaconda3/lib/python3.10/site-packages/seaborn/categorical.py:541\u001b[0m, in \u001b[0;36m_CategoricalPlotter.establish_variables\u001b[0;34m(self, x, y, hue, data, orient, order, hue_order, units)\u001b[0m\n\u001b[1;32m    539\u001b[0m     \u001b[39mif\u001b[39;00m \u001b[39misinstance\u001b[39m(var, \u001b[39mstr\u001b[39m):\n\u001b[1;32m    540\u001b[0m         err \u001b[39m=\u001b[39m \u001b[39mf\u001b[39m\u001b[39m\"\u001b[39m\u001b[39mCould not interpret input \u001b[39m\u001b[39m'\u001b[39m\u001b[39m{\u001b[39;00mvar\u001b[39m}\u001b[39;00m\u001b[39m'\u001b[39m\u001b[39m\"\u001b[39m\n\u001b[0;32m--> 541\u001b[0m         \u001b[39mraise\u001b[39;00m \u001b[39mValueError\u001b[39;00m(err)\n\u001b[1;32m    543\u001b[0m \u001b[39m# Figure out the plotting orientation\u001b[39;00m\n\u001b[1;32m    544\u001b[0m orient \u001b[39m=\u001b[39m infer_orient(\n\u001b[1;32m    545\u001b[0m     x, y, orient, require_numeric\u001b[39m=\u001b[39m\u001b[39mself\u001b[39m\u001b[39m.\u001b[39mrequire_numeric\n\u001b[1;32m    546\u001b[0m )\n",
      "\u001b[0;31mValueError\u001b[0m: Could not interpret input 'hue'"
     ]
    },
    {
     "data": {
      "text/plain": [
       "<Figure size 2000x800 with 0 Axes>"
      ]
     },
     "metadata": {},
     "output_type": "display_data"
    }
   ],
   "source": [
    "plt.figure(figsize =(20,8))\n",
    "\n",
    "sns.barplot(x = mean_price_by_categories['categories'], y = mean_price_by_categories['mean_prices'], hue = 'hue', palette= \"mako\")\n",
    "\n",
    "plt.title('Average price by category')\n",
    "plt.xlabel('Category')\n",
    "plt.ylabel('Average price')\n",
    "plt.xticks(rotation=90);"
   ]
  },
  {
   "cell_type": "code",
   "execution_count": 36,
   "metadata": {},
   "outputs": [
    {
     "data": {
      "text/html": [
       "<div>\n",
       "<style scoped>\n",
       "    .dataframe tbody tr th:only-of-type {\n",
       "        vertical-align: middle;\n",
       "    }\n",
       "\n",
       "    .dataframe tbody tr th {\n",
       "        vertical-align: top;\n",
       "    }\n",
       "\n",
       "    .dataframe thead th {\n",
       "        text-align: right;\n",
       "    }\n",
       "</style>\n",
       "<table border=\"1\" class=\"dataframe\">\n",
       "  <thead>\n",
       "    <tr style=\"text-align: right;\">\n",
       "      <th></th>\n",
       "      <th>url</th>\n",
       "      <th>supermarket</th>\n",
       "      <th>category</th>\n",
       "      <th>name</th>\n",
       "      <th>price</th>\n",
       "      <th>reference_price</th>\n",
       "      <th>reference_unit</th>\n",
       "      <th>insert_date</th>\n",
       "      <th>hue</th>\n",
       "    </tr>\n",
       "  </thead>\n",
       "  <tbody>\n",
       "    <tr>\n",
       "      <th>0</th>\n",
       "      <td>https://www.dia.es/compra-online/productos/per...</td>\n",
       "      <td>dia-es</td>\n",
       "      <td>perfumeria_higiene_salud</td>\n",
       "      <td>FLEX champú con Keratina para cabello normal f...</td>\n",
       "      <td>3.39</td>\n",
       "      <td>5.22</td>\n",
       "      <td>l</td>\n",
       "      <td>2021-03-06</td>\n",
       "      <td>0</td>\n",
       "    </tr>\n",
       "    <tr>\n",
       "      <th>1</th>\n",
       "      <td>https://www.dia.es/compra-online/productos/per...</td>\n",
       "      <td>dia-es</td>\n",
       "      <td>perfumeria_higiene_salud</td>\n",
       "      <td>FLEX champú con Keratina fortificante frasco 6...</td>\n",
       "      <td>3.39</td>\n",
       "      <td>5.22</td>\n",
       "      <td>l</td>\n",
       "      <td>2021-03-06</td>\n",
       "      <td>1</td>\n",
       "    </tr>\n",
       "    <tr>\n",
       "      <th>2</th>\n",
       "      <td>https://www.dia.es/compra-online/productos/per...</td>\n",
       "      <td>dia-es</td>\n",
       "      <td>perfumeria_higiene_salud</td>\n",
       "      <td>GLISS champú reparador total frasco 250 ml</td>\n",
       "      <td>2.99</td>\n",
       "      <td>11.96</td>\n",
       "      <td>l</td>\n",
       "      <td>2021-03-06</td>\n",
       "      <td>2</td>\n",
       "    </tr>\n",
       "    <tr>\n",
       "      <th>3</th>\n",
       "      <td>https://www.dia.es/compra-online/productos/per...</td>\n",
       "      <td>dia-es</td>\n",
       "      <td>perfumeria_higiene_salud</td>\n",
       "      <td>GLISS champú reparador ultimate frasco 250 ml</td>\n",
       "      <td>2.99</td>\n",
       "      <td>11.96</td>\n",
       "      <td>l</td>\n",
       "      <td>2021-03-06</td>\n",
       "      <td>3</td>\n",
       "    </tr>\n",
       "    <tr>\n",
       "      <th>4</th>\n",
       "      <td>https://www.dia.es/compra-online/productos/per...</td>\n",
       "      <td>dia-es</td>\n",
       "      <td>perfumeria_higiene_salud</td>\n",
       "      <td>NATUR VITAL champú protección color cabellos c...</td>\n",
       "      <td>3.99</td>\n",
       "      <td>13.30</td>\n",
       "      <td>l</td>\n",
       "      <td>2021-03-06</td>\n",
       "      <td>4</td>\n",
       "    </tr>\n",
       "    <tr>\n",
       "      <th>...</th>\n",
       "      <td>...</td>\n",
       "      <td>...</td>\n",
       "      <td>...</td>\n",
       "      <td>...</td>\n",
       "      <td>...</td>\n",
       "      <td>...</td>\n",
       "      <td>...</td>\n",
       "      <td>...</td>\n",
       "      <td>...</td>\n",
       "    </tr>\n",
       "    <tr>\n",
       "      <th>6113</th>\n",
       "      <td>NaN</td>\n",
       "      <td>dia-es</td>\n",
       "      <td>mascotas</td>\n",
       "      <td>Finas láminas surtidas en salsa para gatos GOU...</td>\n",
       "      <td>3.79</td>\n",
       "      <td>11.15</td>\n",
       "      <td>kg</td>\n",
       "      <td>2023-07-10</td>\n",
       "      <td>6113</td>\n",
       "    </tr>\n",
       "    <tr>\n",
       "      <th>6114</th>\n",
       "      <td>NaN</td>\n",
       "      <td>dia-es</td>\n",
       "      <td>mascotas</td>\n",
       "      <td>Alimento para gatos esterilizados rico en buey...</td>\n",
       "      <td>5.69</td>\n",
       "      <td>7.11</td>\n",
       "      <td>kg</td>\n",
       "      <td>2023-07-10</td>\n",
       "      <td>6114</td>\n",
       "    </tr>\n",
       "    <tr>\n",
       "      <th>6115</th>\n",
       "      <td>NaN</td>\n",
       "      <td>dia-es</td>\n",
       "      <td>mascotas</td>\n",
       "      <td>Barritas para roedores de verdura y fruta BIOZ...</td>\n",
       "      <td>1.79</td>\n",
       "      <td>15.98</td>\n",
       "      <td>kg</td>\n",
       "      <td>2023-07-10</td>\n",
       "      <td>6115</td>\n",
       "    </tr>\n",
       "    <tr>\n",
       "      <th>6116</th>\n",
       "      <td>NaN</td>\n",
       "      <td>dia-es</td>\n",
       "      <td>mascotas</td>\n",
       "      <td>Barritas con fruta para canarios BIAZOO   BOLS...</td>\n",
       "      <td>1.49</td>\n",
       "      <td>24.83</td>\n",
       "      <td>kg</td>\n",
       "      <td>2023-07-10</td>\n",
       "      <td>6116</td>\n",
       "    </tr>\n",
       "    <tr>\n",
       "      <th>6117</th>\n",
       "      <td>NaN</td>\n",
       "      <td>dia-es</td>\n",
       "      <td>mascotas</td>\n",
       "      <td>Barritas con fruta para periquitos BIAZOO   BO...</td>\n",
       "      <td>1.49</td>\n",
       "      <td>24.83</td>\n",
       "      <td>kg</td>\n",
       "      <td>2023-07-10</td>\n",
       "      <td>6117</td>\n",
       "    </tr>\n",
       "  </tbody>\n",
       "</table>\n",
       "<p>3059591 rows × 9 columns</p>\n",
       "</div>"
      ],
      "text/plain": [
       "                                                    url supermarket  \\\n",
       "0     https://www.dia.es/compra-online/productos/per...      dia-es   \n",
       "1     https://www.dia.es/compra-online/productos/per...      dia-es   \n",
       "2     https://www.dia.es/compra-online/productos/per...      dia-es   \n",
       "3     https://www.dia.es/compra-online/productos/per...      dia-es   \n",
       "4     https://www.dia.es/compra-online/productos/per...      dia-es   \n",
       "...                                                 ...         ...   \n",
       "6113                                                NaN      dia-es   \n",
       "6114                                                NaN      dia-es   \n",
       "6115                                                NaN      dia-es   \n",
       "6116                                                NaN      dia-es   \n",
       "6117                                                NaN      dia-es   \n",
       "\n",
       "                      category  \\\n",
       "0     perfumeria_higiene_salud   \n",
       "1     perfumeria_higiene_salud   \n",
       "2     perfumeria_higiene_salud   \n",
       "3     perfumeria_higiene_salud   \n",
       "4     perfumeria_higiene_salud   \n",
       "...                        ...   \n",
       "6113                  mascotas   \n",
       "6114                  mascotas   \n",
       "6115                  mascotas   \n",
       "6116                  mascotas   \n",
       "6117                  mascotas   \n",
       "\n",
       "                                                   name  price  \\\n",
       "0     FLEX champú con Keratina para cabello normal f...   3.39   \n",
       "1     FLEX champú con Keratina fortificante frasco 6...   3.39   \n",
       "2            GLISS champú reparador total frasco 250 ml   2.99   \n",
       "3         GLISS champú reparador ultimate frasco 250 ml   2.99   \n",
       "4     NATUR VITAL champú protección color cabellos c...   3.99   \n",
       "...                                                 ...    ...   \n",
       "6113  Finas láminas surtidas en salsa para gatos GOU...   3.79   \n",
       "6114  Alimento para gatos esterilizados rico en buey...   5.69   \n",
       "6115  Barritas para roedores de verdura y fruta BIOZ...   1.79   \n",
       "6116  Barritas con fruta para canarios BIAZOO   BOLS...   1.49   \n",
       "6117  Barritas con fruta para periquitos BIAZOO   BO...   1.49   \n",
       "\n",
       "      reference_price reference_unit insert_date   hue  \n",
       "0                5.22              l  2021-03-06     0  \n",
       "1                5.22              l  2021-03-06     1  \n",
       "2               11.96              l  2021-03-06     2  \n",
       "3               11.96              l  2021-03-06     3  \n",
       "4               13.30              l  2021-03-06     4  \n",
       "...               ...            ...         ...   ...  \n",
       "6113            11.15             kg  2023-07-10  6113  \n",
       "6114             7.11             kg  2023-07-10  6114  \n",
       "6115            15.98             kg  2023-07-10  6115  \n",
       "6116            24.83             kg  2023-07-10  6116  \n",
       "6117            24.83             kg  2023-07-10  6117  \n",
       "\n",
       "[3059591 rows x 9 columns]"
      ]
     },
     "execution_count": 36,
     "metadata": {},
     "output_type": "execute_result"
    }
   ],
   "source": [
    "concatenation"
   ]
  },
  {
   "cell_type": "code",
   "execution_count": null,
   "metadata": {},
   "outputs": [],
   "source": []
  },
  {
   "cell_type": "code",
   "execution_count": null,
   "metadata": {},
   "outputs": [],
   "source": []
  },
  {
   "cell_type": "code",
   "execution_count": null,
   "metadata": {},
   "outputs": [],
   "source": []
  },
  {
   "cell_type": "code",
   "execution_count": null,
   "metadata": {},
   "outputs": [],
   "source": []
  }
 ],
 "metadata": {
  "kernelspec": {
   "display_name": "base",
   "language": "python",
   "name": "python3"
  },
  "language_info": {
   "codemirror_mode": {
    "name": "ipython",
    "version": 3
   },
   "file_extension": ".py",
   "mimetype": "text/x-python",
   "name": "python",
   "nbconvert_exporter": "python",
   "pygments_lexer": "ipython3",
   "version": "3.10.9"
  },
  "orig_nbformat": 4
 },
 "nbformat": 4,
 "nbformat_minor": 2
}
