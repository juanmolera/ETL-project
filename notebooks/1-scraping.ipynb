{
 "cells": [
  {
   "attachments": {},
   "cell_type": "markdown",
   "metadata": {},
   "source": [
    "# 1-scraping"
   ]
  },
  {
   "cell_type": "code",
   "execution_count": 1,
   "metadata": {},
   "outputs": [],
   "source": [
    "# Manejo de datos \n",
    "import pandas as pd # manejo de datos y dataframes\n",
    "import numpy as np # manejo de arrays y operaciones matematicas \n",
    "\n",
    "\n",
    "# Librerias para realizar web scraping con selenium\n",
    "from selenium import webdriver # webdriver permite manejar un navegador \n",
    "from webdriver_manager.chrome import ChromeDriverManager # permite instalar y mantener actualizado el driver de chrome\n",
    "from selenium.webdriver.common.keys import Keys # permite simular teclas del teclado \n",
    "from selenium.webdriver.chrome.options import Options # permite configurar el driver de chrome como modo incognito o maximizar la ventana\n",
    "from time import sleep # esperas entre ejecuciones de codigo\n",
    "\n",
    "\n",
    "import warnings # permite ignorar los warnings de python \n",
    "warnings.filterwarnings('ignore')"
   ]
  },
  {
   "cell_type": "code",
   "execution_count": 2,
   "metadata": {},
   "outputs": [],
   "source": [
    "import requests\n",
    "import re\n",
    "import pickle\n",
    "\n",
    "from bs4 import BeautifulSoup"
   ]
  },
  {
   "cell_type": "code",
   "execution_count": 3,
   "metadata": {},
   "outputs": [],
   "source": [
    "opciones= Options()\n",
    "opciones.add_experimental_option('excludeSwitches', ['enable-automation'])\n",
    "\n",
    "# para ocultarme como robot\n",
    "opciones.add_experimental_option('useAutomationExtension', False)\n",
    "opciones.add_argument('--start-maximized') # empezar maximizado\n",
    "opciones.add_argument('user.data-dir=selenium') # guarda las cookies\n",
    "opciones.add_argument('--incognito') # incognito window"
   ]
  },
  {
   "attachments": {},
   "cell_type": "markdown",
   "metadata": {},
   "source": [
    "# selenium"
   ]
  },
  {
   "cell_type": "code",
   "execution_count": null,
   "metadata": {},
   "outputs": [],
   "source": [
    "urls = []\n",
    "flag = 0\n",
    "flag2 = 0\n",
    "\n",
    "driver = webdriver.Chrome()\n",
    "\n",
    "driver.get(\"https://www.dia.es/\") \n",
    "sleep(3)\n",
    "\n",
    "# aceptamos las cookies \n",
    "driver.find_element(\"css selector\", '#onetrust-accept-btn-handler').click()\n",
    "sleep(2)\n",
    "\n",
    "# clicka productos\n",
    "driver.find_element(\"css selector\", '#app > div > div > div > div.home-view__header > div.dia-header > div.dia-header__section.dia-header__section--start > div > div > button').click()\n",
    "sleep(2)\n",
    "\n",
    "# para cada una de las categorías principales\n",
    "# poner un max excesivo\n",
    "for category in range(1,31):\n",
    "\n",
    "    while 1:\n",
    "\n",
    "        # intenta clickar\n",
    "        try:\n",
    "            \n",
    "            driver.find_element(\"xpath\", f'//*[@id=\"app\"]/div/div/div/div[1]/div[1]/div[1]/div/div[2]/div/div/div[2]/ul/li[{category}]/a').click()\n",
    "            flag2 = 0\n",
    "\n",
    "            for subcategory in range (1,31):\n",
    "\n",
    "                while 1:\n",
    "\n",
    "                    try:\n",
    "                        \n",
    "                        urls.append(driver.find_element(\"xpath\", f'//*[@id=\"app\"]/div/div/div/div[1]/div[1]/div[1]/div/div[2]/div/div/div[2]/ul/li[{category}]/ul/div[{subcategory}]/a').get_attribute(\"href\"))\n",
    "                        sleep(0.1)\n",
    "                        break\n",
    "\n",
    "                    except:\n",
    "\n",
    "                        flag2 = 1\n",
    "                        break\n",
    "                    \n",
    "                if flag2:\n",
    "                    break\n",
    "            \n",
    "            sleep(1)\n",
    "            break\n",
    "        \n",
    "        # break si se acaban\n",
    "        except:\n",
    "\n",
    "            flag = 1\n",
    "            break\n",
    "\n",
    "    if flag:\n",
    "\n",
    "        break\n",
    "\n",
    "driver.quit()"
   ]
  },
  {
   "cell_type": "code",
   "execution_count": 62,
   "metadata": {},
   "outputs": [],
   "source": [
    "df = pd.DataFrame(urls, columns=['url'])\n",
    "\n",
    "df.to_csv(\"../data/urls-dia.csv\", index=False, sep= \",\")"
   ]
  },
  {
   "attachments": {},
   "cell_type": "markdown",
   "metadata": {},
   "source": [
    "# sopa bonita"
   ]
  },
  {
   "cell_type": "code",
   "execution_count": 63,
   "metadata": {},
   "outputs": [],
   "source": [
    "# ['supermarket', 'category', 'name', 'description', 'price', 'reference_price', 'reference_unit', 'insert_date', 'product_id']\n",
    "\n",
    "resultados_dia = {\"supermarket\": 'dia-es',\n",
    "                \"category\":[],\n",
    "                \"name\":[], \n",
    "                \"description\": [], \n",
    "                \"price\": [], \n",
    "                \"reference_price\": [],\n",
    "                \"reference_unit\": [],\n",
    "                \"insert_date\": [],\n",
    "                \"product_id\": []}"
   ]
  },
  {
   "attachments": {},
   "cell_type": "markdown",
   "metadata": {},
   "source": [
    "# solo saca 10/20"
   ]
  },
  {
   "cell_type": "code",
   "execution_count": 63,
   "metadata": {},
   "outputs": [
    {
     "name": "stdout",
     "output_type": "stream",
     "text": [
      "200\n",
      "Cantidad de productos extraídos: 10\n",
      "<p class=\"search-product-card__product-name\">Pechuga de pavo NUESTRA ALACENA pack 2 unidades SOBRE 400 GR</p>\n",
      "Pechuga de pavo NUESTRA ALACENA pack 2 unidades SOBRE 400 GR\n"
     ]
    },
    {
     "data": {
      "text/plain": [
       "[<p class=\"search-product-card__product-name\">Pechuga de pavo NUESTRA ALACENA pack 2 unidades SOBRE 400 GR</p>,\n",
       " <p class=\"search-product-card__product-name\">Jamón cocido extra NUESTRA ALACENA pack 2 unidades SOBRE 450 GR</p>,\n",
       " <p class=\"search-product-card__product-name\">Bacon en tiras NUESTRA ALACENA pack 2 unidades BANDEJA 200 GR</p>,\n",
       " <p class=\"search-product-card__product-name\">Bacon NUESTRA ALACENA  SOBRE 200 GR</p>,\n",
       " <p class=\"search-product-card__product-name\">Jamón cocido extra 97% carne NUESTRA ALACENA  SOBRE 150 GR</p>,\n",
       " <p class=\"search-product-card__product-name\">Pechuga de pavo 90% carne NUESTRA ALACENA  SOBRE 120 GR</p>,\n",
       " <p class=\"search-product-card__product-name\">Jamón cocido extra ELPOZO 1954  SOBRE 150 GR</p>,\n",
       " <p class=\"search-product-card__product-name\">Jamón cocido extra CAMPOFRIO FINISSIMAS  SOBRE 115 GR</p>,\n",
       " <p class=\"search-product-card__product-name\">Fiambre de pavo sándwich ELPOZO   BANDEJA 270 GR</p>,\n",
       " <p class=\"search-product-card__product-name\">Pechuga de pavo CAMPOFRIO FINISSIMAS  SOBRE 115 GR</p>]"
      ]
     },
     "execution_count": 63,
     "metadata": {},
     "output_type": "execute_result"
    }
   ],
   "source": [
    "url = 'https://www.dia.es/charcuteria-y-quesos/jamon-cocido-lacon-fiambres-y-mortadela/c/L2001'\n",
    "res = requests.get(url)\n",
    "sleep(1)\n",
    "\n",
    "print(res.status_code)\n",
    "\n",
    "sopa = BeautifulSoup(res.content, 'html.parser')\n",
    "\n",
    "#productos = sopa.find_all(\"div\", {\"class\": \"search-product-card search-product-card__dia-border product-card-list__item\"})\n",
    "productos = sopa.find_all(\"p\", {\"class\": \"search-product-card__product-name\"})\n",
    "\n",
    "print(f'Cantidad de productos extraídos: {len(productos)}')\n",
    "\n",
    "print(productos[0])\n",
    "\n",
    "print(productos[0].text)\n",
    "\n",
    "productos\n"
   ]
  },
  {
   "attachments": {},
   "cell_type": "markdown",
   "metadata": {},
   "source": [
    "# scroll por pixel saca 20/20"
   ]
  },
  {
   "cell_type": "code",
   "execution_count": 36,
   "metadata": {},
   "outputs": [
    {
     "name": "stdout",
     "output_type": "stream",
     "text": [
      "Productos extraídos: 20 de 20\n",
      "Jamón cocido ELPOZO   SOBRE 140 GR\n",
      "1,50 €\n",
      " (10,71 €/KILO) \n"
     ]
    }
   ],
   "source": [
    "# Create your driver\n",
    "driver = webdriver.Chrome()\n",
    "\n",
    "# Get a page\n",
    "driver.get(\"https://www.dia.es/charcuteria-y-quesos/jamon-cocido-lacon-fiambres-y-mortadela/c/L2001\") \n",
    "sleep(2)\n",
    "\n",
    "Y = 1200\n",
    "driver.execute_script(f\"window.scrollTo(0, {Y})\") \n",
    "sleep(2)\n",
    "\n",
    "# Feed the source to BeautifulSoup\n",
    "soup = BeautifulSoup(driver.page_source, 'html.parser')\n",
    "\n",
    "productos = soup.find_all(\"p\", {\"class\": \"search-product-card__product-name\"})\n",
    "precio = soup.find_all(\"p\", {\"class\": \"search-product-card__active-price\"})\n",
    "kilo = soup.find_all(\"p\", {\"class\": \"search-product-card__price-per-unit\"})\n",
    "\n",
    "driver.quit()\n",
    "\n",
    "print(f'Productos extraídos: {len(productos)} de 20')\n",
    "\n",
    "print(productos[-1].text)\n",
    "print(precio[-1].text)\n",
    "print(kilo[-1].text)"
   ]
  },
  {
   "attachments": {},
   "cell_type": "markdown",
   "metadata": {},
   "source": [
    "# crea una lista de listas, cada lista es una página de productos"
   ]
  },
  {
   "cell_type": "code",
   "execution_count": 56,
   "metadata": {},
   "outputs": [
    {
     "name": "stdout",
     "output_type": "stream",
     "text": [
      "None\n",
      "Productos extraídos: 20 de 20\n",
      "[<p class=\"search-product-card__product-name\">Pechuga de pavo NUESTRA ALACENA pack 2 unidades SOBRE 400 GR</p>, <p class=\"search-product-card__product-name\">Jamón cocido extra NUESTRA ALACENA pack 2 unidades SOBRE 450 GR</p>, <p class=\"search-product-card__product-name\">Bacon en tiras NUESTRA ALACENA pack 2 unidades BANDEJA 200 GR</p>, <p class=\"search-product-card__product-name\">Bacon NUESTRA ALACENA  SOBRE 200 GR</p>, <p class=\"search-product-card__product-name\">Jamón cocido extra 97% carne NUESTRA ALACENA  SOBRE 150 GR</p>, <p class=\"search-product-card__product-name\">Pechuga de pavo 90% carne NUESTRA ALACENA  SOBRE 120 GR</p>, <p class=\"search-product-card__product-name\">Jamón cocido extra ELPOZO 1954  SOBRE 150 GR</p>, <p class=\"search-product-card__product-name\">Jamón cocido extra CAMPOFRIO FINISSIMAS  SOBRE 115 GR</p>, <p class=\"search-product-card__product-name\">Fiambre de pavo sándwich ELPOZO   BANDEJA 270 GR</p>, <p class=\"search-product-card__product-name\">Pechuga de pavo CAMPOFRIO FINISSIMAS  SOBRE 115 GR</p>, <p class=\"search-product-card__product-name\">Mortadela NUESTRA ALACENA  SOBRE 250 GR</p>, <p class=\"search-product-card__product-name\">Mortadela con aceitunas NUESTRA ALACENA  SOBRE 250 GR</p>, <p class=\"search-product-card__product-name\">Jamón de pavo NUESTRA ALACENA  SOBRE 200 GR</p>, <p class=\"search-product-card__product-name\">Jamón cocido extra bajo en sal NUESTRA ALACENA  SOBRE 200 GR</p>, <p class=\"search-product-card__product-name\">Bacon en lonchas ELPOZO   SOBRE 110 GR</p>, <p class=\"search-product-card__product-name\">Jamón de pavo con trufa y boletus ELPOZO   SOBRE 120 GR</p>, <p class=\"search-product-card__product-name\">Pavo maxi NUESTRA ALACENA  900 GR</p>, <p class=\"search-product-card__product-name\">Fiambre de york ELPOZO   SOBRE 300 GR</p>, <p class=\"search-product-card__product-name\">Chopped lata NUESTRA ALACENA  SOBRE 250 GR</p>, <p class=\"search-product-card__product-name\">Jamón cocido ELPOZO   SOBRE 140 GR</p>]\n",
      "[<p class=\"search-product-card__active-price\" data-test-id=\"search-product-card-unit-price\">3,55 €</p>, <p class=\"search-product-card__active-price\" data-test-id=\"search-product-card-unit-price\">3,59 €</p>, <p class=\"search-product-card__active-price\" data-test-id=\"search-product-card-unit-price\">1,79 €</p>, <p class=\"search-product-card__active-price\" data-test-id=\"search-product-card-unit-price\">1,99 €</p>, <p class=\"search-product-card__active-price\" data-test-id=\"search-product-card-unit-price\">2,05 €</p>, <p class=\"search-product-card__active-price\" data-test-id=\"search-product-card-unit-price\">2,29 €</p>, <p class=\"search-product-card__active-price\" data-test-id=\"search-product-card-unit-price\">2,00 €</p>, <p class=\"search-product-card__active-price\" data-test-id=\"search-product-card-unit-price\">2,25 €</p>, <p class=\"search-product-card__active-price\" data-test-id=\"search-product-card-unit-price\">2,00 €</p>, <p class=\"search-product-card__active-price\" data-test-id=\"search-product-card-unit-price\">2,25 €</p>, <p class=\"search-product-card__active-price\" data-test-id=\"search-product-card-unit-price\">1,35 €</p>, <p class=\"search-product-card__active-price\" data-test-id=\"search-product-card-unit-price\">1,45 €</p>, <p class=\"search-product-card__active-price\" data-test-id=\"search-product-card-unit-price\">1,65 €</p>, <p class=\"search-product-card__active-price\" data-test-id=\"search-product-card-unit-price\">1,99 €</p>, <p class=\"search-product-card__active-price\" data-test-id=\"search-product-card-unit-price\">1,50 €</p>, <p class=\"search-product-card__active-price\" data-test-id=\"search-product-card-unit-price\">2,00 €</p>, <p class=\"search-product-card__active-price\" data-test-id=\"search-product-card-unit-price\">2,85 €</p>, <p class=\"search-product-card__active-price\" data-test-id=\"search-product-card-unit-price\">2,00 €</p>, <p class=\"search-product-card__active-price\" data-test-id=\"search-product-card-unit-price\">1,99 €</p>, <p class=\"search-product-card__active-price\" data-test-id=\"search-product-card-unit-price\">1,50 €</p>]\n",
      "[<p class=\"search-product-card__price-per-unit\" data-test-id=\"search-product-card-kilo-price\"> (8,88 €/KILO) </p>, <p class=\"search-product-card__price-per-unit\" data-test-id=\"search-product-card-kilo-price\"> (7,98 €/KILO) </p>, <p class=\"search-product-card__price-per-unit\" data-test-id=\"search-product-card-kilo-price\"> (8,95 €/KILO) </p>, <p class=\"search-product-card__price-per-unit\" data-test-id=\"search-product-card-kilo-price\"> (9,95 €/KILO) </p>, <p class=\"search-product-card__price-per-unit\" data-test-id=\"search-product-card-kilo-price\"> (13,67 €/KILO) </p>, <p class=\"search-product-card__price-per-unit\" data-test-id=\"search-product-card-kilo-price\"> (19,08 €/KILO) </p>, <p class=\"search-product-card__price-per-unit\" data-test-id=\"search-product-card-kilo-price\"> (13,33 €/KILO) </p>, <p class=\"search-product-card__price-per-unit\" data-test-id=\"search-product-card-kilo-price\"> (19,57 €/KILO) </p>, <p class=\"search-product-card__price-per-unit\" data-test-id=\"search-product-card-kilo-price\"> (7,41 €/KILO) </p>, <p class=\"search-product-card__price-per-unit\" data-test-id=\"search-product-card-kilo-price\"> (19,57 €/KILO) </p>, <p class=\"search-product-card__price-per-unit\" data-test-id=\"search-product-card-kilo-price\"> (5,40 €/KILO) </p>, <p class=\"search-product-card__price-per-unit\" data-test-id=\"search-product-card-kilo-price\"> (5,80 €/KILO) </p>, <p class=\"search-product-card__price-per-unit\" data-test-id=\"search-product-card-kilo-price\"> (8,25 €/KILO) </p>, <p class=\"search-product-card__price-per-unit\" data-test-id=\"search-product-card-kilo-price\"> (9,95 €/KILO) </p>, <p class=\"search-product-card__price-per-unit\" data-test-id=\"search-product-card-kilo-price\"> (13,64 €/KILO) </p>, <p class=\"search-product-card__price-per-unit\" data-test-id=\"search-product-card-kilo-price\"> (16,67 €/KILO) </p>, <p class=\"search-product-card__price-per-unit\" data-test-id=\"search-product-card-kilo-price\"> (3,17 €/KILO) </p>, <p class=\"search-product-card__price-per-unit\" data-test-id=\"search-product-card-kilo-price\"> (6,67 €/KILO) </p>, <p class=\"search-product-card__price-per-unit\" data-test-id=\"search-product-card-kilo-price\"> (7,96 €/KILO) </p>, <p class=\"search-product-card__price-per-unit\" data-test-id=\"search-product-card-kilo-price\"> (10,71 €/KILO) </p>]\n"
     ]
    }
   ],
   "source": [
    "productos = []\n",
    "precio = []\n",
    "kilo = []\n",
    "\n",
    "# Create your driver\n",
    "driver = webdriver.Chrome()\n",
    "\n",
    "# Get a page\n",
    "driver.get(\"https://www.dia.es/charcuteria-y-quesos/jamon-cocido-lacon-fiambres-y-mortadela/c/L2001\")\n",
    "sleep(2)\n",
    "\n",
    "Y = 1200\n",
    "driver.execute_script(f\"window.scrollTo(0, {Y})\") \n",
    "sleep(2)\n",
    "\n",
    "# Feed the source to BeautifulSoup\n",
    "soup = BeautifulSoup(driver.page_source, 'html.parser')\n",
    "\n",
    "productos = soup.find_all(\"p\", {\"class\": \"search-product-card__product-name\"})\n",
    "precio = soup.find_all(\"p\", {\"class\": \"search-product-card__active-price\"})\n",
    "kilo = soup.find_all(\"p\", {\"class\": \"search-product-card__price-per-unit\"})\n",
    "\n",
    "driver.quit()\n",
    "\n",
    "print(f'Productos extraídos: {len(productos)} de 20')\n",
    "\n",
    "print(productos)\n",
    "print(precio)\n",
    "print(kilo)"
   ]
  },
  {
   "cell_type": "code",
   "execution_count": 54,
   "metadata": {},
   "outputs": [
    {
     "name": "stdout",
     "output_type": "stream",
     "text": [
      "Pechuga de pavo NUESTRA ALACENA pack 2 unidades SOBRE 400 GR\n",
      "Jamón cocido extra NUESTRA ALACENA pack 2 unidades SOBRE 450 GR\n",
      "Bacon en tiras NUESTRA ALACENA pack 2 unidades BANDEJA 200 GR\n",
      "Bacon NUESTRA ALACENA  SOBRE 200 GR\n",
      "Jamón cocido extra 97% carne NUESTRA ALACENA  SOBRE 150 GR\n",
      "Pechuga de pavo 90% carne NUESTRA ALACENA  SOBRE 120 GR\n",
      "Jamón cocido extra ELPOZO 1954  SOBRE 150 GR\n",
      "Jamón cocido extra CAMPOFRIO FINISSIMAS  SOBRE 115 GR\n",
      "Fiambre de pavo sándwich ELPOZO   BANDEJA 270 GR\n",
      "Pechuga de pavo CAMPOFRIO FINISSIMAS  SOBRE 115 GR\n",
      "Mortadela NUESTRA ALACENA  SOBRE 250 GR\n",
      "Mortadela con aceitunas NUESTRA ALACENA  SOBRE 250 GR\n",
      "Jamón de pavo NUESTRA ALACENA  SOBRE 200 GR\n",
      "Jamón cocido extra bajo en sal NUESTRA ALACENA  SOBRE 200 GR\n",
      "Bacon en lonchas ELPOZO   SOBRE 110 GR\n",
      "Jamón de pavo con trufa y boletus ELPOZO   SOBRE 120 GR\n",
      "Pavo maxi NUESTRA ALACENA  900 GR\n",
      "Fiambre de york ELPOZO   SOBRE 300 GR\n",
      "Chopped lata NUESTRA ALACENA  SOBRE 250 GR\n",
      "Jamón cocido ELPOZO   SOBRE 140 GR\n"
     ]
    }
   ],
   "source": [
    "for p in productos:\n",
    "    print(p.text)\n"
   ]
  },
  {
   "cell_type": "code",
   "execution_count": 52,
   "metadata": {},
   "outputs": [
    {
     "name": "stdout",
     "output_type": "stream",
     "text": [
      "20\n"
     ]
    }
   ],
   "source": [
    "print(len(productos))"
   ]
  },
  {
   "attachments": {},
   "cell_type": "markdown",
   "metadata": {},
   "source": [
    "# bucle para meter todas las páginas de un producto"
   ]
  },
  {
   "cell_type": "code",
   "execution_count": 76,
   "metadata": {},
   "outputs": [
    {
     "name": "stdout",
     "output_type": "stream",
     "text": [
      "3\n",
      "[[<p class=\"search-product-card__active-price\" data-test-id=\"search-product-card-unit-price\">3,55 €</p>, <p class=\"search-product-card__active-price\" data-test-id=\"search-product-card-unit-price\">3,59 €</p>, <p class=\"search-product-card__active-price\" data-test-id=\"search-product-card-unit-price\">1,79 €</p>, <p class=\"search-product-card__active-price\" data-test-id=\"search-product-card-unit-price\">1,99 €</p>, <p class=\"search-product-card__active-price\" data-test-id=\"search-product-card-unit-price\">2,05 €</p>, <p class=\"search-product-card__active-price\" data-test-id=\"search-product-card-unit-price\">2,29 €</p>, <p class=\"search-product-card__active-price\" data-test-id=\"search-product-card-unit-price\">2,00 €</p>, <p class=\"search-product-card__active-price\" data-test-id=\"search-product-card-unit-price\">2,25 €</p>, <p class=\"search-product-card__active-price\" data-test-id=\"search-product-card-unit-price\">2,00 €</p>], [<p class=\"search-product-card__active-price\" data-test-id=\"search-product-card-unit-price\">1,99 €</p>, <p class=\"search-product-card__active-price\" data-test-id=\"search-product-card-unit-price\">1,49 €</p>, <p class=\"search-product-card__active-price\" data-test-id=\"search-product-card-unit-price\">2,29 €</p>, <p class=\"search-product-card__active-price\" data-test-id=\"search-product-card-unit-price\">2,09 €</p>, <p class=\"search-product-card__active-price\" data-test-id=\"search-product-card-unit-price\">2,25 €</p>, <p class=\"search-product-card__active-price\" data-test-id=\"search-product-card-unit-price\">2,35 €</p>, <p class=\"search-product-card__active-price\" data-test-id=\"search-product-card-unit-price\">2,55 €</p>, <p class=\"search-product-card__active-price\" data-test-id=\"search-product-card-unit-price\">1,99 €</p>, <p class=\"search-product-card__active-price\" data-test-id=\"search-product-card-unit-price\">2,79 €</p>, <p class=\"search-product-card__active-price\" data-test-id=\"search-product-card-unit-price\">3,59 €</p>], [<p class=\"search-product-card__active-price\" data-test-id=\"search-product-card-unit-price\">2,99 €</p>, <p class=\"search-product-card__active-price\" data-test-id=\"search-product-card-unit-price\">2,35 €</p>, <p class=\"search-product-card__active-price\" data-test-id=\"search-product-card-unit-price\">1,67 €</p>, <p class=\"search-product-card__active-price\" data-test-id=\"search-product-card-unit-price\">3,99 €</p>, <p class=\"search-product-card__active-price\" data-test-id=\"search-product-card-unit-price\">1,50 €</p>, <p class=\"search-product-card__active-price\" data-test-id=\"search-product-card-unit-price\">1,50 €</p>, <p class=\"search-product-card__active-price\" data-test-id=\"search-product-card-unit-price\">2,65 €</p>, <p class=\"search-product-card__active-price\" data-test-id=\"search-product-card-unit-price\">4,15 €</p>, <p class=\"search-product-card__active-price\" data-test-id=\"search-product-card-unit-price\">2,25 €</p>, <p class=\"search-product-card__active-price\" data-test-id=\"search-product-card-unit-price\">2,25 €</p>]]\n",
      "[[<p class=\"search-product-card__price-per-unit\" data-test-id=\"search-product-card-kilo-price\"> (8,88 €/KILO) </p>, <p class=\"search-product-card__price-per-unit\" data-test-id=\"search-product-card-kilo-price\"> (7,98 €/KILO) </p>, <p class=\"search-product-card__price-per-unit\" data-test-id=\"search-product-card-kilo-price\"> (8,95 €/KILO) </p>, <p class=\"search-product-card__price-per-unit\" data-test-id=\"search-product-card-kilo-price\"> (9,95 €/KILO) </p>, <p class=\"search-product-card__price-per-unit\" data-test-id=\"search-product-card-kilo-price\"> (13,67 €/KILO) </p>, <p class=\"search-product-card__price-per-unit\" data-test-id=\"search-product-card-kilo-price\"> (19,08 €/KILO) </p>, <p class=\"search-product-card__price-per-unit\" data-test-id=\"search-product-card-kilo-price\"> (13,33 €/KILO) </p>, <p class=\"search-product-card__price-per-unit\" data-test-id=\"search-product-card-kilo-price\"> (19,57 €/KILO) </p>, <p class=\"search-product-card__price-per-unit\" data-test-id=\"search-product-card-kilo-price\"> (7,41 €/KILO) </p>], [<p class=\"search-product-card__price-per-unit\" data-test-id=\"search-product-card-kilo-price\"> (9,95 €/KILO) </p>, <p class=\"search-product-card__price-per-unit\" data-test-id=\"search-product-card-kilo-price\"> (5,96 €/KILO) </p>, <p class=\"search-product-card__price-per-unit\" data-test-id=\"search-product-card-kilo-price\"> (4,58 €/KILO) </p>, <p class=\"search-product-card__price-per-unit\" data-test-id=\"search-product-card-kilo-price\"> (4,18 €/KILO) </p>, <p class=\"search-product-card__price-per-unit\" data-test-id=\"search-product-card-kilo-price\"> (11,25 €/KILO) </p>, <p class=\"search-product-card__price-per-unit\" data-test-id=\"search-product-card-kilo-price\"> (11,75 €/KILO) </p>, <p class=\"search-product-card__price-per-unit\" data-test-id=\"search-product-card-kilo-price\"> (12,75 €/KILO) </p>, <p class=\"search-product-card__price-per-unit\" data-test-id=\"search-product-card-kilo-price\"> (13,27 €/KILO) </p>, <p class=\"search-product-card__price-per-unit\" data-test-id=\"search-product-card-kilo-price\"> (11,16 €/KILO) </p>, <p class=\"search-product-card__price-per-unit\" data-test-id=\"search-product-card-kilo-price\"> (7,18 €/KILO) </p>], [<p class=\"search-product-card__price-per-unit\" data-test-id=\"search-product-card-kilo-price\"> (14,95 €/KILO) </p>, <p class=\"search-product-card__price-per-unit\" data-test-id=\"search-product-card-kilo-price\"> (9,40 €/KILO) </p>, <p class=\"search-product-card__price-per-unit\" data-test-id=\"search-product-card-kilo-price\"> (8,36 €/KILO) </p>, <p class=\"search-product-card__price-per-unit\" data-test-id=\"search-product-card-kilo-price\"> (9,98 €/KILO) </p>, <p class=\"search-product-card__price-per-unit\" data-test-id=\"search-product-card-kilo-price\"> (13,04 €/KILO) </p>, <p class=\"search-product-card__price-per-unit\" data-test-id=\"search-product-card-kilo-price\"> (14,29 €/KILO) </p>, <p class=\"search-product-card__price-per-unit\" data-test-id=\"search-product-card-kilo-price\"> (13,25 €/KILO) </p>, <p class=\"search-product-card__price-per-unit\" data-test-id=\"search-product-card-kilo-price\"> (20,75 €/KILO) </p>, <p class=\"search-product-card__price-per-unit\" data-test-id=\"search-product-card-kilo-price\"> (16,07 €/KILO) </p>, <p class=\"search-product-card__price-per-unit\" data-test-id=\"search-product-card-kilo-price\"> (19,57 €/KILO) </p>]]\n"
     ]
    }
   ],
   "source": [
    "productos = []\n",
    "precio = []\n",
    "kilo = []\n",
    "flag3 = 0\n",
    "\n",
    "# Create your driver\n",
    "driver = webdriver.Chrome()\n",
    "\n",
    "param = 'c'\n",
    "url = f'https://www.dia.es/charcuteria-y-quesos/jamon-cocido-lacon-fiambres-y-mortadela/{param}/L2001'\n",
    "\n",
    "# Get a page\n",
    "driver.get(url)\n",
    "sleep(2)\n",
    "\n",
    "Y = 1200\n",
    "driver.execute_script(f\"window.scrollTo(0, {Y})\") \n",
    "sleep(2)\n",
    "\n",
    "# Feed the source to BeautifulSoup\n",
    "soup = BeautifulSoup(driver.page_source, 'html.parser')\n",
    "\n",
    "productos.append(soup.find_all(\"p\", {\"class\": \"search-product-card__product-name\"}))\n",
    "precio.append(soup.find_all(\"p\", {\"class\": \"search-product-card__active-price\"}))\n",
    "kilo.append(soup.find_all(\"p\", {\"class\": \"search-product-card__price-per-unit\"}))\n",
    "\n",
    "for i in range(2,10):\n",
    "\n",
    "    param = f'pag-{i}'\n",
    "    url = f'https://www.dia.es/charcuteria-y-quesos/jamon-cocido-lacon-fiambres-y-mortadela/{param}/c/L2001'\n",
    "\n",
    "    driver.get(url)\n",
    "    sleep(2)\n",
    "\n",
    "    Y = 1200\n",
    "    driver.execute_script(f\"window.scrollTo(0, {Y})\") \n",
    "    sleep(2)\n",
    "\n",
    "    soup = BeautifulSoup(driver.page_source, 'html.parser')\n",
    "\n",
    "    if soup.find_all(\"div\", {\"class\": \"plp-error-page__card\"}):\n",
    "\n",
    "        break\n",
    "\n",
    "    productos.append(soup.find_all(\"p\", {\"class\": \"search-product-card__product-name\"}))\n",
    "    precio.append(soup.find_all(\"p\", {\"class\": \"search-product-card__active-price\"}))\n",
    "    kilo.append(soup.find_all(\"p\", {\"class\": \"search-product-card__price-per-unit\"}))\n",
    "\n",
    "driver.quit()\n",
    "\n",
    "print(len(productos))\n",
    "print(precio)\n",
    "print(kilo)"
   ]
  },
  {
   "attachments": {},
   "cell_type": "markdown",
   "metadata": {},
   "source": [
    "# bucle para meter varias urls"
   ]
  },
  {
   "cell_type": "code",
   "execution_count": 4,
   "metadata": {},
   "outputs": [
    {
     "ename": "NoSuchWindowException",
     "evalue": "Message: no such window: target window already closed\nfrom unknown error: web view not found\n  (Session info: chrome=114.0.5735.199)\nStacktrace:\nBacktrace:\n\tGetHandleVerifier [0x002BA813+48355]\n\t(No symbol) [0x0024C4B1]\n\t(No symbol) [0x00155358]\n\t(No symbol) [0x0013D293]\n\t(No symbol) [0x0019E37B]\n\t(No symbol) [0x001AC473]\n\t(No symbol) [0x0019A536]\n\t(No symbol) [0x001782DC]\n\t(No symbol) [0x001793DD]\n\tGetHandleVerifier [0x0051AABD+2539405]\n\tGetHandleVerifier [0x0055A78F+2800735]\n\tGetHandleVerifier [0x0055456C+2775612]\n\tGetHandleVerifier [0x003451E0+616112]\n\t(No symbol) [0x00255F8C]\n\t(No symbol) [0x00252328]\n\t(No symbol) [0x0025240B]\n\t(No symbol) [0x00244FF7]\n\tBaseThreadInitThunk [0x76C07D59+25]\n\tRtlInitializeExceptionChain [0x77E1B74B+107]\n\tRtlClearBits [0x77E1B6CF+191]\n\t(No symbol) [0x00000000]\n",
     "output_type": "error",
     "traceback": [
      "\u001b[1;31m---------------------------------------------------------------------------\u001b[0m",
      "\u001b[1;31mNoSuchWindowException\u001b[0m                     Traceback (most recent call last)",
      "Cell \u001b[1;32mIn[4], line 40\u001b[0m\n\u001b[0;32m     37\u001b[0m driver\u001b[39m.\u001b[39mexecute_script(\u001b[39mf\u001b[39m\u001b[39m\"\u001b[39m\u001b[39mwindow.scrollTo(0, \u001b[39m\u001b[39m{\u001b[39;00mY\u001b[39m}\u001b[39;00m\u001b[39m)\u001b[39m\u001b[39m\"\u001b[39m) \n\u001b[0;32m     38\u001b[0m sleep(\u001b[39m2\u001b[39m)\n\u001b[1;32m---> 40\u001b[0m soup \u001b[39m=\u001b[39m BeautifulSoup(driver\u001b[39m.\u001b[39;49mpage_source, \u001b[39m'\u001b[39m\u001b[39mhtml.parser\u001b[39m\u001b[39m'\u001b[39m)\n\u001b[0;32m     42\u001b[0m \u001b[39mif\u001b[39;00m soup\u001b[39m.\u001b[39mfind_all(\u001b[39m\"\u001b[39m\u001b[39mdiv\u001b[39m\u001b[39m\"\u001b[39m, {\u001b[39m\"\u001b[39m\u001b[39mclass\u001b[39m\u001b[39m\"\u001b[39m: \u001b[39m\"\u001b[39m\u001b[39mplp-error-page__card\u001b[39m\u001b[39m\"\u001b[39m}):\n\u001b[0;32m     44\u001b[0m     \u001b[39mbreak\u001b[39;00m\n",
      "File \u001b[1;32mc:\\Users\\JMP\\AppData\\Local\\Programs\\Python\\Python311\\Lib\\site-packages\\selenium\\webdriver\\remote\\webdriver.py:447\u001b[0m, in \u001b[0;36mWebDriver.page_source\u001b[1;34m(self)\u001b[0m\n\u001b[0;32m    438\u001b[0m \u001b[39m@property\u001b[39m\n\u001b[0;32m    439\u001b[0m \u001b[39mdef\u001b[39;00m \u001b[39mpage_source\u001b[39m(\u001b[39mself\u001b[39m) \u001b[39m-\u001b[39m\u001b[39m>\u001b[39m \u001b[39mstr\u001b[39m:\n\u001b[0;32m    440\u001b[0m \u001b[39m    \u001b[39m\u001b[39m\"\"\"Gets the source of the current page.\u001b[39;00m\n\u001b[0;32m    441\u001b[0m \n\u001b[0;32m    442\u001b[0m \u001b[39m    :Usage:\u001b[39;00m\n\u001b[1;32m   (...)\u001b[0m\n\u001b[0;32m    445\u001b[0m \u001b[39m            driver.page_source\u001b[39;00m\n\u001b[0;32m    446\u001b[0m \u001b[39m    \"\"\"\u001b[39;00m\n\u001b[1;32m--> 447\u001b[0m     \u001b[39mreturn\u001b[39;00m \u001b[39mself\u001b[39;49m\u001b[39m.\u001b[39;49mexecute(Command\u001b[39m.\u001b[39;49mGET_PAGE_SOURCE)[\u001b[39m\"\u001b[39m\u001b[39mvalue\u001b[39m\u001b[39m\"\u001b[39m]\n",
      "File \u001b[1;32mc:\\Users\\JMP\\AppData\\Local\\Programs\\Python\\Python311\\Lib\\site-packages\\selenium\\webdriver\\remote\\webdriver.py:346\u001b[0m, in \u001b[0;36mWebDriver.execute\u001b[1;34m(self, driver_command, params)\u001b[0m\n\u001b[0;32m    344\u001b[0m response \u001b[39m=\u001b[39m \u001b[39mself\u001b[39m\u001b[39m.\u001b[39mcommand_executor\u001b[39m.\u001b[39mexecute(driver_command, params)\n\u001b[0;32m    345\u001b[0m \u001b[39mif\u001b[39;00m response:\n\u001b[1;32m--> 346\u001b[0m     \u001b[39mself\u001b[39;49m\u001b[39m.\u001b[39;49merror_handler\u001b[39m.\u001b[39;49mcheck_response(response)\n\u001b[0;32m    347\u001b[0m     response[\u001b[39m\"\u001b[39m\u001b[39mvalue\u001b[39m\u001b[39m\"\u001b[39m] \u001b[39m=\u001b[39m \u001b[39mself\u001b[39m\u001b[39m.\u001b[39m_unwrap_value(response\u001b[39m.\u001b[39mget(\u001b[39m\"\u001b[39m\u001b[39mvalue\u001b[39m\u001b[39m\"\u001b[39m, \u001b[39mNone\u001b[39;00m))\n\u001b[0;32m    348\u001b[0m     \u001b[39mreturn\u001b[39;00m response\n",
      "File \u001b[1;32mc:\\Users\\JMP\\AppData\\Local\\Programs\\Python\\Python311\\Lib\\site-packages\\selenium\\webdriver\\remote\\errorhandler.py:245\u001b[0m, in \u001b[0;36mErrorHandler.check_response\u001b[1;34m(self, response)\u001b[0m\n\u001b[0;32m    243\u001b[0m         alert_text \u001b[39m=\u001b[39m value[\u001b[39m\"\u001b[39m\u001b[39malert\u001b[39m\u001b[39m\"\u001b[39m]\u001b[39m.\u001b[39mget(\u001b[39m\"\u001b[39m\u001b[39mtext\u001b[39m\u001b[39m\"\u001b[39m)\n\u001b[0;32m    244\u001b[0m     \u001b[39mraise\u001b[39;00m exception_class(message, screen, stacktrace, alert_text)  \u001b[39m# type: ignore[call-arg]  # mypy is not smart enough here\u001b[39;00m\n\u001b[1;32m--> 245\u001b[0m \u001b[39mraise\u001b[39;00m exception_class(message, screen, stacktrace)\n",
      "\u001b[1;31mNoSuchWindowException\u001b[0m: Message: no such window: target window already closed\nfrom unknown error: web view not found\n  (Session info: chrome=114.0.5735.199)\nStacktrace:\nBacktrace:\n\tGetHandleVerifier [0x002BA813+48355]\n\t(No symbol) [0x0024C4B1]\n\t(No symbol) [0x00155358]\n\t(No symbol) [0x0013D293]\n\t(No symbol) [0x0019E37B]\n\t(No symbol) [0x001AC473]\n\t(No symbol) [0x0019A536]\n\t(No symbol) [0x001782DC]\n\t(No symbol) [0x001793DD]\n\tGetHandleVerifier [0x0051AABD+2539405]\n\tGetHandleVerifier [0x0055A78F+2800735]\n\tGetHandleVerifier [0x0055456C+2775612]\n\tGetHandleVerifier [0x003451E0+616112]\n\t(No symbol) [0x00255F8C]\n\t(No symbol) [0x00252328]\n\t(No symbol) [0x0025240B]\n\t(No symbol) [0x00244FF7]\n\tBaseThreadInitThunk [0x76C07D59+25]\n\tRtlInitializeExceptionChain [0x77E1B74B+107]\n\tRtlClearBits [0x77E1B6CF+191]\n\t(No symbol) [0x00000000]\n"
     ]
    }
   ],
   "source": [
    "productos = []\n",
    "precio = []\n",
    "kilo = []\n",
    "flag3 = 0\n",
    "\n",
    "# creación del driver\n",
    "driver = webdriver.Chrome()\n",
    "\n",
    "# c = página 1\n",
    "param = 'c'\n",
    "url = [f'https://www.dia.es/charcuteria-y-quesos/jamon-cocido-lacon-fiambres-y-mortadela/{param}/L2001', \n",
    "       f'https://www.dia.es/charcuteria-y-quesos/salchichas-y-elaborados/{param}/L2206']\n",
    "\n",
    "# get\n",
    "driver.get(u)\n",
    "sleep(2)\n",
    "\n",
    "# scroll down\n",
    "Y = 1200\n",
    "driver.execute_script(f\"window.scrollTo(0, {Y})\") \n",
    "sleep(2)\n",
    "\n",
    "# parseo html para sopa\n",
    "soup = BeautifulSoup(driver.page_source, 'html.parser')\n",
    "\n",
    "# apendea los resultados de la página 1\n",
    "productos.append(soup.find_all(\"p\", {\"class\": \"search-product-card__product-name\"}))\n",
    "precio.append(soup.find_all(\"p\", {\"class\": \"search-product-card__active-price\"}))\n",
    "kilo.append(soup.find_all(\"p\", {\"class\": \"search-product-card__price-per-unit\"}))\n",
    "\n",
    "# itero i para modificar url\n",
    "for i in range(2,10):\n",
    "    \n",
    "    param = f'pag-{i}/c'\n",
    "\n",
    "    # para cada url de la lista:\n",
    "    for u in url:\n",
    "\n",
    "        driver.get(u)\n",
    "        sleep(2)\n",
    "\n",
    "        Y = 1200\n",
    "        driver.execute_script(f\"window.scrollTo(0, {Y})\") \n",
    "        sleep(2)\n",
    "\n",
    "        soup = BeautifulSoup(driver.page_source, 'html.parser')\n",
    "\n",
    "        if soup.find_all(\"div\", {\"class\": \"plp-error-page__card\"}):\n",
    "\n",
    "            break\n",
    "\n",
    "        productos.append(soup.find_all(\"p\", {\"class\": \"search-product-card__product-name\"}))\n",
    "        precio.append(soup.find_all(\"p\", {\"class\": \"search-product-card__active-price\"}))\n",
    "        kilo.append(soup.find_all(\"p\", {\"class\": \"search-product-card__price-per-unit\"}))\n",
    "\n",
    "driver.quit()\n",
    "\n",
    "print(len(productos))\n",
    "print(precio)\n",
    "print(kilo)"
   ]
  },
  {
   "cell_type": "code",
   "execution_count": null,
   "metadata": {},
   "outputs": [],
   "source": [
    "productos = []\n",
    "precio = []\n",
    "kilo = []\n",
    "\n",
    "# creación del driver\n",
    "driver = webdriver.Chrome()\n",
    "\n",
    "for i in range(2,11):\n",
    "\n",
    "    if i == 1:\n",
    "\n",
    "        param = 'c'\n",
    "\n",
    "    else:\n",
    "\n",
    "        param = f'pag-{i}/c'\n",
    "\n",
    "    url = [f'https://www.dia.es/charcuteria-y-quesos/jamon-cocido-lacon-fiambres-y-mortadela/{param}/L2001', f'https://www.dia.es/charcuteria-y-quesos/salchichas-y-elaborados/{param}/L2206']\n",
    "\n",
    "    for u in url:\n",
    "\n",
    "        # get\n",
    "        driver.get(u)\n",
    "        sleep(2)\n",
    "\n",
    "        # scroll down\n",
    "        Y = 1200\n",
    "        driver.execute_script(f\"window.scrollTo(0, {Y})\") \n",
    "        sleep(2)\n",
    "\n",
    "        # parseo html para sopa\n",
    "        soup = BeautifulSoup(driver.page_source, 'html.parser')\n",
    "\n",
    "        # apendea los resultados de la página 1\n",
    "        productos.append(soup.find_all(\"p\", {\"class\": \"search-product-card__product-name\"}))\n",
    "        precio.append(soup.find_all(\"p\", {\"class\": \"search-product-card__active-price\"}))\n",
    "        kilo.append(soup.find_all(\"p\", {\"class\": \"search-product-card__price-per-unit\"}))"
   ]
  },
  {
   "cell_type": "code",
   "execution_count": 32,
   "metadata": {},
   "outputs": [
    {
     "name": "stdout",
     "output_type": "stream",
     "text": [
      "4\n",
      "[[<p class=\"search-product-card__product-name\">Pechuga de pavo NUESTRA ALACENA pack 2 unidades SOBRE 400 GR</p>, <p class=\"search-product-card__product-name\">Jamón cocido extra NUESTRA ALACENA pack 2 unidades SOBRE 450 GR</p>, <p class=\"search-product-card__product-name\">Bacon en tiras NUESTRA ALACENA pack 2 unidades BANDEJA 200 GR</p>, <p class=\"search-product-card__product-name\">Bacon NUESTRA ALACENA  SOBRE 200 GR</p>, <p class=\"search-product-card__product-name\">Jamón cocido extra 97% carne NUESTRA ALACENA  SOBRE 150 GR</p>, <p class=\"search-product-card__product-name\">Pechuga de pavo 90% carne NUESTRA ALACENA  SOBRE 120 GR</p>, <p class=\"search-product-card__product-name\">Jamón cocido extra ELPOZO 1954  SOBRE 150 GR</p>, <p class=\"search-product-card__product-name\">Jamón cocido extra CAMPOFRIO FINISSIMAS  SOBRE 115 GR</p>, <p class=\"search-product-card__product-name\">Fiambre de pavo sándwich ELPOZO   BANDEJA 270 GR</p>, <p class=\"search-product-card__product-name\">Pechuga de pavo CAMPOFRIO FINISSIMAS  SOBRE 115 GR</p>, <p class=\"search-product-card__product-name\">Mortadela NUESTRA ALACENA  SOBRE 250 GR</p>, <p class=\"search-product-card__product-name\">Mortadela con aceitunas NUESTRA ALACENA  SOBRE 250 GR</p>, <p class=\"search-product-card__product-name\">Jamón de pavo NUESTRA ALACENA  SOBRE 200 GR</p>, <p class=\"search-product-card__product-name\">Jamón cocido extra bajo en sal NUESTRA ALACENA  SOBRE 200 GR</p>, <p class=\"search-product-card__product-name\">Bacon en lonchas ELPOZO   SOBRE 110 GR</p>, <p class=\"search-product-card__product-name\">Jamón de pavo con trufa y boletus ELPOZO   SOBRE 120 GR</p>, <p class=\"search-product-card__product-name\">Pavo maxi NUESTRA ALACENA  900 GR</p>, <p class=\"search-product-card__product-name\">Fiambre de york ELPOZO   SOBRE 300 GR</p>, <p class=\"search-product-card__product-name\">Cabeza de jabalí NUESTRA ALACENA  SOBRE 200 GR</p>, <p class=\"search-product-card__product-name\">Chopped lata NUESTRA ALACENA  SOBRE 250 GR</p>], [<p class=\"search-product-card__product-name\">Jamón cocido ELPOZO   SOBRE 140 GR</p>, <p class=\"search-product-card__product-name\">Chopped pork NUESTRA ALACENA  SOBRE 250 GR</p>, <p class=\"search-product-card__product-name\">Chopped pork NUESTRA ALACENA  500 GR</p>, <p class=\"search-product-card__product-name\">Mortadela NUESTRA ALACENA  500 GR</p>, <p class=\"search-product-card__product-name\">Pechuga de pollo NUESTRA ALACENA  SOBRE 200 GR</p>, <p class=\"search-product-card__product-name\">Pechuga de pollo braseado NUESTRA ALACENA  SOBRE 200 GR</p>, <p class=\"search-product-card__product-name\">Pechuga de pavo braseado NUESTRA ALACENA  SOBRE 200 GR</p>, <p class=\"search-product-card__product-name\">Panceta curada NUESTRA ALACENA  SOBRE 150 GR</p>, <p class=\"search-product-card__product-name\">Jamón cocido extra sabor ahumado NUESTRA ALACENA  SOBRE 250 GR</p>, <p class=\"search-product-card__product-name\">Pechuga de pavo bajo en grasa NUESTRA ALACENA  500 GR</p>, <p class=\"search-product-card__product-name\">Pechuga de pavo bajo en sal NUESTRA ALACENA  500 GR</p>, <p class=\"search-product-card__product-name\">Chopped de pavo NUESTRA ALACENA  SOBRE 200 GR</p>, <p class=\"search-product-card__product-name\">Mortadela de pavo NUESTRA ALACENA  SOBRE 200 GR</p>, <p class=\"search-product-card__product-name\">Mortadela Bologna I.G.P. SELECCION MUNDIAL  SOBRE 150 GR</p>, <p class=\"search-product-card__product-name\">Bacon en taco NUESTRA ALACENA  BOLSA 300 GR</p>, <p class=\"search-product-card__product-name\">Jamón york maxi NUESTRA ALACENA  800 GR</p>, <p class=\"search-product-card__product-name\">Lacón ahumado NUESTRA ALACENA  SOBRE 200 GR</p>, <p class=\"search-product-card__product-name\">Paleta cocida NUESTRA ALACENA  SOBRE 250 GR</p>, <p class=\"search-product-card__product-name\">Fiambre maxi york NUESTRA ALACENA  SOBRE 400 GR</p>, <p class=\"search-product-card__product-name\">Fiambre sándwich NUESTRA ALACENA  SOBRE 250 GR</p>], [<p class=\"search-product-card__product-name\">Jamón cocido extra braseado 97% carne NUESTRA ALACENA  SOBRE 200 GR</p>, <p class=\"search-product-card__product-name\">Pechuga de pavo sándwich NUESTRA ALACENA  SOBRE 250 GR</p>, <p class=\"search-product-card__product-name\">Pechuga de pavo bajo en sal NUESTRA ALACENA  SOBRE 200 GR</p>, <p class=\"search-product-card__product-name\">Pechuga pavo bajo en sal ELPOZO   SOBRE 400 GR</p>, <p class=\"search-product-card__product-name\">Pechuga de pavo en finas lonchas ELPOZO   SOBRE 115 GR</p>, <p class=\"search-product-card__product-name\">Pechuga de pavo braseado CAMPOFRIO   SOBRE 105 GR</p>, <p class=\"search-product-card__product-name\">Mortadela ahumada MRM   SOBRE 200 GR</p>, <p class=\"search-product-card__product-name\">Lacón en tapas MRM   BANDEJA 200 GR</p>, <p class=\"search-product-card__product-name\">Jamón cocido extra BONNATUR   SOBRE 140 GR</p>, <p class=\"search-product-card__product-name\">Pechuga de pavo braseado CAMPOFRIO FINISSIMAS  SOBRE 115 GR</p>, <p class=\"search-product-card__product-name\">Pechuguitas de pollo asada LA CARLOTEÑA   BANDEJA 100 GR</p>, <p class=\"search-product-card__product-name\">Pechuga de pavo ELPOZO BIENSTAR  SOBRE 115 GR</p>, <p class=\"search-product-card__product-name\">Chopped pork CAMPOFRIO   SOBRE 95 GR</p>, <p class=\"search-product-card__product-name\">Mortadela clásica CAMPOFRIO   SOBRE 105 GR</p>, <p class=\"search-product-card__product-name\">Pechuga de pavo ELPOZO   380 GR</p>], [<p class=\"search-product-card__product-name\">Salchichas cocidas frankfurt FUNKY FRANK pack 4 unidades BOLSA 640 GR</p>, <p class=\"search-product-card__product-name\">Salchichas cocidas frankfurt con queso FUNKY FRANK pack 4 unidades BOLSA 560 GR</p>, <p class=\"search-product-card__product-name\">Salchichas cocidas súper FUNKY FRANK  BOLSA 350 GR</p>, <p class=\"search-product-card__product-name\">Salchichas cocidas Viena con queso FUNKY FRANK pack 3 unidades BOLSA 600 GR</p>, <p class=\"search-product-card__product-name\">Salchichas cocidas Viena de pollo FUNKY FRANK pack 3 unidades BOLSA 600 GR</p>, <p class=\"search-product-card__product-name\">Salchichas cocidas frankfurt CAMPOFRIO  pack 4 unidades BOLSA 560 GR</p>, <p class=\"search-product-card__product-name\">Salchichas cocidas wieners OSCAR MAYER   BOLSA 200 GR</p>, <p class=\"search-product-card__product-name\">Salchichas cocidas hot dog ELPOZO KING  BOLSA 275 GR</p>, <p class=\"search-product-card__product-name\">Salchichas big pavo ELPOZO  pack 3 unidades BOLSA 600 GR</p>, <p class=\"search-product-card__product-name\">Salchichas frankfurt ELPOZO   BOLSA 140 GR</p>, <p class=\"search-product-card__product-name\">Salchichas cocidas wieners con queso OSCAR MAYER   BOLSA 200 GR</p>, <p class=\"search-product-card__product-name\">Salchichas cocidas bockwurst SELECCION MUNDIAL  BOLSA 360 GR</p>, <p class=\"search-product-card__product-name\">Salchichas cocidas jumbo classic OSCAR MAYER   BOLSA 350 GR</p>, <p class=\"search-product-card__product-name\">Salchichas cocidas bratwurst SELECCION MUNDIAL  BOLSA 360 GR</p>, <p class=\"search-product-card__product-name\">Salchichas de pavo ELPOZO KING  BOLSA 330 GR</p>, <p class=\"search-product-card__product-name\">Salchichas cocidas Viena clásicas FUNKY FRANK pack 3 unidades BOLSA 600 GR</p>, <p class=\"search-product-card__product-name\">Salchichas cocidas jumbo con queso OSCAR MAYER   BOLSA 350 GR</p>, <p class=\"search-product-card__product-name\">Salchichas frankfurt de pavo CAMPOFRIO  pack 3 unidades BOLSA 420 GR</p>]]\n",
      "[[<p class=\"search-product-card__active-price\" data-test-id=\"search-product-card-unit-price\">3,55 €</p>, <p class=\"search-product-card__active-price\" data-test-id=\"search-product-card-unit-price\">3,59 €</p>, <p class=\"search-product-card__active-price\" data-test-id=\"search-product-card-unit-price\">1,79 €</p>, <p class=\"search-product-card__active-price\" data-test-id=\"search-product-card-unit-price\">1,99 €</p>, <p class=\"search-product-card__active-price\" data-test-id=\"search-product-card-unit-price\">2,05 €</p>, <p class=\"search-product-card__active-price\" data-test-id=\"search-product-card-unit-price\">2,29 €</p>, <p class=\"search-product-card__active-price\" data-test-id=\"search-product-card-unit-price\">2,00 €</p>, <p class=\"search-product-card__active-price\" data-test-id=\"search-product-card-unit-price\">2,20 €</p>, <p class=\"search-product-card__active-price\" data-test-id=\"search-product-card-unit-price\">2,00 €</p>, <p class=\"search-product-card__active-price\" data-test-id=\"search-product-card-unit-price\">2,20 €</p>, <p class=\"search-product-card__active-price\" data-test-id=\"search-product-card-unit-price\">1,35 €</p>, <p class=\"search-product-card__active-price\" data-test-id=\"search-product-card-unit-price\">1,45 €</p>, <p class=\"search-product-card__active-price\" data-test-id=\"search-product-card-unit-price\">1,65 €</p>, <p class=\"search-product-card__active-price\" data-test-id=\"search-product-card-unit-price\">1,99 €</p>, <p class=\"search-product-card__active-price\" data-test-id=\"search-product-card-unit-price\">1,50 €</p>, <p class=\"search-product-card__active-price\" data-test-id=\"search-product-card-unit-price\">2,00 €</p>, <p class=\"search-product-card__active-price\" data-test-id=\"search-product-card-unit-price\">2,85 €</p>, <p class=\"search-product-card__active-price\" data-test-id=\"search-product-card-unit-price\">2,00 €</p>, <p class=\"search-product-card__active-price\" data-test-id=\"search-product-card-unit-price\">1,99 €</p>, <p class=\"search-product-card__active-price\" data-test-id=\"search-product-card-unit-price\">1,99 €</p>], [<p class=\"search-product-card__active-price\" data-test-id=\"search-product-card-unit-price\">1,50 €</p>, <p class=\"search-product-card__active-price\" data-test-id=\"search-product-card-unit-price\">1,49 €</p>, <p class=\"search-product-card__active-price\" data-test-id=\"search-product-card-unit-price\">2,29 €</p>, <p class=\"search-product-card__active-price\" data-test-id=\"search-product-card-unit-price\">2,09 €</p>, <p class=\"search-product-card__active-price\" data-test-id=\"search-product-card-unit-price\">2,25 €</p>, <p class=\"search-product-card__active-price\" data-test-id=\"search-product-card-unit-price\">2,35 €</p>, <p class=\"search-product-card__active-price\" data-test-id=\"search-product-card-unit-price\">2,55 €</p>, <p class=\"search-product-card__active-price\" data-test-id=\"search-product-card-unit-price\">1,99 €</p>, <p class=\"search-product-card__active-price\" data-test-id=\"search-product-card-unit-price\">2,79 €</p>, <p class=\"search-product-card__active-price\" data-test-id=\"search-product-card-unit-price\">3,59 €</p>, <p class=\"search-product-card__active-price\" data-test-id=\"search-product-card-unit-price\">3,99 €</p>, <p class=\"search-product-card__active-price\" data-test-id=\"search-product-card-unit-price\">1,79 €</p>, <p class=\"search-product-card__active-price\" data-test-id=\"search-product-card-unit-price\">1,79 €</p>, <p class=\"search-product-card__active-price\" data-test-id=\"search-product-card-unit-price\">1,79 €</p>, <p class=\"search-product-card__active-price\" data-test-id=\"search-product-card-unit-price\">2,99 €</p>, <p class=\"search-product-card__active-price\" data-test-id=\"search-product-card-unit-price\">2,75 €</p>, <p class=\"search-product-card__active-price\" data-test-id=\"search-product-card-unit-price\">1,91 €</p>, <p class=\"search-product-card__active-price\" data-test-id=\"search-product-card-unit-price\">2,65 €</p>, <p class=\"search-product-card__active-price\" data-test-id=\"search-product-card-unit-price\">2,09 €</p>, <p class=\"search-product-card__active-price\" data-test-id=\"search-product-card-unit-price\">1,65 €</p>], [<p class=\"search-product-card__active-price\" data-test-id=\"search-product-card-unit-price\">2,99 €</p>, <p class=\"search-product-card__active-price\" data-test-id=\"search-product-card-unit-price\">2,35 €</p>, <p class=\"search-product-card__active-price\" data-test-id=\"search-product-card-unit-price\">1,67 €</p>, <p class=\"search-product-card__active-price\" data-test-id=\"search-product-card-unit-price\">3,99 €</p>, <p class=\"search-product-card__active-price\" data-test-id=\"search-product-card-unit-price\">1,50 €</p>, <p class=\"search-product-card__active-price\" data-test-id=\"search-product-card-unit-price\">1,50 €</p>, <p class=\"search-product-card__active-price\" data-test-id=\"search-product-card-unit-price\">2,65 €</p>, <p class=\"search-product-card__active-price\" data-test-id=\"search-product-card-unit-price\">4,15 €</p>, <p class=\"search-product-card__active-price\" data-test-id=\"search-product-card-unit-price\">2,25 €</p>, <p class=\"search-product-card__active-price\" data-test-id=\"search-product-card-unit-price\">2,20 €</p>, <p class=\"search-product-card__active-price\" data-test-id=\"search-product-card-unit-price\">2,25 €</p>, <p class=\"search-product-card__active-price\" data-test-id=\"search-product-card-unit-price\">1,50 €</p>, <p class=\"search-product-card__active-price\" data-test-id=\"search-product-card-unit-price\">1,00 €</p>, <p class=\"search-product-card__active-price\" data-test-id=\"search-product-card-unit-price\">1,00 €</p>, <p class=\"search-product-card__active-price\" data-test-id=\"search-product-card-unit-price\">3,00 €</p>], [<p class=\"search-product-card__active-price\" data-test-id=\"search-product-card-unit-price\">1,65 €</p>, <p class=\"search-product-card__active-price\" data-test-id=\"search-product-card-unit-price\">1,65 €</p>, <p class=\"search-product-card__active-price\" data-test-id=\"search-product-card-unit-price\">1,99 €</p>, <p class=\"search-product-card__active-price\" data-test-id=\"search-product-card-unit-price\">2,29 €</p>, <p class=\"search-product-card__active-price\" data-test-id=\"search-product-card-unit-price\">2,19 €</p>, <p class=\"search-product-card__active-price\" data-test-id=\"search-product-card-unit-price\">2,25 €</p>, <p class=\"search-product-card__active-price\" data-test-id=\"search-product-card-unit-price\">1,39 €</p>, <p class=\"search-product-card__active-price\" data-test-id=\"search-product-card-unit-price\">1,85 €</p>, <p class=\"search-product-card__active-price\" data-test-id=\"search-product-card-unit-price\">2,50 €</p>, <p class=\"search-product-card__active-price\" data-test-id=\"search-product-card-unit-price\">0,75 €</p>, <p class=\"search-product-card__active-price\" data-test-id=\"search-product-card-unit-price\">1,34 €</p>, <p class=\"search-product-card__active-price\" data-test-id=\"search-product-card-unit-price\">3,69 €</p>, <p class=\"search-product-card__active-price\" data-test-id=\"search-product-card-unit-price\">2,45 €</p>, <p class=\"search-product-card__active-price\" data-test-id=\"search-product-card-unit-price\">3,75 €</p>, <p class=\"search-product-card__active-price\" data-test-id=\"search-product-card-unit-price\">2,29 €</p>, <p class=\"search-product-card__active-price\" data-test-id=\"search-product-card-unit-price\">2,15 €</p>, <p class=\"search-product-card__active-price\" data-test-id=\"search-product-card-unit-price\">2,55 €</p>, <p class=\"search-product-card__active-price\" data-test-id=\"search-product-card-unit-price\">1,99 €</p>]]\n",
      "[[<p class=\"search-product-card__price-per-unit\" data-test-id=\"search-product-card-kilo-price\"> (8,88 €/KILO) </p>, <p class=\"search-product-card__price-per-unit\" data-test-id=\"search-product-card-kilo-price\"> (7,98 €/KILO) </p>, <p class=\"search-product-card__price-per-unit\" data-test-id=\"search-product-card-kilo-price\"> (8,95 €/KILO) </p>, <p class=\"search-product-card__price-per-unit\" data-test-id=\"search-product-card-kilo-price\"> (9,95 €/KILO) </p>, <p class=\"search-product-card__price-per-unit\" data-test-id=\"search-product-card-kilo-price\"> (13,67 €/KILO) </p>, <p class=\"search-product-card__price-per-unit\" data-test-id=\"search-product-card-kilo-price\"> (19,08 €/KILO) </p>, <p class=\"search-product-card__price-per-unit\" data-test-id=\"search-product-card-kilo-price\"> (13,33 €/KILO) </p>, <p class=\"search-product-card__price-per-unit\" data-test-id=\"search-product-card-kilo-price\"> (19,13 €/KILO) </p>, <p class=\"search-product-card__price-per-unit\" data-test-id=\"search-product-card-kilo-price\"> (7,41 €/KILO) </p>, <p class=\"search-product-card__price-per-unit\" data-test-id=\"search-product-card-kilo-price\"> (19,13 €/KILO) </p>, <p class=\"search-product-card__price-per-unit\" data-test-id=\"search-product-card-kilo-price\"> (5,40 €/KILO) </p>, <p class=\"search-product-card__price-per-unit\" data-test-id=\"search-product-card-kilo-price\"> (5,80 €/KILO) </p>, <p class=\"search-product-card__price-per-unit\" data-test-id=\"search-product-card-kilo-price\"> (8,25 €/KILO) </p>, <p class=\"search-product-card__price-per-unit\" data-test-id=\"search-product-card-kilo-price\"> (9,95 €/KILO) </p>, <p class=\"search-product-card__price-per-unit\" data-test-id=\"search-product-card-kilo-price\"> (13,64 €/KILO) </p>, <p class=\"search-product-card__price-per-unit\" data-test-id=\"search-product-card-kilo-price\"> (16,67 €/KILO) </p>, <p class=\"search-product-card__price-per-unit\" data-test-id=\"search-product-card-kilo-price\"> (3,17 €/KILO) </p>, <p class=\"search-product-card__price-per-unit\" data-test-id=\"search-product-card-kilo-price\"> (6,67 €/KILO) </p>, <p class=\"search-product-card__price-per-unit\" data-test-id=\"search-product-card-kilo-price\"> (9,95 €/KILO) </p>, <p class=\"search-product-card__price-per-unit\" data-test-id=\"search-product-card-kilo-price\"> (7,96 €/KILO) </p>], [<p class=\"search-product-card__price-per-unit\" data-test-id=\"search-product-card-kilo-price\"> (10,71 €/KILO) </p>, <p class=\"search-product-card__price-per-unit\" data-test-id=\"search-product-card-kilo-price\"> (5,96 €/KILO) </p>, <p class=\"search-product-card__price-per-unit\" data-test-id=\"search-product-card-kilo-price\"> (4,58 €/KILO) </p>, <p class=\"search-product-card__price-per-unit\" data-test-id=\"search-product-card-kilo-price\"> (4,18 €/KILO) </p>, <p class=\"search-product-card__price-per-unit\" data-test-id=\"search-product-card-kilo-price\"> (11,25 €/KILO) </p>, <p class=\"search-product-card__price-per-unit\" data-test-id=\"search-product-card-kilo-price\"> (11,75 €/KILO) </p>, <p class=\"search-product-card__price-per-unit\" data-test-id=\"search-product-card-kilo-price\"> (12,75 €/KILO) </p>, <p class=\"search-product-card__price-per-unit\" data-test-id=\"search-product-card-kilo-price\"> (13,27 €/KILO) </p>, <p class=\"search-product-card__price-per-unit\" data-test-id=\"search-product-card-kilo-price\"> (11,16 €/KILO) </p>, <p class=\"search-product-card__price-per-unit\" data-test-id=\"search-product-card-kilo-price\"> (7,18 €/KILO) </p>, <p class=\"search-product-card__price-per-unit\" data-test-id=\"search-product-card-kilo-price\"> (7,98 €/KILO) </p>, <p class=\"search-product-card__price-per-unit\" data-test-id=\"search-product-card-kilo-price\"> (8,95 €/KILO) </p>, <p class=\"search-product-card__price-per-unit\" data-test-id=\"search-product-card-kilo-price\"> (8,95 €/KILO) </p>, <p class=\"search-product-card__price-per-unit\" data-test-id=\"search-product-card-kilo-price\"> (11,93 €/KILO) </p>, <p class=\"search-product-card__price-per-unit\" data-test-id=\"search-product-card-kilo-price\"> (9,97 €/KILO) </p>, <p class=\"search-product-card__price-per-unit\" data-test-id=\"search-product-card-kilo-price\"> (3,44 €/KILO) </p>, <p class=\"search-product-card__price-per-unit\" data-test-id=\"search-product-card-kilo-price\"> (9,56 €/KILO) </p>, <p class=\"search-product-card__price-per-unit\" data-test-id=\"search-product-card-kilo-price\"> (10,60 €/KILO) </p>, <p class=\"search-product-card__price-per-unit\" data-test-id=\"search-product-card-kilo-price\"> (5,23 €/KILO) </p>, <p class=\"search-product-card__price-per-unit\" data-test-id=\"search-product-card-kilo-price\"> (6,60 €/KILO) </p>], [<p class=\"search-product-card__price-per-unit\" data-test-id=\"search-product-card-kilo-price\"> (14,95 €/KILO) </p>, <p class=\"search-product-card__price-per-unit\" data-test-id=\"search-product-card-kilo-price\"> (9,40 €/KILO) </p>, <p class=\"search-product-card__price-per-unit\" data-test-id=\"search-product-card-kilo-price\"> (8,36 €/KILO) </p>, <p class=\"search-product-card__price-per-unit\" data-test-id=\"search-product-card-kilo-price\"> (9,98 €/KILO) </p>, <p class=\"search-product-card__price-per-unit\" data-test-id=\"search-product-card-kilo-price\"> (13,04 €/KILO) </p>, <p class=\"search-product-card__price-per-unit\" data-test-id=\"search-product-card-kilo-price\"> (14,29 €/KILO) </p>, <p class=\"search-product-card__price-per-unit\" data-test-id=\"search-product-card-kilo-price\"> (13,25 €/KILO) </p>, <p class=\"search-product-card__price-per-unit\" data-test-id=\"search-product-card-kilo-price\"> (20,75 €/KILO) </p>, <p class=\"search-product-card__price-per-unit\" data-test-id=\"search-product-card-kilo-price\"> (16,07 €/KILO) </p>, <p class=\"search-product-card__price-per-unit\" data-test-id=\"search-product-card-kilo-price\"> (19,13 €/KILO) </p>, <p class=\"search-product-card__price-per-unit\" data-test-id=\"search-product-card-kilo-price\"> (22,50 €/KILO) </p>, <p class=\"search-product-card__price-per-unit\" data-test-id=\"search-product-card-kilo-price\"> (13,04 €/KILO) </p>, <p class=\"search-product-card__price-per-unit\" data-test-id=\"search-product-card-kilo-price\"> (10,53 €/KILO) </p>, <p class=\"search-product-card__price-per-unit\" data-test-id=\"search-product-card-kilo-price\"> (9,52 €/KILO) </p>, <p class=\"search-product-card__price-per-unit\" data-test-id=\"search-product-card-kilo-price\"> (7,89 €/KILO) </p>], [<p class=\"search-product-card__price-per-unit\" data-test-id=\"search-product-card-kilo-price\"> (2,58 €/KILO) </p>, <p class=\"search-product-card__price-per-unit\" data-test-id=\"search-product-card-kilo-price\"> (2,95 €/KILO) </p>, <p class=\"search-product-card__price-per-unit\" data-test-id=\"search-product-card-kilo-price\"> (5,69 €/KILO) </p>, <p class=\"search-product-card__price-per-unit\" data-test-id=\"search-product-card-kilo-price\"> (3,82 €/KILO) </p>, <p class=\"search-product-card__price-per-unit\" data-test-id=\"search-product-card-kilo-price\"> (3,65 €/KILO) </p>, <p class=\"search-product-card__price-per-unit\" data-test-id=\"search-product-card-kilo-price\"> (4,02 €/KILO) </p>, <p class=\"search-product-card__price-per-unit\" data-test-id=\"search-product-card-kilo-price\"> (6,95 €/KILO) </p>, <p class=\"search-product-card__price-per-unit\" data-test-id=\"search-product-card-kilo-price\"> (6,73 €/KILO) </p>, <p class=\"search-product-card__price-per-unit\" data-test-id=\"search-product-card-kilo-price\"> (4,17 €/KILO) </p>, <p class=\"search-product-card__price-per-unit\" data-test-id=\"search-product-card-kilo-price\"> (5,36 €/KILO) </p>, <p class=\"search-product-card__price-per-unit\" data-test-id=\"search-product-card-kilo-price\"> (6,70 €/KILO) </p>, <p class=\"search-product-card__price-per-unit\" data-test-id=\"search-product-card-kilo-price\"> (10,25 €/KILO) </p>, <p class=\"search-product-card__price-per-unit\" data-test-id=\"search-product-card-kilo-price\"> (7,00 €/KILO) </p>, <p class=\"search-product-card__price-per-unit\" data-test-id=\"search-product-card-kilo-price\"> (10,42 €/KILO) </p>, <p class=\"search-product-card__price-per-unit\" data-test-id=\"search-product-card-kilo-price\"> (6,94 €/KILO) </p>, <p class=\"search-product-card__price-per-unit\" data-test-id=\"search-product-card-kilo-price\"> (3,58 €/KILO) </p>, <p class=\"search-product-card__price-per-unit\" data-test-id=\"search-product-card-kilo-price\"> (7,29 €/KILO) </p>, <p class=\"search-product-card__price-per-unit\" data-test-id=\"search-product-card-kilo-price\"> (4,74 €/KILO) </p>]]\n"
     ]
    }
   ],
   "source": [
    "productos = []\n",
    "precio = []\n",
    "kilo = []\n",
    "\n",
    "# creación del driver\n",
    "driver = webdriver.Chrome()\n",
    "\n",
    "url = ['https://www.dia.es/charcuteria-y-quesos/jamon-cocido-lacon-fiambres-y-mortadela/c/L2001', 'https://www.dia.es/charcuteria-y-quesos/salchichas-y-elaborados/c/L2206']\n",
    "\n",
    "for u in url:\n",
    "\n",
    "        # get\n",
    "        driver.get(u)\n",
    "        sleep(2)\n",
    "\n",
    "        # aceptamos las cookies\n",
    "        try:\n",
    "                driver.find_element(\"css selector\", '#onetrust-accept-btn-handler').click()\n",
    "                sleep(1)\n",
    "\n",
    "        except:\n",
    "                pass\n",
    "\n",
    "        # scroll down\n",
    "        Y = 1200\n",
    "        driver.execute_script(f\"window.scrollTo(0, {Y})\") \n",
    "        sleep(2)\n",
    "\n",
    "        # parseo html para sopa\n",
    "        soup = BeautifulSoup(driver.page_source, 'html.parser')\n",
    "\n",
    "        # apendea los resultados de la página 1\n",
    "        productos.append(soup.find_all(\"p\", {\"class\": \"search-product-card__product-name\"}))\n",
    "        precio.append(soup.find_all(\"p\", {\"class\": \"search-product-card__active-price\"}))\n",
    "        kilo.append(soup.find_all(\"p\", {\"class\": \"search-product-card__price-per-unit\"}))\n",
    "\n",
    "        if bool(soup.find_all(\"a\", {\"class\": \"pagination-button__page--links\"})):\n",
    "                botones = soup.find_all(\"a\", {\"class\": \"pagination-button__page--links\"})\n",
    "\n",
    "        else:\n",
    "                pass\n",
    "        \n",
    "        if botones:\n",
    "\n",
    "                for bottom in range(2, int(botones[-1].text)+1):\n",
    "                        \n",
    "                        driver.find_element(\"xpath\", f'//*[@id=\"app\"]/div/div/div/div[2]/div[2]/div[3]/div[2]/div/div/div/div[{bottom}]/a').click()\n",
    "                        sleep(2)\n",
    "\n",
    "                        # scroll down\n",
    "                        driver.execute_script(f\"window.scrollTo(0, {Y})\") \n",
    "                        sleep(2)\n",
    "\n",
    "                        # parseo html para sopa\n",
    "                        soup = BeautifulSoup(driver.page_source, 'html.parser')\n",
    "\n",
    "                        # apendea los resultados de la página 1\n",
    "                        productos.append(soup.find_all(\"p\", {\"class\": \"search-product-card__product-name\"}))\n",
    "                        precio.append(soup.find_all(\"p\", {\"class\": \"search-product-card__active-price\"}))\n",
    "                        kilo.append(soup.find_all(\"p\", {\"class\": \"search-product-card__price-per-unit\"}))\n",
    "\n",
    "        botones = []\n",
    "\n",
    "driver.quit()\n",
    "\n",
    "print(len(productos))\n",
    "print(productos)\n",
    "print(precio)\n",
    "print(kilo)\n"
   ]
  },
  {
   "cell_type": "code",
   "execution_count": null,
   "metadata": {},
   "outputs": [],
   "source": []
  },
  {
   "cell_type": "code",
   "execution_count": null,
   "metadata": {},
   "outputs": [],
   "source": []
  },
  {
   "cell_type": "code",
   "execution_count": null,
   "metadata": {},
   "outputs": [],
   "source": []
  },
  {
   "cell_type": "code",
   "execution_count": null,
   "metadata": {},
   "outputs": [],
   "source": []
  },
  {
   "cell_type": "code",
   "execution_count": null,
   "metadata": {},
   "outputs": [],
   "source": []
  },
  {
   "cell_type": "code",
   "execution_count": null,
   "metadata": {},
   "outputs": [],
   "source": []
  },
  {
   "cell_type": "code",
   "execution_count": null,
   "metadata": {},
   "outputs": [],
   "source": []
  },
  {
   "cell_type": "code",
   "execution_count": null,
   "metadata": {},
   "outputs": [],
   "source": []
  },
  {
   "cell_type": "code",
   "execution_count": null,
   "metadata": {},
   "outputs": [],
   "source": []
  },
  {
   "cell_type": "code",
   "execution_count": null,
   "metadata": {},
   "outputs": [],
   "source": []
  }
 ],
 "metadata": {
  "kernelspec": {
   "display_name": "Python 3 (ipykernel)",
   "language": "python",
   "name": "python3"
  },
  "language_info": {
   "codemirror_mode": {
    "name": "ipython",
    "version": 3
   },
   "file_extension": ".py",
   "mimetype": "text/x-python",
   "name": "python",
   "nbconvert_exporter": "python",
   "pygments_lexer": "ipython3",
   "version": "3.11.4"
  },
  "toc": {
   "base_numbering": 1,
   "nav_menu": {},
   "number_sections": true,
   "sideBar": true,
   "skip_h1_title": true,
   "title_cell": "Table of Contents",
   "title_sidebar": "Contents",
   "toc_cell": false,
   "toc_position": {},
   "toc_section_display": true,
   "toc_window_display": false
  }
 },
 "nbformat": 4,
 "nbformat_minor": 4
}
