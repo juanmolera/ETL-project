{
 "cells": [
  {
   "attachments": {},
   "cell_type": "markdown",
   "metadata": {},
   "source": [
    "# 1-scraping"
   ]
  },
  {
   "cell_type": "code",
   "execution_count": 1,
   "metadata": {},
   "outputs": [],
   "source": [
    "# Manejo de datos \n",
    "import pandas as pd # manejo de datos y dataframes\n",
    "import numpy as np # manejo de arrays y operaciones matematicas \n",
    "\n",
    "\n",
    "# Librerias para realizar web scraping con selenium\n",
    "\n",
    "from selenium import webdriver # webdriver permite manejar un navegador \n",
    "from webdriver_manager.chrome import ChromeDriverManager # permite instalar y mantener actualizado el driver de chrome\n",
    "from selenium.webdriver.common.keys import Keys # permite simular teclas del teclado \n",
    "from selenium.webdriver.chrome.options import Options # permite configurar el driver de chrome como modo incognito o maximizar la ventana\n",
    "from time import sleep # esperas entre ejecuciones de codigo\n",
    "\n",
    "\n",
    "import warnings # permite ignorar los warnings de python \n",
    "warnings.filterwarnings('ignore')"
   ]
  },
  {
   "cell_type": "code",
   "execution_count": 2,
   "metadata": {},
   "outputs": [],
   "source": [
    "opciones= Options()\n",
    "opciones.add_experimental_option('excludeSwitches', ['enable-automation'])\n",
    "# para ocultarme como robot\n",
    "opciones.add_experimental_option('useAutomationExtension', False)\n",
    "opciones.add_argument('--start-maximized') # empezar maximizado\n",
    "opciones.add_argument('user.data-dir=selenium') # guarda las cookies\n",
    "opciones.add_argument('--incognito') # incognito window"
   ]
  },
  {
   "cell_type": "code",
   "execution_count": 10,
   "metadata": {},
   "outputs": [
    {
     "ename": "ElementNotInteractableException",
     "evalue": "Message: element not interactable\n  (Session info: chrome=114.0.5735.199)\nStacktrace:\nBacktrace:\n\tGetHandleVerifier [0x003DA813+48355]\n\t(No symbol) [0x0036C4B1]\n\t(No symbol) [0x00275220]\n\t(No symbol) [0x002A1846]\n\t(No symbol) [0x00299F5C]\n\t(No symbol) [0x002BA73C]\n\t(No symbol) [0x00299A36]\n\t(No symbol) [0x002BAA94]\n\t(No symbol) [0x002CC922]\n\t(No symbol) [0x002BA536]\n\t(No symbol) [0x002982DC]\n\t(No symbol) [0x002993DD]\n\tGetHandleVerifier [0x0063AABD+2539405]\n\tGetHandleVerifier [0x0067A78F+2800735]\n\tGetHandleVerifier [0x0067456C+2775612]\n\tGetHandleVerifier [0x004651E0+616112]\n\t(No symbol) [0x00375F8C]\n\t(No symbol) [0x00372328]\n\t(No symbol) [0x0037240B]\n\t(No symbol) [0x00364FF7]\n\tBaseThreadInitThunk [0x76C07D59+25]\n\tRtlInitializeExceptionChain [0x77E1B74B+107]\n\tRtlClearBits [0x77E1B6CF+191]\n",
     "output_type": "error",
     "traceback": [
      "\u001b[1;31m---------------------------------------------------------------------------\u001b[0m",
      "\u001b[1;31mElementNotInteractableException\u001b[0m           Traceback (most recent call last)",
      "Cell \u001b[1;32mIn[10], line 10\u001b[0m\n\u001b[0;32m      6\u001b[0m \u001b[39m# aceptamos  las cookies \u001b[39;00m\n\u001b[0;32m      7\u001b[0m \u001b[39m#driver.find_element(\"xpath\", '//*[@id=\"onetrust-accept-btn-handler\"]').click()\u001b[39;00m\n\u001b[0;32m      8\u001b[0m sleep(\u001b[39m2\u001b[39m)\n\u001b[1;32m---> 10\u001b[0m driver\u001b[39m.\u001b[39;49mfind_element(\u001b[39m\"\u001b[39;49m\u001b[39mcss selector\u001b[39;49m\u001b[39m\"\u001b[39;49m, \u001b[39m'\u001b[39;49m\u001b[39m#app > div > div > div > div.home-view__header > div.dia-header > div.dia-header__section.dia-header__section--start > div > button\u001b[39;49m\u001b[39m'\u001b[39;49m)\u001b[39m.\u001b[39;49mclick()\n\u001b[0;32m     11\u001b[0m sleep(\u001b[39m2\u001b[39m)\n",
      "File \u001b[1;32mc:\\Users\\JMP\\AppData\\Local\\Programs\\Python\\Python311\\Lib\\site-packages\\selenium\\webdriver\\remote\\webelement.py:94\u001b[0m, in \u001b[0;36mWebElement.click\u001b[1;34m(self)\u001b[0m\n\u001b[0;32m     92\u001b[0m \u001b[39mdef\u001b[39;00m \u001b[39mclick\u001b[39m(\u001b[39mself\u001b[39m) \u001b[39m-\u001b[39m\u001b[39m>\u001b[39m \u001b[39mNone\u001b[39;00m:\n\u001b[0;32m     93\u001b[0m \u001b[39m    \u001b[39m\u001b[39m\"\"\"Clicks the element.\"\"\"\u001b[39;00m\n\u001b[1;32m---> 94\u001b[0m     \u001b[39mself\u001b[39;49m\u001b[39m.\u001b[39;49m_execute(Command\u001b[39m.\u001b[39;49mCLICK_ELEMENT)\n",
      "File \u001b[1;32mc:\\Users\\JMP\\AppData\\Local\\Programs\\Python\\Python311\\Lib\\site-packages\\selenium\\webdriver\\remote\\webelement.py:395\u001b[0m, in \u001b[0;36mWebElement._execute\u001b[1;34m(self, command, params)\u001b[0m\n\u001b[0;32m    393\u001b[0m     params \u001b[39m=\u001b[39m {}\n\u001b[0;32m    394\u001b[0m params[\u001b[39m\"\u001b[39m\u001b[39mid\u001b[39m\u001b[39m\"\u001b[39m] \u001b[39m=\u001b[39m \u001b[39mself\u001b[39m\u001b[39m.\u001b[39m_id\n\u001b[1;32m--> 395\u001b[0m \u001b[39mreturn\u001b[39;00m \u001b[39mself\u001b[39;49m\u001b[39m.\u001b[39;49m_parent\u001b[39m.\u001b[39;49mexecute(command, params)\n",
      "File \u001b[1;32mc:\\Users\\JMP\\AppData\\Local\\Programs\\Python\\Python311\\Lib\\site-packages\\selenium\\webdriver\\remote\\webdriver.py:346\u001b[0m, in \u001b[0;36mWebDriver.execute\u001b[1;34m(self, driver_command, params)\u001b[0m\n\u001b[0;32m    344\u001b[0m response \u001b[39m=\u001b[39m \u001b[39mself\u001b[39m\u001b[39m.\u001b[39mcommand_executor\u001b[39m.\u001b[39mexecute(driver_command, params)\n\u001b[0;32m    345\u001b[0m \u001b[39mif\u001b[39;00m response:\n\u001b[1;32m--> 346\u001b[0m     \u001b[39mself\u001b[39;49m\u001b[39m.\u001b[39;49merror_handler\u001b[39m.\u001b[39;49mcheck_response(response)\n\u001b[0;32m    347\u001b[0m     response[\u001b[39m\"\u001b[39m\u001b[39mvalue\u001b[39m\u001b[39m\"\u001b[39m] \u001b[39m=\u001b[39m \u001b[39mself\u001b[39m\u001b[39m.\u001b[39m_unwrap_value(response\u001b[39m.\u001b[39mget(\u001b[39m\"\u001b[39m\u001b[39mvalue\u001b[39m\u001b[39m\"\u001b[39m, \u001b[39mNone\u001b[39;00m))\n\u001b[0;32m    348\u001b[0m     \u001b[39mreturn\u001b[39;00m response\n",
      "File \u001b[1;32mc:\\Users\\JMP\\AppData\\Local\\Programs\\Python\\Python311\\Lib\\site-packages\\selenium\\webdriver\\remote\\errorhandler.py:245\u001b[0m, in \u001b[0;36mErrorHandler.check_response\u001b[1;34m(self, response)\u001b[0m\n\u001b[0;32m    243\u001b[0m         alert_text \u001b[39m=\u001b[39m value[\u001b[39m\"\u001b[39m\u001b[39malert\u001b[39m\u001b[39m\"\u001b[39m]\u001b[39m.\u001b[39mget(\u001b[39m\"\u001b[39m\u001b[39mtext\u001b[39m\u001b[39m\"\u001b[39m)\n\u001b[0;32m    244\u001b[0m     \u001b[39mraise\u001b[39;00m exception_class(message, screen, stacktrace, alert_text)  \u001b[39m# type: ignore[call-arg]  # mypy is not smart enough here\u001b[39;00m\n\u001b[1;32m--> 245\u001b[0m \u001b[39mraise\u001b[39;00m exception_class(message, screen, stacktrace)\n",
      "\u001b[1;31mElementNotInteractableException\u001b[0m: Message: element not interactable\n  (Session info: chrome=114.0.5735.199)\nStacktrace:\nBacktrace:\n\tGetHandleVerifier [0x003DA813+48355]\n\t(No symbol) [0x0036C4B1]\n\t(No symbol) [0x00275220]\n\t(No symbol) [0x002A1846]\n\t(No symbol) [0x00299F5C]\n\t(No symbol) [0x002BA73C]\n\t(No symbol) [0x00299A36]\n\t(No symbol) [0x002BAA94]\n\t(No symbol) [0x002CC922]\n\t(No symbol) [0x002BA536]\n\t(No symbol) [0x002982DC]\n\t(No symbol) [0x002993DD]\n\tGetHandleVerifier [0x0063AABD+2539405]\n\tGetHandleVerifier [0x0067A78F+2800735]\n\tGetHandleVerifier [0x0067456C+2775612]\n\tGetHandleVerifier [0x004651E0+616112]\n\t(No symbol) [0x00375F8C]\n\t(No symbol) [0x00372328]\n\t(No symbol) [0x0037240B]\n\t(No symbol) [0x00364FF7]\n\tBaseThreadInitThunk [0x76C07D59+25]\n\tRtlInitializeExceptionChain [0x77E1B74B+107]\n\tRtlClearBits [0x77E1B6CF+191]\n"
     ]
    }
   ],
   "source": [
    "driver = webdriver.Chrome()\n",
    "\n",
    "driver.get(\"https://www.dia.es/\") \n",
    "driver.implicitly_wait(5)\n",
    "\n",
    "# aceptamos  las cookies \n",
    "#driver.find_element(\"xpath\", '//*[@id=\"onetrust-accept-btn-handler\"]').click()\n",
    "sleep(2)\n",
    "\n",
    "driver.find_element(\"css selector\", '#app > div > div > div > div.home-view__header > div.dia-header > div.dia-header__section.dia-header__section--start > div > button').click()\n",
    "sleep(2)\n",
    "\n"
   ]
  },
  {
   "cell_type": "code",
   "execution_count": null,
   "metadata": {},
   "outputs": [],
   "source": []
  },
  {
   "cell_type": "code",
   "execution_count": null,
   "metadata": {},
   "outputs": [],
   "source": []
  },
  {
   "cell_type": "code",
   "execution_count": null,
   "metadata": {},
   "outputs": [],
   "source": []
  },
  {
   "cell_type": "code",
   "execution_count": null,
   "metadata": {},
   "outputs": [],
   "source": []
  },
  {
   "cell_type": "code",
   "execution_count": null,
   "metadata": {},
   "outputs": [],
   "source": []
  },
  {
   "cell_type": "code",
   "execution_count": null,
   "metadata": {},
   "outputs": [],
   "source": []
  },
  {
   "cell_type": "code",
   "execution_count": null,
   "metadata": {},
   "outputs": [],
   "source": []
  },
  {
   "cell_type": "code",
   "execution_count": null,
   "metadata": {},
   "outputs": [],
   "source": []
  },
  {
   "cell_type": "code",
   "execution_count": null,
   "metadata": {},
   "outputs": [],
   "source": []
  },
  {
   "cell_type": "code",
   "execution_count": null,
   "metadata": {},
   "outputs": [],
   "source": []
  },
  {
   "cell_type": "code",
   "execution_count": null,
   "metadata": {},
   "outputs": [],
   "source": []
  },
  {
   "cell_type": "code",
   "execution_count": null,
   "metadata": {},
   "outputs": [],
   "source": []
  },
  {
   "cell_type": "code",
   "execution_count": null,
   "metadata": {},
   "outputs": [],
   "source": []
  },
  {
   "cell_type": "code",
   "execution_count": null,
   "metadata": {},
   "outputs": [],
   "source": []
  },
  {
   "cell_type": "code",
   "execution_count": null,
   "metadata": {},
   "outputs": [],
   "source": []
  },
  {
   "cell_type": "code",
   "execution_count": null,
   "metadata": {},
   "outputs": [],
   "source": []
  },
  {
   "cell_type": "code",
   "execution_count": null,
   "metadata": {},
   "outputs": [],
   "source": []
  }
 ],
 "metadata": {
  "kernelspec": {
   "display_name": "Python 3 (ipykernel)",
   "language": "python",
   "name": "python3"
  },
  "language_info": {
   "codemirror_mode": {
    "name": "ipython",
    "version": 3
   },
   "file_extension": ".py",
   "mimetype": "text/x-python",
   "name": "python",
   "nbconvert_exporter": "python",
   "pygments_lexer": "ipython3",
   "version": "3.11.4"
  },
  "toc": {
   "base_numbering": 1,
   "nav_menu": {},
   "number_sections": true,
   "sideBar": true,
   "skip_h1_title": true,
   "title_cell": "Table of Contents",
   "title_sidebar": "Contents",
   "toc_cell": false,
   "toc_position": {},
   "toc_section_display": true,
   "toc_window_display": false
  }
 },
 "nbformat": 4,
 "nbformat_minor": 4
}
