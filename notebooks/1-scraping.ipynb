{
 "cells": [
  {
   "attachments": {},
   "cell_type": "markdown",
   "metadata": {},
   "source": [
    "# 1-scraping"
   ]
  },
  {
   "cell_type": "code",
   "execution_count": 58,
   "metadata": {},
   "outputs": [],
   "source": [
    "# Manejo de datos \n",
    "import pandas as pd # manejo de datos y dataframes\n",
    "import numpy as np # manejo de arrays y operaciones matematicas \n",
    "\n",
    "\n",
    "# Librerias para realizar web scraping con selenium\n",
    "from selenium import webdriver # webdriver permite manejar un navegador \n",
    "from webdriver_manager.chrome import ChromeDriverManager # permite instalar y mantener actualizado el driver de chrome\n",
    "from selenium.webdriver.common.keys import Keys # permite simular teclas del teclado \n",
    "from selenium.webdriver.chrome.options import Options # permite configurar el driver de chrome como modo incognito o maximizar la ventana\n",
    "from time import sleep # esperas entre ejecuciones de codigo\n",
    "\n",
    "\n",
    "import warnings # permite ignorar los warnings de python \n",
    "warnings.filterwarnings('ignore')"
   ]
  },
  {
   "cell_type": "code",
   "execution_count": 59,
   "metadata": {},
   "outputs": [],
   "source": [
    "import requests\n",
    "import re\n",
    "import pickle\n",
    "\n",
    "from bs4 import BeautifulSoup"
   ]
  },
  {
   "cell_type": "code",
   "execution_count": 60,
   "metadata": {},
   "outputs": [],
   "source": [
    "opciones= Options()\n",
    "opciones.add_experimental_option('excludeSwitches', ['enable-automation'])\n",
    "\n",
    "# para ocultarme como robot\n",
    "opciones.add_experimental_option('useAutomationExtension', False)\n",
    "opciones.add_argument('--start-maximized') # empezar maximizado\n",
    "opciones.add_argument('user.data-dir=selenium') # guarda las cookies\n",
    "opciones.add_argument('--incognito') # incognito window"
   ]
  },
  {
   "attachments": {},
   "cell_type": "markdown",
   "metadata": {},
   "source": [
    "# selenium"
   ]
  },
  {
   "cell_type": "code",
   "execution_count": null,
   "metadata": {},
   "outputs": [],
   "source": [
    "urls = []\n",
    "flag = 0\n",
    "flag2 = 0\n",
    "\n",
    "driver = webdriver.Chrome()\n",
    "\n",
    "driver.get(\"https://www.dia.es/\") \n",
    "sleep(3)\n",
    "\n",
    "# aceptamos las cookies \n",
    "driver.find_element(\"css selector\", '#onetrust-accept-btn-handler').click()\n",
    "sleep(2)\n",
    "\n",
    "# clicka productos\n",
    "driver.find_element(\"css selector\", '#app > div > div > div > div.home-view__header > div.dia-header > div.dia-header__section.dia-header__section--start > div > div > button').click()\n",
    "sleep(2)\n",
    "\n",
    "# para cada una de las categorías principales\n",
    "# poner un max excesivo\n",
    "for category in range(1,31):\n",
    "\n",
    "    while 1:\n",
    "\n",
    "        # intenta clickar\n",
    "        try:\n",
    "            \n",
    "            driver.find_element(\"xpath\", f'//*[@id=\"app\"]/div/div/div/div[1]/div[1]/div[1]/div/div[2]/div/div/div[2]/ul/li[{category}]/a').click()\n",
    "            flag2 = 0\n",
    "\n",
    "            for subcategory in range (1,31):\n",
    "\n",
    "                while 1:\n",
    "\n",
    "                    try:\n",
    "                        \n",
    "                        urls.append(driver.find_element(\"xpath\", f'//*[@id=\"app\"]/div/div/div/div[1]/div[1]/div[1]/div/div[2]/div/div/div[2]/ul/li[{category}]/ul/div[{subcategory}]/a').get_attribute(\"href\"))\n",
    "                        sleep(0.1)\n",
    "                        break\n",
    "\n",
    "                    except:\n",
    "\n",
    "                        flag2 = 1\n",
    "                        break\n",
    "                    \n",
    "                if flag2:\n",
    "                    break\n",
    "            \n",
    "            sleep(1)\n",
    "            break\n",
    "        \n",
    "        # break si se acaban\n",
    "        except:\n",
    "\n",
    "            flag = 1\n",
    "            break\n",
    "\n",
    "    if flag:\n",
    "\n",
    "        break\n",
    "\n",
    "driver.quit()"
   ]
  },
  {
   "cell_type": "code",
   "execution_count": 62,
   "metadata": {},
   "outputs": [],
   "source": [
    "df = pd.DataFrame(urls, columns=['url'])\n",
    "\n",
    "df.to_csv(\"../data/urls-dia.csv\", index=False, sep= \",\")"
   ]
  },
  {
   "attachments": {},
   "cell_type": "markdown",
   "metadata": {},
   "source": [
    "# sopa bonita"
   ]
  },
  {
   "cell_type": "code",
   "execution_count": 63,
   "metadata": {},
   "outputs": [],
   "source": [
    "# ['supermarket', 'category', 'name', 'description', 'price', 'reference_price', 'reference_unit', 'insert_date', 'product_id']\n",
    "\n",
    "resultados_dia = {\"supermarket\": 'dia-es',\n",
    "                \"category\":[],\n",
    "                \"name\":[], \n",
    "                \"description\": [], \n",
    "                \"price\": [], \n",
    "                \"reference_price\": [],\n",
    "                \"reference_unit\": [],\n",
    "                \"insert_date\": [],\n",
    "                \"product_id\": []}"
   ]
  },
  {
   "cell_type": "code",
   "execution_count": 64,
   "metadata": {},
   "outputs": [
    {
     "name": "stdout",
     "output_type": "stream",
     "text": [
      "<Response [200]>\n",
      "Cantidad de productos extraídos: 10\n",
      "<p class=\"search-product-card__product-name\">Pechuga de pavo NUESTRA ALACENA pack 2 unidades SOBRE 400 GR</p>\n",
      "Pechuga de pavo NUESTRA ALACENA pack 2 unidades SOBRE 400 GR\n"
     ]
    }
   ],
   "source": [
    "url = 'https://www.dia.es/charcuteria-y-quesos/jamon-cocido-lacon-fiambres-y-mortadela/c/L2001'\n",
    "res = requests.get(url)\n",
    "sleep(2)\n",
    "#driver.execute_script(\"window.scrollTo(0,document.body.scrollHeight)\")\n",
    "\n",
    "print(res)\n",
    "\n",
    "sopa = BeautifulSoup(res.content, 'html.parser')\n",
    "\n",
    "productos = sopa.find_all(\"div\", {\"class\": \"search-product-card search-product-card__dia-border product-card-list__item\"})\n",
    "#productos = sopa.find_all(\"div\", {\"data-test-id\": \"product-card\"})\n",
    "productos = sopa.find_all(\"p\", {\"class\": \"search-product-card__product-name\"})\n",
    "\n",
    "print(f'Cantidad de productos extraídos: {len(productos)}')\n",
    "\n",
    "print(productos[0])\n",
    "\n",
    "print(productos[0].text)\n"
   ]
  },
  {
   "cell_type": "code",
   "execution_count": null,
   "metadata": {},
   "outputs": [],
   "source": []
  },
  {
   "cell_type": "code",
   "execution_count": null,
   "metadata": {},
   "outputs": [],
   "source": []
  },
  {
   "cell_type": "code",
   "execution_count": null,
   "metadata": {},
   "outputs": [],
   "source": []
  },
  {
   "cell_type": "code",
   "execution_count": null,
   "metadata": {},
   "outputs": [],
   "source": []
  },
  {
   "cell_type": "code",
   "execution_count": null,
   "metadata": {},
   "outputs": [],
   "source": []
  },
  {
   "cell_type": "code",
   "execution_count": null,
   "metadata": {},
   "outputs": [],
   "source": []
  },
  {
   "cell_type": "code",
   "execution_count": null,
   "metadata": {},
   "outputs": [],
   "source": []
  },
  {
   "cell_type": "code",
   "execution_count": null,
   "metadata": {},
   "outputs": [],
   "source": []
  },
  {
   "cell_type": "code",
   "execution_count": null,
   "metadata": {},
   "outputs": [],
   "source": []
  },
  {
   "cell_type": "code",
   "execution_count": null,
   "metadata": {},
   "outputs": [],
   "source": []
  },
  {
   "cell_type": "code",
   "execution_count": null,
   "metadata": {},
   "outputs": [],
   "source": []
  },
  {
   "cell_type": "code",
   "execution_count": null,
   "metadata": {},
   "outputs": [],
   "source": []
  },
  {
   "cell_type": "code",
   "execution_count": null,
   "metadata": {},
   "outputs": [],
   "source": []
  },
  {
   "cell_type": "code",
   "execution_count": null,
   "metadata": {},
   "outputs": [],
   "source": []
  },
  {
   "cell_type": "code",
   "execution_count": null,
   "metadata": {},
   "outputs": [],
   "source": []
  },
  {
   "cell_type": "code",
   "execution_count": null,
   "metadata": {},
   "outputs": [],
   "source": []
  },
  {
   "cell_type": "code",
   "execution_count": null,
   "metadata": {},
   "outputs": [],
   "source": []
  },
  {
   "cell_type": "code",
   "execution_count": null,
   "metadata": {},
   "outputs": [],
   "source": []
  },
  {
   "cell_type": "code",
   "execution_count": null,
   "metadata": {},
   "outputs": [],
   "source": []
  },
  {
   "cell_type": "code",
   "execution_count": null,
   "metadata": {},
   "outputs": [],
   "source": []
  },
  {
   "cell_type": "code",
   "execution_count": null,
   "metadata": {},
   "outputs": [],
   "source": []
  },
  {
   "cell_type": "code",
   "execution_count": null,
   "metadata": {},
   "outputs": [],
   "source": []
  }
 ],
 "metadata": {
  "kernelspec": {
   "display_name": "Python 3 (ipykernel)",
   "language": "python",
   "name": "python3"
  },
  "language_info": {
   "codemirror_mode": {
    "name": "ipython",
    "version": 3
   },
   "file_extension": ".py",
   "mimetype": "text/x-python",
   "name": "python",
   "nbconvert_exporter": "python",
   "pygments_lexer": "ipython3",
   "version": "3.10.9"
  },
  "toc": {
   "base_numbering": 1,
   "nav_menu": {},
   "number_sections": true,
   "sideBar": true,
   "skip_h1_title": true,
   "title_cell": "Table of Contents",
   "title_sidebar": "Contents",
   "toc_cell": false,
   "toc_position": {},
   "toc_section_display": true,
   "toc_window_display": false
  }
 },
 "nbformat": 4,
 "nbformat_minor": 4
}
