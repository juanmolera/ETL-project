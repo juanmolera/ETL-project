{
 "cells": [
  {
   "attachments": {},
   "cell_type": "markdown",
   "metadata": {},
   "source": [
    "# 1-scraping"
   ]
  },
  {
   "cell_type": "code",
   "execution_count": 1,
   "metadata": {},
   "outputs": [],
   "source": [
    "# Manejo de datos \n",
    "import pandas as pd # manejo de datos y dataframes\n",
    "import numpy as np # manejo de arrays y operaciones matematicas \n",
    "\n",
    "\n",
    "# Librerias para realizar web scraping con selenium\n",
    "from selenium import webdriver # webdriver permite manejar un navegador \n",
    "from webdriver_manager.chrome import ChromeDriverManager # permite instalar y mantener actualizado el driver de chrome\n",
    "from selenium.webdriver.common.keys import Keys # permite simular teclas del teclado \n",
    "from selenium.webdriver.chrome.options import Options # permite configurar el driver de chrome como modo incognito o maximizar la ventana\n",
    "from time import sleep # esperas entre ejecuciones de codigo\n",
    "\n",
    "\n",
    "import warnings # permite ignorar los warnings de python \n",
    "warnings.filterwarnings('ignore')"
   ]
  },
  {
   "cell_type": "code",
   "execution_count": 2,
   "metadata": {},
   "outputs": [],
   "source": [
    "import requests\n",
    "import re\n",
    "import pickle\n",
    "\n",
    "from bs4 import BeautifulSoup"
   ]
  },
  {
   "cell_type": "code",
   "execution_count": 3,
   "metadata": {},
   "outputs": [],
   "source": [
    "opciones= Options()\n",
    "opciones.add_experimental_option('excludeSwitches', ['enable-automation'])\n",
    "\n",
    "# para ocultarme como robot\n",
    "opciones.add_experimental_option('useAutomationExtension', False)\n",
    "opciones.add_argument('--start-maximized') # empezar maximizado\n",
    "opciones.add_argument('user.data-dir=selenium') # guarda las cookies\n",
    "opciones.add_argument('--incognito') # incognito window"
   ]
  },
  {
   "attachments": {},
   "cell_type": "markdown",
   "metadata": {},
   "source": [
    "# selenium"
   ]
  },
  {
   "cell_type": "code",
   "execution_count": null,
   "metadata": {},
   "outputs": [],
   "source": [
    "urls = []\n",
    "flag = 0\n",
    "flag2 = 0\n",
    "\n",
    "driver = webdriver.Chrome()\n",
    "\n",
    "driver.get(\"https://www.dia.es/\") \n",
    "sleep(3)\n",
    "\n",
    "# aceptamos las cookies \n",
    "driver.find_element(\"css selector\", '#onetrust-accept-btn-handler').click()\n",
    "sleep(2)\n",
    "\n",
    "# clicka productos\n",
    "driver.find_element(\"css selector\", '#app > div > div > div > div.home-view__header > div.dia-header > div.dia-header__section.dia-header__section--start > div > div > button').click()\n",
    "sleep(2)\n",
    "\n",
    "# para cada una de las categorías principales\n",
    "# poner un max excesivo\n",
    "for category in range(1,31):\n",
    "\n",
    "    while 1:\n",
    "\n",
    "        # intenta clickar\n",
    "        try:\n",
    "            \n",
    "            driver.find_element(\"xpath\", f'//*[@id=\"app\"]/div/div/div/div[1]/div[1]/div[1]/div/div[2]/div/div/div[2]/ul/li[{category}]/a').click()\n",
    "            flag2 = 0\n",
    "\n",
    "            for subcategory in range (1,31):\n",
    "\n",
    "                while 1:\n",
    "\n",
    "                    try:\n",
    "                        \n",
    "                        urls.append(driver.find_element(\"xpath\", f'//*[@id=\"app\"]/div/div/div/div[1]/div[1]/div[1]/div/div[2]/div/div/div[2]/ul/li[{category}]/ul/div[{subcategory}]/a').get_attribute(\"href\"))\n",
    "                        sleep(0.1)\n",
    "                        break\n",
    "\n",
    "                    except:\n",
    "\n",
    "                        flag2 = 1\n",
    "                        break\n",
    "                    \n",
    "                if flag2:\n",
    "                    break\n",
    "            \n",
    "            sleep(1)\n",
    "            break\n",
    "        \n",
    "        # break si se acaban\n",
    "        except:\n",
    "\n",
    "            flag = 1\n",
    "            break\n",
    "\n",
    "    if flag:\n",
    "\n",
    "        break\n",
    "\n",
    "driver.quit()"
   ]
  },
  {
   "cell_type": "code",
   "execution_count": 62,
   "metadata": {},
   "outputs": [],
   "source": [
    "df = pd.DataFrame(urls, columns=['url'])\n",
    "\n",
    "df.to_csv(\"../data/urls-dia.csv\", index=False, sep= \",\")"
   ]
  },
  {
   "attachments": {},
   "cell_type": "markdown",
   "metadata": {},
   "source": [
    "# sopa bonita"
   ]
  },
  {
   "cell_type": "code",
   "execution_count": 63,
   "metadata": {},
   "outputs": [],
   "source": [
    "# ['supermarket', 'category', 'name', 'description', 'price', 'reference_price', 'reference_unit', 'insert_date', 'product_id']\n",
    "\n",
    "resultados_dia = {\"supermarket\": 'dia-es',\n",
    "                \"category\":[],\n",
    "                \"name\":[], \n",
    "                \"description\": [], \n",
    "                \"price\": [], \n",
    "                \"reference_price\": [],\n",
    "                \"reference_unit\": [],\n",
    "                \"insert_date\": [],\n",
    "                \"product_id\": []}"
   ]
  },
  {
   "cell_type": "code",
   "execution_count": 63,
   "metadata": {},
   "outputs": [
    {
     "name": "stdout",
     "output_type": "stream",
     "text": [
      "200\n",
      "Cantidad de productos extraídos: 10\n",
      "<p class=\"search-product-card__product-name\">Pechuga de pavo NUESTRA ALACENA pack 2 unidades SOBRE 400 GR</p>\n",
      "Pechuga de pavo NUESTRA ALACENA pack 2 unidades SOBRE 400 GR\n"
     ]
    },
    {
     "data": {
      "text/plain": [
       "[<p class=\"search-product-card__product-name\">Pechuga de pavo NUESTRA ALACENA pack 2 unidades SOBRE 400 GR</p>,\n",
       " <p class=\"search-product-card__product-name\">Jamón cocido extra NUESTRA ALACENA pack 2 unidades SOBRE 450 GR</p>,\n",
       " <p class=\"search-product-card__product-name\">Bacon en tiras NUESTRA ALACENA pack 2 unidades BANDEJA 200 GR</p>,\n",
       " <p class=\"search-product-card__product-name\">Bacon NUESTRA ALACENA  SOBRE 200 GR</p>,\n",
       " <p class=\"search-product-card__product-name\">Jamón cocido extra 97% carne NUESTRA ALACENA  SOBRE 150 GR</p>,\n",
       " <p class=\"search-product-card__product-name\">Pechuga de pavo 90% carne NUESTRA ALACENA  SOBRE 120 GR</p>,\n",
       " <p class=\"search-product-card__product-name\">Jamón cocido extra ELPOZO 1954  SOBRE 150 GR</p>,\n",
       " <p class=\"search-product-card__product-name\">Jamón cocido extra CAMPOFRIO FINISSIMAS  SOBRE 115 GR</p>,\n",
       " <p class=\"search-product-card__product-name\">Fiambre de pavo sándwich ELPOZO   BANDEJA 270 GR</p>,\n",
       " <p class=\"search-product-card__product-name\">Pechuga de pavo CAMPOFRIO FINISSIMAS  SOBRE 115 GR</p>]"
      ]
     },
     "execution_count": 63,
     "metadata": {},
     "output_type": "execute_result"
    }
   ],
   "source": [
    "url = 'https://www.dia.es/charcuteria-y-quesos/jamon-cocido-lacon-fiambres-y-mortadela/c/L2001'\n",
    "res = requests.get(url)\n",
    "sleep(1)\n",
    "\n",
    "print(res.status_code)\n",
    "\n",
    "sopa = BeautifulSoup(res.content, 'html.parser')\n",
    "\n",
    "#productos = sopa.find_all(\"div\", {\"class\": \"search-product-card search-product-card__dia-border product-card-list__item\"})\n",
    "productos = sopa.find_all(\"p\", {\"class\": \"search-product-card__product-name\"})\n",
    "\n",
    "print(f'Cantidad de productos extraídos: {len(productos)}')\n",
    "\n",
    "print(productos[0])\n",
    "\n",
    "print(productos[0].text)\n",
    "\n",
    "productos\n"
   ]
  },
  {
   "cell_type": "code",
   "execution_count": 36,
   "metadata": {},
   "outputs": [
    {
     "name": "stdout",
     "output_type": "stream",
     "text": [
      "Productos extraídos: 20 de 20\n",
      "Jamón cocido ELPOZO   SOBRE 140 GR\n",
      "1,50 €\n",
      " (10,71 €/KILO) \n"
     ]
    }
   ],
   "source": [
    "# Create your driver\n",
    "driver = webdriver.Chrome()\n",
    "\n",
    "# Get a page\n",
    "driver.get(\"https://www.dia.es/charcuteria-y-quesos/jamon-cocido-lacon-fiambres-y-mortadela/c/L2001\") \n",
    "sleep(2)\n",
    "\n",
    "Y = 1200\n",
    "driver.execute_script(f\"window.scrollTo(0, {Y})\") \n",
    "sleep(2)\n",
    "\n",
    "# Feed the source to BeautifulSoup\n",
    "soup = BeautifulSoup(driver.page_source, 'html.parser')\n",
    "\n",
    "productos = soup.find_all(\"p\", {\"class\": \"search-product-card__product-name\"})\n",
    "precio = soup.find_all(\"p\", {\"class\": \"search-product-card__active-price\"})\n",
    "kilo = soup.find_all(\"p\", {\"class\": \"search-product-card__price-per-unit\"})\n",
    "\n",
    "driver.quit()\n",
    "\n",
    "print(f'Productos extraídos: {len(productos)} de 20')\n",
    "\n",
    "print(productos[-1].text)\n",
    "print(precio[-1].text)\n",
    "print(kilo[-1].text)"
   ]
  },
  {
   "cell_type": "code",
   "execution_count": 56,
   "metadata": {},
   "outputs": [
    {
     "name": "stdout",
     "output_type": "stream",
     "text": [
      "None\n",
      "Productos extraídos: 20 de 20\n",
      "[<p class=\"search-product-card__product-name\">Pechuga de pavo NUESTRA ALACENA pack 2 unidades SOBRE 400 GR</p>, <p class=\"search-product-card__product-name\">Jamón cocido extra NUESTRA ALACENA pack 2 unidades SOBRE 450 GR</p>, <p class=\"search-product-card__product-name\">Bacon en tiras NUESTRA ALACENA pack 2 unidades BANDEJA 200 GR</p>, <p class=\"search-product-card__product-name\">Bacon NUESTRA ALACENA  SOBRE 200 GR</p>, <p class=\"search-product-card__product-name\">Jamón cocido extra 97% carne NUESTRA ALACENA  SOBRE 150 GR</p>, <p class=\"search-product-card__product-name\">Pechuga de pavo 90% carne NUESTRA ALACENA  SOBRE 120 GR</p>, <p class=\"search-product-card__product-name\">Jamón cocido extra ELPOZO 1954  SOBRE 150 GR</p>, <p class=\"search-product-card__product-name\">Jamón cocido extra CAMPOFRIO FINISSIMAS  SOBRE 115 GR</p>, <p class=\"search-product-card__product-name\">Fiambre de pavo sándwich ELPOZO   BANDEJA 270 GR</p>, <p class=\"search-product-card__product-name\">Pechuga de pavo CAMPOFRIO FINISSIMAS  SOBRE 115 GR</p>, <p class=\"search-product-card__product-name\">Mortadela NUESTRA ALACENA  SOBRE 250 GR</p>, <p class=\"search-product-card__product-name\">Mortadela con aceitunas NUESTRA ALACENA  SOBRE 250 GR</p>, <p class=\"search-product-card__product-name\">Jamón de pavo NUESTRA ALACENA  SOBRE 200 GR</p>, <p class=\"search-product-card__product-name\">Jamón cocido extra bajo en sal NUESTRA ALACENA  SOBRE 200 GR</p>, <p class=\"search-product-card__product-name\">Bacon en lonchas ELPOZO   SOBRE 110 GR</p>, <p class=\"search-product-card__product-name\">Jamón de pavo con trufa y boletus ELPOZO   SOBRE 120 GR</p>, <p class=\"search-product-card__product-name\">Pavo maxi NUESTRA ALACENA  900 GR</p>, <p class=\"search-product-card__product-name\">Fiambre de york ELPOZO   SOBRE 300 GR</p>, <p class=\"search-product-card__product-name\">Chopped lata NUESTRA ALACENA  SOBRE 250 GR</p>, <p class=\"search-product-card__product-name\">Jamón cocido ELPOZO   SOBRE 140 GR</p>]\n",
      "[<p class=\"search-product-card__active-price\" data-test-id=\"search-product-card-unit-price\">3,55 €</p>, <p class=\"search-product-card__active-price\" data-test-id=\"search-product-card-unit-price\">3,59 €</p>, <p class=\"search-product-card__active-price\" data-test-id=\"search-product-card-unit-price\">1,79 €</p>, <p class=\"search-product-card__active-price\" data-test-id=\"search-product-card-unit-price\">1,99 €</p>, <p class=\"search-product-card__active-price\" data-test-id=\"search-product-card-unit-price\">2,05 €</p>, <p class=\"search-product-card__active-price\" data-test-id=\"search-product-card-unit-price\">2,29 €</p>, <p class=\"search-product-card__active-price\" data-test-id=\"search-product-card-unit-price\">2,00 €</p>, <p class=\"search-product-card__active-price\" data-test-id=\"search-product-card-unit-price\">2,25 €</p>, <p class=\"search-product-card__active-price\" data-test-id=\"search-product-card-unit-price\">2,00 €</p>, <p class=\"search-product-card__active-price\" data-test-id=\"search-product-card-unit-price\">2,25 €</p>, <p class=\"search-product-card__active-price\" data-test-id=\"search-product-card-unit-price\">1,35 €</p>, <p class=\"search-product-card__active-price\" data-test-id=\"search-product-card-unit-price\">1,45 €</p>, <p class=\"search-product-card__active-price\" data-test-id=\"search-product-card-unit-price\">1,65 €</p>, <p class=\"search-product-card__active-price\" data-test-id=\"search-product-card-unit-price\">1,99 €</p>, <p class=\"search-product-card__active-price\" data-test-id=\"search-product-card-unit-price\">1,50 €</p>, <p class=\"search-product-card__active-price\" data-test-id=\"search-product-card-unit-price\">2,00 €</p>, <p class=\"search-product-card__active-price\" data-test-id=\"search-product-card-unit-price\">2,85 €</p>, <p class=\"search-product-card__active-price\" data-test-id=\"search-product-card-unit-price\">2,00 €</p>, <p class=\"search-product-card__active-price\" data-test-id=\"search-product-card-unit-price\">1,99 €</p>, <p class=\"search-product-card__active-price\" data-test-id=\"search-product-card-unit-price\">1,50 €</p>]\n",
      "[<p class=\"search-product-card__price-per-unit\" data-test-id=\"search-product-card-kilo-price\"> (8,88 €/KILO) </p>, <p class=\"search-product-card__price-per-unit\" data-test-id=\"search-product-card-kilo-price\"> (7,98 €/KILO) </p>, <p class=\"search-product-card__price-per-unit\" data-test-id=\"search-product-card-kilo-price\"> (8,95 €/KILO) </p>, <p class=\"search-product-card__price-per-unit\" data-test-id=\"search-product-card-kilo-price\"> (9,95 €/KILO) </p>, <p class=\"search-product-card__price-per-unit\" data-test-id=\"search-product-card-kilo-price\"> (13,67 €/KILO) </p>, <p class=\"search-product-card__price-per-unit\" data-test-id=\"search-product-card-kilo-price\"> (19,08 €/KILO) </p>, <p class=\"search-product-card__price-per-unit\" data-test-id=\"search-product-card-kilo-price\"> (13,33 €/KILO) </p>, <p class=\"search-product-card__price-per-unit\" data-test-id=\"search-product-card-kilo-price\"> (19,57 €/KILO) </p>, <p class=\"search-product-card__price-per-unit\" data-test-id=\"search-product-card-kilo-price\"> (7,41 €/KILO) </p>, <p class=\"search-product-card__price-per-unit\" data-test-id=\"search-product-card-kilo-price\"> (19,57 €/KILO) </p>, <p class=\"search-product-card__price-per-unit\" data-test-id=\"search-product-card-kilo-price\"> (5,40 €/KILO) </p>, <p class=\"search-product-card__price-per-unit\" data-test-id=\"search-product-card-kilo-price\"> (5,80 €/KILO) </p>, <p class=\"search-product-card__price-per-unit\" data-test-id=\"search-product-card-kilo-price\"> (8,25 €/KILO) </p>, <p class=\"search-product-card__price-per-unit\" data-test-id=\"search-product-card-kilo-price\"> (9,95 €/KILO) </p>, <p class=\"search-product-card__price-per-unit\" data-test-id=\"search-product-card-kilo-price\"> (13,64 €/KILO) </p>, <p class=\"search-product-card__price-per-unit\" data-test-id=\"search-product-card-kilo-price\"> (16,67 €/KILO) </p>, <p class=\"search-product-card__price-per-unit\" data-test-id=\"search-product-card-kilo-price\"> (3,17 €/KILO) </p>, <p class=\"search-product-card__price-per-unit\" data-test-id=\"search-product-card-kilo-price\"> (6,67 €/KILO) </p>, <p class=\"search-product-card__price-per-unit\" data-test-id=\"search-product-card-kilo-price\"> (7,96 €/KILO) </p>, <p class=\"search-product-card__price-per-unit\" data-test-id=\"search-product-card-kilo-price\"> (10,71 €/KILO) </p>]\n"
     ]
    }
   ],
   "source": [
    "productos = []\n",
    "precio = []\n",
    "kilo = []\n",
    "\n",
    "# Create your driver\n",
    "driver = webdriver.Chrome()\n",
    "\n",
    "# Get a page\n",
    "driver.get(\"https://www.dia.es/charcuteria-y-quesos/jamon-cocido-lacon-fiambres-y-mortadela/c/L2001\")\n",
    "sleep(2)\n",
    "\n",
    "Y = 1200\n",
    "driver.execute_script(f\"window.scrollTo(0, {Y})\") \n",
    "sleep(2)\n",
    "\n",
    "# Feed the source to BeautifulSoup\n",
    "soup = BeautifulSoup(driver.page_source, 'html.parser')\n",
    "\n",
    "productos = soup.find_all(\"p\", {\"class\": \"search-product-card__product-name\"})\n",
    "precio = soup.find_all(\"p\", {\"class\": \"search-product-card__active-price\"})\n",
    "kilo = soup.find_all(\"p\", {\"class\": \"search-product-card__price-per-unit\"})\n",
    "\n",
    "driver.quit()\n",
    "\n",
    "print(f'Productos extraídos: {len(productos)} de 20')\n",
    "\n",
    "print(productos)\n",
    "print(precio)\n",
    "print(kilo)"
   ]
  },
  {
   "cell_type": "code",
   "execution_count": 54,
   "metadata": {},
   "outputs": [
    {
     "name": "stdout",
     "output_type": "stream",
     "text": [
      "Pechuga de pavo NUESTRA ALACENA pack 2 unidades SOBRE 400 GR\n",
      "Jamón cocido extra NUESTRA ALACENA pack 2 unidades SOBRE 450 GR\n",
      "Bacon en tiras NUESTRA ALACENA pack 2 unidades BANDEJA 200 GR\n",
      "Bacon NUESTRA ALACENA  SOBRE 200 GR\n",
      "Jamón cocido extra 97% carne NUESTRA ALACENA  SOBRE 150 GR\n",
      "Pechuga de pavo 90% carne NUESTRA ALACENA  SOBRE 120 GR\n",
      "Jamón cocido extra ELPOZO 1954  SOBRE 150 GR\n",
      "Jamón cocido extra CAMPOFRIO FINISSIMAS  SOBRE 115 GR\n",
      "Fiambre de pavo sándwich ELPOZO   BANDEJA 270 GR\n",
      "Pechuga de pavo CAMPOFRIO FINISSIMAS  SOBRE 115 GR\n",
      "Mortadela NUESTRA ALACENA  SOBRE 250 GR\n",
      "Mortadela con aceitunas NUESTRA ALACENA  SOBRE 250 GR\n",
      "Jamón de pavo NUESTRA ALACENA  SOBRE 200 GR\n",
      "Jamón cocido extra bajo en sal NUESTRA ALACENA  SOBRE 200 GR\n",
      "Bacon en lonchas ELPOZO   SOBRE 110 GR\n",
      "Jamón de pavo con trufa y boletus ELPOZO   SOBRE 120 GR\n",
      "Pavo maxi NUESTRA ALACENA  900 GR\n",
      "Fiambre de york ELPOZO   SOBRE 300 GR\n",
      "Chopped lata NUESTRA ALACENA  SOBRE 250 GR\n",
      "Jamón cocido ELPOZO   SOBRE 140 GR\n"
     ]
    }
   ],
   "source": [
    "for p in productos:\n",
    "    print(p.text)\n"
   ]
  },
  {
   "cell_type": "code",
   "execution_count": 52,
   "metadata": {},
   "outputs": [
    {
     "name": "stdout",
     "output_type": "stream",
     "text": [
      "20\n"
     ]
    }
   ],
   "source": [
    "print(len(productos))"
   ]
  },
  {
   "cell_type": "code",
   "execution_count": 76,
   "metadata": {},
   "outputs": [
    {
     "name": "stdout",
     "output_type": "stream",
     "text": [
      "3\n",
      "[[<p class=\"search-product-card__active-price\" data-test-id=\"search-product-card-unit-price\">3,55 €</p>, <p class=\"search-product-card__active-price\" data-test-id=\"search-product-card-unit-price\">3,59 €</p>, <p class=\"search-product-card__active-price\" data-test-id=\"search-product-card-unit-price\">1,79 €</p>, <p class=\"search-product-card__active-price\" data-test-id=\"search-product-card-unit-price\">1,99 €</p>, <p class=\"search-product-card__active-price\" data-test-id=\"search-product-card-unit-price\">2,05 €</p>, <p class=\"search-product-card__active-price\" data-test-id=\"search-product-card-unit-price\">2,29 €</p>, <p class=\"search-product-card__active-price\" data-test-id=\"search-product-card-unit-price\">2,00 €</p>, <p class=\"search-product-card__active-price\" data-test-id=\"search-product-card-unit-price\">2,25 €</p>, <p class=\"search-product-card__active-price\" data-test-id=\"search-product-card-unit-price\">2,00 €</p>], [<p class=\"search-product-card__active-price\" data-test-id=\"search-product-card-unit-price\">1,99 €</p>, <p class=\"search-product-card__active-price\" data-test-id=\"search-product-card-unit-price\">1,49 €</p>, <p class=\"search-product-card__active-price\" data-test-id=\"search-product-card-unit-price\">2,29 €</p>, <p class=\"search-product-card__active-price\" data-test-id=\"search-product-card-unit-price\">2,09 €</p>, <p class=\"search-product-card__active-price\" data-test-id=\"search-product-card-unit-price\">2,25 €</p>, <p class=\"search-product-card__active-price\" data-test-id=\"search-product-card-unit-price\">2,35 €</p>, <p class=\"search-product-card__active-price\" data-test-id=\"search-product-card-unit-price\">2,55 €</p>, <p class=\"search-product-card__active-price\" data-test-id=\"search-product-card-unit-price\">1,99 €</p>, <p class=\"search-product-card__active-price\" data-test-id=\"search-product-card-unit-price\">2,79 €</p>, <p class=\"search-product-card__active-price\" data-test-id=\"search-product-card-unit-price\">3,59 €</p>], [<p class=\"search-product-card__active-price\" data-test-id=\"search-product-card-unit-price\">2,99 €</p>, <p class=\"search-product-card__active-price\" data-test-id=\"search-product-card-unit-price\">2,35 €</p>, <p class=\"search-product-card__active-price\" data-test-id=\"search-product-card-unit-price\">1,67 €</p>, <p class=\"search-product-card__active-price\" data-test-id=\"search-product-card-unit-price\">3,99 €</p>, <p class=\"search-product-card__active-price\" data-test-id=\"search-product-card-unit-price\">1,50 €</p>, <p class=\"search-product-card__active-price\" data-test-id=\"search-product-card-unit-price\">1,50 €</p>, <p class=\"search-product-card__active-price\" data-test-id=\"search-product-card-unit-price\">2,65 €</p>, <p class=\"search-product-card__active-price\" data-test-id=\"search-product-card-unit-price\">4,15 €</p>, <p class=\"search-product-card__active-price\" data-test-id=\"search-product-card-unit-price\">2,25 €</p>, <p class=\"search-product-card__active-price\" data-test-id=\"search-product-card-unit-price\">2,25 €</p>]]\n",
      "[[<p class=\"search-product-card__price-per-unit\" data-test-id=\"search-product-card-kilo-price\"> (8,88 €/KILO) </p>, <p class=\"search-product-card__price-per-unit\" data-test-id=\"search-product-card-kilo-price\"> (7,98 €/KILO) </p>, <p class=\"search-product-card__price-per-unit\" data-test-id=\"search-product-card-kilo-price\"> (8,95 €/KILO) </p>, <p class=\"search-product-card__price-per-unit\" data-test-id=\"search-product-card-kilo-price\"> (9,95 €/KILO) </p>, <p class=\"search-product-card__price-per-unit\" data-test-id=\"search-product-card-kilo-price\"> (13,67 €/KILO) </p>, <p class=\"search-product-card__price-per-unit\" data-test-id=\"search-product-card-kilo-price\"> (19,08 €/KILO) </p>, <p class=\"search-product-card__price-per-unit\" data-test-id=\"search-product-card-kilo-price\"> (13,33 €/KILO) </p>, <p class=\"search-product-card__price-per-unit\" data-test-id=\"search-product-card-kilo-price\"> (19,57 €/KILO) </p>, <p class=\"search-product-card__price-per-unit\" data-test-id=\"search-product-card-kilo-price\"> (7,41 €/KILO) </p>], [<p class=\"search-product-card__price-per-unit\" data-test-id=\"search-product-card-kilo-price\"> (9,95 €/KILO) </p>, <p class=\"search-product-card__price-per-unit\" data-test-id=\"search-product-card-kilo-price\"> (5,96 €/KILO) </p>, <p class=\"search-product-card__price-per-unit\" data-test-id=\"search-product-card-kilo-price\"> (4,58 €/KILO) </p>, <p class=\"search-product-card__price-per-unit\" data-test-id=\"search-product-card-kilo-price\"> (4,18 €/KILO) </p>, <p class=\"search-product-card__price-per-unit\" data-test-id=\"search-product-card-kilo-price\"> (11,25 €/KILO) </p>, <p class=\"search-product-card__price-per-unit\" data-test-id=\"search-product-card-kilo-price\"> (11,75 €/KILO) </p>, <p class=\"search-product-card__price-per-unit\" data-test-id=\"search-product-card-kilo-price\"> (12,75 €/KILO) </p>, <p class=\"search-product-card__price-per-unit\" data-test-id=\"search-product-card-kilo-price\"> (13,27 €/KILO) </p>, <p class=\"search-product-card__price-per-unit\" data-test-id=\"search-product-card-kilo-price\"> (11,16 €/KILO) </p>, <p class=\"search-product-card__price-per-unit\" data-test-id=\"search-product-card-kilo-price\"> (7,18 €/KILO) </p>], [<p class=\"search-product-card__price-per-unit\" data-test-id=\"search-product-card-kilo-price\"> (14,95 €/KILO) </p>, <p class=\"search-product-card__price-per-unit\" data-test-id=\"search-product-card-kilo-price\"> (9,40 €/KILO) </p>, <p class=\"search-product-card__price-per-unit\" data-test-id=\"search-product-card-kilo-price\"> (8,36 €/KILO) </p>, <p class=\"search-product-card__price-per-unit\" data-test-id=\"search-product-card-kilo-price\"> (9,98 €/KILO) </p>, <p class=\"search-product-card__price-per-unit\" data-test-id=\"search-product-card-kilo-price\"> (13,04 €/KILO) </p>, <p class=\"search-product-card__price-per-unit\" data-test-id=\"search-product-card-kilo-price\"> (14,29 €/KILO) </p>, <p class=\"search-product-card__price-per-unit\" data-test-id=\"search-product-card-kilo-price\"> (13,25 €/KILO) </p>, <p class=\"search-product-card__price-per-unit\" data-test-id=\"search-product-card-kilo-price\"> (20,75 €/KILO) </p>, <p class=\"search-product-card__price-per-unit\" data-test-id=\"search-product-card-kilo-price\"> (16,07 €/KILO) </p>, <p class=\"search-product-card__price-per-unit\" data-test-id=\"search-product-card-kilo-price\"> (19,57 €/KILO) </p>]]\n"
     ]
    }
   ],
   "source": [
    "productos = []\n",
    "precio = []\n",
    "kilo = []\n",
    "flag3 = 0\n",
    "\n",
    "# Create your driver\n",
    "driver = webdriver.Chrome()\n",
    "\n",
    "param = 'c'\n",
    "url = f'https://www.dia.es/charcuteria-y-quesos/jamon-cocido-lacon-fiambres-y-mortadela/{param}/L2001'\n",
    "\n",
    "# Get a page\n",
    "driver.get(url)\n",
    "sleep(2)\n",
    "\n",
    "Y = 1200\n",
    "driver.execute_script(f\"window.scrollTo(0, {Y})\") \n",
    "sleep(2)\n",
    "\n",
    "# Feed the source to BeautifulSoup\n",
    "soup = BeautifulSoup(driver.page_source, 'html.parser')\n",
    "\n",
    "productos.append(soup.find_all(\"p\", {\"class\": \"search-product-card__product-name\"}))\n",
    "precio.append(soup.find_all(\"p\", {\"class\": \"search-product-card__active-price\"}))\n",
    "kilo.append(soup.find_all(\"p\", {\"class\": \"search-product-card__price-per-unit\"}))\n",
    "\n",
    "for i in range(2,10):\n",
    "\n",
    "    param = f'pag-{i}'\n",
    "    url = f'https://www.dia.es/charcuteria-y-quesos/jamon-cocido-lacon-fiambres-y-mortadela/{param}/c/L2001'\n",
    "\n",
    "    driver.get(url)\n",
    "    sleep(2)\n",
    "\n",
    "    Y = 1200\n",
    "    driver.execute_script(f\"window.scrollTo(0, {Y})\") \n",
    "    sleep(2)\n",
    "\n",
    "    soup = BeautifulSoup(driver.page_source, 'html.parser')\n",
    "\n",
    "    if soup.find_all(\"div\", {\"class\": \"plp-error-page__card\"}):\n",
    "\n",
    "        break\n",
    "\n",
    "    productos.append(soup.find_all(\"p\", {\"class\": \"search-product-card__product-name\"}))\n",
    "    precio.append(soup.find_all(\"p\", {\"class\": \"search-product-card__active-price\"}))\n",
    "    kilo.append(soup.find_all(\"p\", {\"class\": \"search-product-card__price-per-unit\"}))\n",
    "\n",
    "driver.quit()\n",
    "\n",
    "print(len(productos))\n",
    "print(precio)\n",
    "print(kilo)"
   ]
  },
  {
   "cell_type": "code",
   "execution_count": 79,
   "metadata": {},
   "outputs": [
    {
     "ename": "NoSuchWindowException",
     "evalue": "Message: no such window: target window already closed\nfrom unknown error: web view not found\n  (Session info: chrome=114.0.5735.198)\nStacktrace:\n0   chromedriver                        0x000000010c3cf6b8 chromedriver + 4937400\n1   chromedriver                        0x000000010c3c6b73 chromedriver + 4901747\n2   chromedriver                        0x000000010bf84616 chromedriver + 435734\n3   chromedriver                        0x000000010bf5958c chromedriver + 259468\n4   chromedriver                        0x000000010bff164f chromedriver + 882255\n5   chromedriver                        0x000000010c006516 chromedriver + 967958\n6   chromedriver                        0x000000010bfebde3 chromedriver + 859619\n7   chromedriver                        0x000000010bfb9d7f chromedriver + 654719\n8   chromedriver                        0x000000010bfbb0de chromedriver + 659678\n9   chromedriver                        0x000000010c38b2ad chromedriver + 4657837\n10  chromedriver                        0x000000010c390130 chromedriver + 4677936\n11  chromedriver                        0x000000010c396def chromedriver + 4705775\n12  chromedriver                        0x000000010c39105a chromedriver + 4681818\n13  chromedriver                        0x000000010c36392c chromedriver + 4495660\n14  chromedriver                        0x000000010c3ae838 chromedriver + 4802616\n15  chromedriver                        0x000000010c3ae9b7 chromedriver + 4802999\n16  chromedriver                        0x000000010c3bf99f chromedriver + 4872607\n17  libsystem_pthread.dylib             0x00007ff8118fb1d3 _pthread_start + 125\n18  libsystem_pthread.dylib             0x00007ff8118f6bd3 thread_start + 15\n",
     "output_type": "error",
     "traceback": [
      "\u001b[0;31m---------------------------------------------------------------------------\u001b[0m",
      "\u001b[0;31mNoSuchWindowException\u001b[0m                     Traceback (most recent call last)",
      "Cell \u001b[0;32mIn[79], line 40\u001b[0m\n\u001b[1;32m     37\u001b[0m driver\u001b[39m.\u001b[39mexecute_script(\u001b[39mf\u001b[39m\u001b[39m\"\u001b[39m\u001b[39mwindow.scrollTo(0, \u001b[39m\u001b[39m{\u001b[39;00mY\u001b[39m}\u001b[39;00m\u001b[39m)\u001b[39m\u001b[39m\"\u001b[39m) \n\u001b[1;32m     38\u001b[0m sleep(\u001b[39m2\u001b[39m)\n\u001b[0;32m---> 40\u001b[0m soup \u001b[39m=\u001b[39m BeautifulSoup(driver\u001b[39m.\u001b[39;49mpage_source, \u001b[39m'\u001b[39m\u001b[39mhtml.parser\u001b[39m\u001b[39m'\u001b[39m)\n\u001b[1;32m     42\u001b[0m \u001b[39mif\u001b[39;00m soup\u001b[39m.\u001b[39mfind_all(\u001b[39m\"\u001b[39m\u001b[39mdiv\u001b[39m\u001b[39m\"\u001b[39m, {\u001b[39m\"\u001b[39m\u001b[39mclass\u001b[39m\u001b[39m\"\u001b[39m: \u001b[39m\"\u001b[39m\u001b[39mplp-error-page__card\u001b[39m\u001b[39m\"\u001b[39m}):\n\u001b[1;32m     44\u001b[0m     \u001b[39mbreak\u001b[39;00m\n",
      "File \u001b[0;32m~/anaconda3/lib/python3.10/site-packages/selenium/webdriver/remote/webdriver.py:447\u001b[0m, in \u001b[0;36mWebDriver.page_source\u001b[0;34m(self)\u001b[0m\n\u001b[1;32m    438\u001b[0m \u001b[39m@property\u001b[39m\n\u001b[1;32m    439\u001b[0m \u001b[39mdef\u001b[39;00m \u001b[39mpage_source\u001b[39m(\u001b[39mself\u001b[39m) \u001b[39m-\u001b[39m\u001b[39m>\u001b[39m \u001b[39mstr\u001b[39m:\n\u001b[1;32m    440\u001b[0m     \u001b[39m\"\"\"Gets the source of the current page.\u001b[39;00m\n\u001b[1;32m    441\u001b[0m \n\u001b[1;32m    442\u001b[0m \u001b[39m    :Usage:\u001b[39;00m\n\u001b[0;32m   (...)\u001b[0m\n\u001b[1;32m    445\u001b[0m \u001b[39m            driver.page_source\u001b[39;00m\n\u001b[1;32m    446\u001b[0m \u001b[39m    \"\"\"\u001b[39;00m\n\u001b[0;32m--> 447\u001b[0m     \u001b[39mreturn\u001b[39;00m \u001b[39mself\u001b[39;49m\u001b[39m.\u001b[39;49mexecute(Command\u001b[39m.\u001b[39;49mGET_PAGE_SOURCE)[\u001b[39m\"\u001b[39m\u001b[39mvalue\u001b[39m\u001b[39m\"\u001b[39m]\n",
      "File \u001b[0;32m~/anaconda3/lib/python3.10/site-packages/selenium/webdriver/remote/webdriver.py:346\u001b[0m, in \u001b[0;36mWebDriver.execute\u001b[0;34m(self, driver_command, params)\u001b[0m\n\u001b[1;32m    344\u001b[0m response \u001b[39m=\u001b[39m \u001b[39mself\u001b[39m\u001b[39m.\u001b[39mcommand_executor\u001b[39m.\u001b[39mexecute(driver_command, params)\n\u001b[1;32m    345\u001b[0m \u001b[39mif\u001b[39;00m response:\n\u001b[0;32m--> 346\u001b[0m     \u001b[39mself\u001b[39;49m\u001b[39m.\u001b[39;49merror_handler\u001b[39m.\u001b[39;49mcheck_response(response)\n\u001b[1;32m    347\u001b[0m     response[\u001b[39m\"\u001b[39m\u001b[39mvalue\u001b[39m\u001b[39m\"\u001b[39m] \u001b[39m=\u001b[39m \u001b[39mself\u001b[39m\u001b[39m.\u001b[39m_unwrap_value(response\u001b[39m.\u001b[39mget(\u001b[39m\"\u001b[39m\u001b[39mvalue\u001b[39m\u001b[39m\"\u001b[39m, \u001b[39mNone\u001b[39;00m))\n\u001b[1;32m    348\u001b[0m     \u001b[39mreturn\u001b[39;00m response\n",
      "File \u001b[0;32m~/anaconda3/lib/python3.10/site-packages/selenium/webdriver/remote/errorhandler.py:245\u001b[0m, in \u001b[0;36mErrorHandler.check_response\u001b[0;34m(self, response)\u001b[0m\n\u001b[1;32m    243\u001b[0m         alert_text \u001b[39m=\u001b[39m value[\u001b[39m\"\u001b[39m\u001b[39malert\u001b[39m\u001b[39m\"\u001b[39m]\u001b[39m.\u001b[39mget(\u001b[39m\"\u001b[39m\u001b[39mtext\u001b[39m\u001b[39m\"\u001b[39m)\n\u001b[1;32m    244\u001b[0m     \u001b[39mraise\u001b[39;00m exception_class(message, screen, stacktrace, alert_text)  \u001b[39m# type: ignore[call-arg]  # mypy is not smart enough here\u001b[39;00m\n\u001b[0;32m--> 245\u001b[0m \u001b[39mraise\u001b[39;00m exception_class(message, screen, stacktrace)\n",
      "\u001b[0;31mNoSuchWindowException\u001b[0m: Message: no such window: target window already closed\nfrom unknown error: web view not found\n  (Session info: chrome=114.0.5735.198)\nStacktrace:\n0   chromedriver                        0x000000010c3cf6b8 chromedriver + 4937400\n1   chromedriver                        0x000000010c3c6b73 chromedriver + 4901747\n2   chromedriver                        0x000000010bf84616 chromedriver + 435734\n3   chromedriver                        0x000000010bf5958c chromedriver + 259468\n4   chromedriver                        0x000000010bff164f chromedriver + 882255\n5   chromedriver                        0x000000010c006516 chromedriver + 967958\n6   chromedriver                        0x000000010bfebde3 chromedriver + 859619\n7   chromedriver                        0x000000010bfb9d7f chromedriver + 654719\n8   chromedriver                        0x000000010bfbb0de chromedriver + 659678\n9   chromedriver                        0x000000010c38b2ad chromedriver + 4657837\n10  chromedriver                        0x000000010c390130 chromedriver + 4677936\n11  chromedriver                        0x000000010c396def chromedriver + 4705775\n12  chromedriver                        0x000000010c39105a chromedriver + 4681818\n13  chromedriver                        0x000000010c36392c chromedriver + 4495660\n14  chromedriver                        0x000000010c3ae838 chromedriver + 4802616\n15  chromedriver                        0x000000010c3ae9b7 chromedriver + 4802999\n16  chromedriver                        0x000000010c3bf99f chromedriver + 4872607\n17  libsystem_pthread.dylib             0x00007ff8118fb1d3 _pthread_start + 125\n18  libsystem_pthread.dylib             0x00007ff8118f6bd3 thread_start + 15\n"
     ]
    }
   ],
   "source": [
    "productos = []\n",
    "precio = []\n",
    "kilo = []\n",
    "flag3 = 0\n",
    "\n",
    "# Create your driver\n",
    "driver = webdriver.Chrome()\n",
    "\n",
    "param = 'c'\n",
    "url = [f'https://www.dia.es/charcuteria-y-quesos/jamon-cocido-lacon-fiambres-y-mortadela/{param}/L2001', \n",
    "       f'https://www.dia.es/charcuteria-y-quesos/salchichas-y-elaborados/{param}/L2206']\n",
    "\n",
    "for u in url:\n",
    "    # Get a page\n",
    "    driver.get(u)\n",
    "    sleep(2)\n",
    "\n",
    "    Y = 1200\n",
    "    driver.execute_script(f\"window.scrollTo(0, {Y})\") \n",
    "    sleep(2)\n",
    "\n",
    "    # Feed the source to BeautifulSoup\n",
    "    soup = BeautifulSoup(driver.page_source, 'html.parser')\n",
    "\n",
    "    productos.append(soup.find_all(\"p\", {\"class\": \"search-product-card__product-name\"}))\n",
    "    precio.append(soup.find_all(\"p\", {\"class\": \"search-product-card__active-price\"}))\n",
    "    kilo.append(soup.find_all(\"p\", {\"class\": \"search-product-card__price-per-unit\"}))\n",
    "\n",
    "    for i in range(2,10):\n",
    "\n",
    "        param = f'pag-{i}'\n",
    "\n",
    "        driver.get(u)\n",
    "        sleep(2)\n",
    "\n",
    "        Y = 1200\n",
    "        driver.execute_script(f\"window.scrollTo(0, {Y})\") \n",
    "        sleep(2)\n",
    "\n",
    "        soup = BeautifulSoup(driver.page_source, 'html.parser')\n",
    "\n",
    "        if soup.find_all(\"div\", {\"class\": \"plp-error-page__card\"}):\n",
    "\n",
    "            break\n",
    "\n",
    "        productos.append(soup.find_all(\"p\", {\"class\": \"search-product-card__product-name\"}))\n",
    "        precio.append(soup.find_all(\"p\", {\"class\": \"search-product-card__active-price\"}))\n",
    "        kilo.append(soup.find_all(\"p\", {\"class\": \"search-product-card__price-per-unit\"}))\n",
    "\n",
    "driver.quit()\n",
    "\n",
    "print(len(productos))\n",
    "print(precio)\n",
    "print(kilo)"
   ]
  },
  {
   "cell_type": "code",
   "execution_count": null,
   "metadata": {},
   "outputs": [],
   "source": []
  },
  {
   "cell_type": "code",
   "execution_count": null,
   "metadata": {},
   "outputs": [],
   "source": []
  },
  {
   "cell_type": "code",
   "execution_count": null,
   "metadata": {},
   "outputs": [],
   "source": []
  },
  {
   "cell_type": "code",
   "execution_count": null,
   "metadata": {},
   "outputs": [],
   "source": []
  },
  {
   "cell_type": "code",
   "execution_count": null,
   "metadata": {},
   "outputs": [],
   "source": []
  },
  {
   "cell_type": "code",
   "execution_count": null,
   "metadata": {},
   "outputs": [],
   "source": []
  },
  {
   "cell_type": "code",
   "execution_count": null,
   "metadata": {},
   "outputs": [],
   "source": []
  },
  {
   "cell_type": "code",
   "execution_count": null,
   "metadata": {},
   "outputs": [],
   "source": []
  },
  {
   "cell_type": "code",
   "execution_count": null,
   "metadata": {},
   "outputs": [],
   "source": []
  },
  {
   "cell_type": "code",
   "execution_count": null,
   "metadata": {},
   "outputs": [],
   "source": []
  },
  {
   "cell_type": "code",
   "execution_count": null,
   "metadata": {},
   "outputs": [],
   "source": []
  },
  {
   "cell_type": "code",
   "execution_count": null,
   "metadata": {},
   "outputs": [],
   "source": []
  }
 ],
 "metadata": {
  "kernelspec": {
   "display_name": "Python 3 (ipykernel)",
   "language": "python",
   "name": "python3"
  },
  "language_info": {
   "codemirror_mode": {
    "name": "ipython",
    "version": 3
   },
   "file_extension": ".py",
   "mimetype": "text/x-python",
   "name": "python",
   "nbconvert_exporter": "python",
   "pygments_lexer": "ipython3",
   "version": "3.10.9"
  },
  "toc": {
   "base_numbering": 1,
   "nav_menu": {},
   "number_sections": true,
   "sideBar": true,
   "skip_h1_title": true,
   "title_cell": "Table of Contents",
   "title_sidebar": "Contents",
   "toc_cell": false,
   "toc_position": {},
   "toc_section_display": true,
   "toc_window_display": false
  }
 },
 "nbformat": 4,
 "nbformat_minor": 4
}
