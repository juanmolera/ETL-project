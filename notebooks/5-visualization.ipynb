{
 "cells": [
  {
   "attachments": {},
   "cell_type": "markdown",
   "metadata": {},
   "source": [
    "# Visualization of results"
   ]
  },
  {
   "cell_type": "code",
   "execution_count": 1,
   "metadata": {},
   "outputs": [],
   "source": [
    "import pandas as pd\n",
    "import numpy as np\n",
    "import matplotlib.pyplot as plt\n",
    "import seaborn as sns\n",
    "from datetime import datetime\n",
    "from PIL import Image"
   ]
  },
  {
   "cell_type": "code",
   "execution_count": 2,
   "metadata": {},
   "outputs": [],
   "source": [
    "# Reads csvs\n",
    "initial = pd.read_csv('../eda/initial.csv', index_col = 0)\n",
    "scraped = pd.read_csv('../eda/scraped.csv', index_col = 0)"
   ]
  },
  {
   "cell_type": "code",
   "execution_count": 3,
   "metadata": {},
   "outputs": [
    {
     "data": {
      "text/html": [
       "<div>\n",
       "<style scoped>\n",
       "    .dataframe tbody tr th:only-of-type {\n",
       "        vertical-align: middle;\n",
       "    }\n",
       "\n",
       "    .dataframe tbody tr th {\n",
       "        vertical-align: top;\n",
       "    }\n",
       "\n",
       "    .dataframe thead th {\n",
       "        text-align: right;\n",
       "    }\n",
       "</style>\n",
       "<table border=\"1\" class=\"dataframe\">\n",
       "  <thead>\n",
       "    <tr style=\"text-align: right;\">\n",
       "      <th></th>\n",
       "      <th>url</th>\n",
       "      <th>supermarket</th>\n",
       "      <th>category</th>\n",
       "      <th>name</th>\n",
       "      <th>price</th>\n",
       "      <th>reference_price</th>\n",
       "      <th>reference_unit</th>\n",
       "      <th>insert_date</th>\n",
       "    </tr>\n",
       "  </thead>\n",
       "  <tbody>\n",
       "    <tr>\n",
       "      <th>978408</th>\n",
       "      <td>https://www.dia.es/compra-online/despensa/desa...</td>\n",
       "      <td>dia-es</td>\n",
       "      <td>azucar_chocolates_y_caramelos</td>\n",
       "      <td>NESTLE Caja roja bombones caja 200 gr</td>\n",
       "      <td>4.95</td>\n",
       "      <td>24.75</td>\n",
       "      <td>kg</td>\n",
       "      <td>2021-08-17</td>\n",
       "    </tr>\n",
       "    <tr>\n",
       "      <th>1500705</th>\n",
       "      <td>https://www.dia.es/compra-online/cuidado-del-h...</td>\n",
       "      <td>dia-es</td>\n",
       "      <td>perfumeria_higiene_salud</td>\n",
       "      <td>CISNE mopa microfibra recambio 1 ud</td>\n",
       "      <td>4.39</td>\n",
       "      <td>4.39</td>\n",
       "      <td>ud</td>\n",
       "      <td>2021-11-21</td>\n",
       "    </tr>\n",
       "    <tr>\n",
       "      <th>2879450</th>\n",
       "      <td>https://www.dia.es/compra-online/bebidas/bebid...</td>\n",
       "      <td>dia-es</td>\n",
       "      <td>mascotas</td>\n",
       "      <td>DIA bebida refrescante aromatizada cítrico zer...</td>\n",
       "      <td>0.97</td>\n",
       "      <td>0.65</td>\n",
       "      <td>l</td>\n",
       "      <td>2022-07-18</td>\n",
       "    </tr>\n",
       "    <tr>\n",
       "      <th>657687</th>\n",
       "      <td>https://www.dia.es/compra-online/despensa/arro...</td>\n",
       "      <td>dia-es</td>\n",
       "      <td>arroz_pastas_y_legumbres</td>\n",
       "      <td>LUENGO alubia cocida frasco 400 gr</td>\n",
       "      <td>0.95</td>\n",
       "      <td>2.38</td>\n",
       "      <td>kg</td>\n",
       "      <td>2021-06-21</td>\n",
       "    </tr>\n",
       "    <tr>\n",
       "      <th>678716</th>\n",
       "      <td>https://www.dia.es/compra-online/cuidado-perso...</td>\n",
       "      <td>dia-es</td>\n",
       "      <td>perfumeria_higiene_salud</td>\n",
       "      <td>COLORCREM tinte Violín Nº 46 caja 1 ud</td>\n",
       "      <td>4.25</td>\n",
       "      <td>4.25</td>\n",
       "      <td>ud</td>\n",
       "      <td>2021-06-25</td>\n",
       "    </tr>\n",
       "  </tbody>\n",
       "</table>\n",
       "</div>"
      ],
      "text/plain": [
       "                                                       url supermarket  \\\n",
       "978408   https://www.dia.es/compra-online/despensa/desa...      dia-es   \n",
       "1500705  https://www.dia.es/compra-online/cuidado-del-h...      dia-es   \n",
       "2879450  https://www.dia.es/compra-online/bebidas/bebid...      dia-es   \n",
       "657687   https://www.dia.es/compra-online/despensa/arro...      dia-es   \n",
       "678716   https://www.dia.es/compra-online/cuidado-perso...      dia-es   \n",
       "\n",
       "                              category  \\\n",
       "978408   azucar_chocolates_y_caramelos   \n",
       "1500705       perfumeria_higiene_salud   \n",
       "2879450                       mascotas   \n",
       "657687        arroz_pastas_y_legumbres   \n",
       "678716        perfumeria_higiene_salud   \n",
       "\n",
       "                                                      name  price  \\\n",
       "978408               NESTLE Caja roja bombones caja 200 gr   4.95   \n",
       "1500705                CISNE mopa microfibra recambio 1 ud   4.39   \n",
       "2879450  DIA bebida refrescante aromatizada cítrico zer...   0.97   \n",
       "657687                  LUENGO alubia cocida frasco 400 gr   0.95   \n",
       "678716              COLORCREM tinte Violín Nº 46 caja 1 ud   4.25   \n",
       "\n",
       "         reference_price reference_unit insert_date  \n",
       "978408             24.75             kg  2021-08-17  \n",
       "1500705             4.39             ud  2021-11-21  \n",
       "2879450             0.65              l  2022-07-18  \n",
       "657687              2.38             kg  2021-06-21  \n",
       "678716              4.25             ud  2021-06-25  "
      ]
     },
     "execution_count": 3,
     "metadata": {},
     "output_type": "execute_result"
    }
   ],
   "source": [
    "initial.sample(5)"
   ]
  },
  {
   "cell_type": "code",
   "execution_count": null,
   "metadata": {},
   "outputs": [],
   "source": []
  },
  {
   "cell_type": "code",
   "execution_count": null,
   "metadata": {},
   "outputs": [],
   "source": []
  }
 ],
 "metadata": {
  "kernelspec": {
   "display_name": "base",
   "language": "python",
   "name": "python3"
  },
  "language_info": {
   "codemirror_mode": {
    "name": "ipython",
    "version": 3
   },
   "file_extension": ".py",
   "mimetype": "text/x-python",
   "name": "python",
   "nbconvert_exporter": "python",
   "pygments_lexer": "ipython3",
   "version": "3.10.9"
  },
  "orig_nbformat": 4
 },
 "nbformat": 4,
 "nbformat_minor": 2
}
