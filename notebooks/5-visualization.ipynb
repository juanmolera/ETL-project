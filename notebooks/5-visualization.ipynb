{
 "cells": [
  {
   "attachments": {},
   "cell_type": "markdown",
   "metadata": {},
   "source": [
    "# Visualization of results"
   ]
  },
  {
   "cell_type": "code",
   "execution_count": null,
   "metadata": {},
   "outputs": [],
   "source": [
    "# Data manipulation\n",
    "import pandas as pd # data manipulation and dataframes\n",
    "import numpy as np # arrays manipulation and mathematical operations\n",
    "\n",
    "# Data visualization\n",
    "import matplotlib.pyplot as plt\n",
    "import seaborn as sns\n",
    "\n",
    "# Datetime\n",
    "from datetime import datetime\n",
    "\n",
    "# Te quiero demasiado\n",
    "from tqdm import tqdm"
   ]
  },
  {
   "cell_type": "code",
   "execution_count": null,
   "metadata": {},
   "outputs": [],
   "source": [
    "# Reads csvs\n",
    "initial = pd.read_csv('../eda/initial.csv', index_col = 0) #2021-03-06 #2022-08-18\n",
    "scraped = pd.read_csv('../eda/scraped.csv', index_col = 0) # 2023-07-10\n",
    "\n",
    "scraped['hue'] = 'scraped'\n",
    "initial['hue'] = 'initial'\n",
    "\n",
    "scraped.drop(scraped[scraped['category'] == 'solidario'].index, inplace = True)\n",
    "scraped.drop(scraped[scraped['category'] == 'navidad'].index, inplace = True)\n",
    "scraped.drop(scraped[scraped['category'] == 'internacional'].index, inplace = True)\n",
    "\n",
    "initial.drop(initial[initial['category'] == 'solidario'].index, inplace = True)\n",
    "initial.drop(initial[initial['category'] == 'navidad'].index, inplace = True)\n",
    "initial.drop(initial[initial['category'] == 'internacional'].index, inplace = True)\n",
    "\n",
    "initial.dropna(axis = 0, inplace = True)\n",
    "\n",
    "frames = [initial, scraped]\n",
    "concatenation = pd.concat(frames)\n",
    "\n",
    "unique_dates = concatenation['insert_date'].unique();\n",
    "unique_categories = concatenation['category'].unique();"
   ]
  },
  {
   "cell_type": "code",
   "execution_count": null,
   "metadata": {},
   "outputs": [],
   "source": [
    "mean_21_22 = sum(initial['price']) / len(initial['price'])\n",
    "mean_23 = sum(scraped['price']) / len(scraped['price'])"
   ]
  },
  {
   "cell_type": "code",
   "execution_count": null,
   "metadata": {},
   "outputs": [],
   "source": [
    "mean_price_evolution = {'dates': [], 'mean_prices': []}\n",
    "\n",
    "for d in tqdm(unique_dates):\n",
    "    mean_price_evolution['dates'].append(d)\n",
    "    mean_price_evolution['mean_prices'].append(concatenation[concatenation['insert_date'] == d]['price'].mean())"
   ]
  },
  {
   "cell_type": "code",
   "execution_count": null,
   "metadata": {},
   "outputs": [],
   "source": [
    "plt.figure(figsize = (20,8))\n",
    "\n",
    "bar_plot = sns.barplot(x = mean_price_evolution['dates'], y = mean_price_evolution['mean_prices'], palette= \"mako\")\n",
    "\n",
    "plt.title('History of the evolution of the average price of the DIA supermarket')\n",
    "plt.xlabel('Date')\n",
    "plt.ylabel('Average price')\n",
    "plt.xticks(rotation = 90);\n",
    "\n",
    "plt.axhline(mean_21_22, color = 'blue', linewidth = 2, linestyle = 'dotted')\n",
    "plt.axhline(mean_23, color ='red', linewidth = 2, linestyle = 'dotted')\n",
    "\n",
    "for index, label in enumerate(bar_plot.get_xticklabels()):\n",
    "   if index % 5 == 0:\n",
    "      label.set_visible(True)\n",
    "   else:\n",
    "      label.set_visible(False)\n",
    "plt.show()"
   ]
  },
  {
   "cell_type": "code",
   "execution_count": null,
   "metadata": {},
   "outputs": [],
   "source": [
    "mean_price_by_categories = {'categories': [], 'mean_prices': []}\n",
    "\n",
    "for c in tqdm(unique_categories):\n",
    "    mean_price_by_categories['categories'].append(c)\n",
    "    mean_price_by_categories['mean_prices'].append(initial[initial['category'] == c]['price'].mean())"
   ]
  },
  {
   "cell_type": "code",
   "execution_count": null,
   "metadata": {},
   "outputs": [],
   "source": [
    "mean_price_by_categories2 = {'categories': [], 'mean_prices': []}\n",
    "\n",
    "for c in tqdm(unique_categories):\n",
    "    mean_price_by_categories2['categories'].append(c)\n",
    "    mean_price_by_categories2['mean_prices'].append(scraped[scraped['category'] == c]['price'].mean())"
   ]
  },
  {
   "cell_type": "code",
   "execution_count": null,
   "metadata": {},
   "outputs": [],
   "source": [
    "df1 = pd.DataFrame()\n",
    "df2 = pd.DataFrame()\n",
    "\n",
    "df1['mean_prices'] = mean_price_by_categories['mean_prices']\n",
    "df1['category'] = mean_price_by_categories['categories']\n",
    "df1['hue'] = 'initial'\n",
    "\n",
    "df2['mean_prices'] = mean_price_by_categories2['mean_prices']\n",
    "df2['category'] = mean_price_by_categories2['categories']\n",
    "df2['hue'] = 'scraped'\n",
    "\n",
    "frames = [df1, df2]\n",
    "df12 = pd.concat(frames)\n",
    "\n"
   ]
  },
  {
   "cell_type": "code",
   "execution_count": null,
   "metadata": {},
   "outputs": [],
   "source": [
    "plt.figure(figsize = (20,8))\n",
    "\n",
    "sns.barplot(df12, x = 'category', y = 'mean_prices', hue = 'hue', palette = \"mako\")\n",
    "\n",
    "plt.title('Average price by category')\n",
    "plt.xlabel('Category')\n",
    "plt.ylabel('Average price')\n",
    "plt.xticks(rotation = 90);"
   ]
  },
  {
   "cell_type": "code",
   "execution_count": null,
   "metadata": {},
   "outputs": [],
   "source": [
    "price_evolution_expensive_categories = {'dates': [], 'mean_prices': []}\n",
    "\n",
    "for d in tqdm(unique_dates):\n",
    "    price_evolution_expensive_categories['dates'].append(d)\n",
    "    price_evolution_expensive_categories['mean_prices'].append(concatenation[(concatenation['insert_date'] == d) & (concatenation['category'] == 'charcuteria_y_quesos')]['price'].mean())"
   ]
  },
  {
   "cell_type": "code",
   "execution_count": null,
   "metadata": {},
   "outputs": [],
   "source": [
    "plt.figure(figsize = (20,8))\n",
    "\n",
    "\n",
    "line_plot = sns.lineplot(x = price_evolution_expensive_categories['dates'], \n",
    "             y = price_evolution_expensive_categories['mean_prices'], \n",
    "             linewidth = 2, \n",
    "             palette= \"mako\")\n",
    "\n",
    "plt.title('History of the evolution of the average price of the \"charcuteria_y_quesos\" category')\n",
    "plt.xlabel('Date')\n",
    "plt.ylabel('Average price')\n",
    "plt.xticks(rotation = 90);\n",
    "\n",
    "for index, label in enumerate(line_plot.get_xticklabels()):\n",
    "   if index % 5 == 0:\n",
    "      label.set_visible(True)\n",
    "   else:\n",
    "      label.set_visible(False)\n",
    "      \n",
    "plt.show()"
   ]
  },
  {
   "cell_type": "code",
   "execution_count": null,
   "metadata": {},
   "outputs": [],
   "source": [
    "fig, ax = plt.subplots(1, 2, figsize = (20, 8))\n",
    "\n",
    "ax[0].boxplot(initial['price'][initial['category'] == 'charcuteria_y_quesos']) # figura del primer subplot\n",
    "ax[1].boxplot(scraped['price'][scraped['category'] == 'charcuteria_y_quesos']) # figura del segundo subplot\n",
    "\n",
    "ax[0].set_title('2021-2022')\n",
    "ax[1].set_title('2023')\n",
    "\n",
    "plt.show()"
   ]
  },
  {
   "cell_type": "code",
   "execution_count": null,
   "metadata": {},
   "outputs": [],
   "source": [
    "price_evolution_expensive_categories2 = {'dates': [], 'mean_prices': []}\n",
    "\n",
    "for d in tqdm(unique_dates):\n",
    "    price_evolution_expensive_categories2['dates'].append(d)\n",
    "    price_evolution_expensive_categories2['mean_prices'].append(concatenation[(concatenation['insert_date'] == d) & (concatenation['category'] == 'cervezas_vinos_y_bebidas_con_alcohol')]['price'].mean())"
   ]
  },
  {
   "cell_type": "code",
   "execution_count": null,
   "metadata": {},
   "outputs": [],
   "source": [
    "plt.figure(figsize = (20,8))\n",
    "\n",
    "\n",
    "line_plot = sns.lineplot(x = price_evolution_expensive_categories2['dates'], \n",
    "             y = price_evolution_expensive_categories2['mean_prices'], \n",
    "             linewidth = 2, \n",
    "             palette = \"mako\")\n",
    "\n",
    "plt.title('History of the evolution of the average price of the \"cervezas_vinos_y_bebidas_con_alcohol\" category')\n",
    "plt.xlabel('Date')\n",
    "plt.ylabel('Average price')\n",
    "plt.xticks(rotation = 90);\n",
    "\n",
    "for index, label in enumerate(line_plot.get_xticklabels()):\n",
    "   if index % 5 == 0:\n",
    "      label.set_visible(True)\n",
    "   else:\n",
    "      label.set_visible(False)\n",
    "      \n",
    "plt.show()"
   ]
  },
  {
   "cell_type": "code",
   "execution_count": null,
   "metadata": {},
   "outputs": [],
   "source": [
    "fig, ax = plt.subplots(1, 2, figsize = (20, 8)) \n",
    "\n",
    "ax[0].boxplot(initial['price'][initial['category'] == 'cervezas_vinos_y_bebidas_con_alcohol']) # figura del primer subplot\n",
    "\n",
    "ax[1].boxplot(scraped['price'][scraped['category'] == 'cervezas_vinos_y_bebidas_con_alcohol']) # figura del segundo subplot\n",
    "\n",
    "ax[0].set_title('2021-2022')\n",
    "ax[1].set_title('2023')\n",
    "\n",
    "plt.show()"
   ]
  },
  {
   "cell_type": "code",
   "execution_count": null,
   "metadata": {},
   "outputs": [],
   "source": [
    "price_evolution_expensive_categories3 = {'dates': [], 'mean_prices': []}\n",
    "\n",
    "for d in tqdm(unique_dates):\n",
    "    price_evolution_expensive_categories3['dates'].append(d)\n",
    "    price_evolution_expensive_categories3['mean_prices'].append(concatenation[(concatenation['insert_date'] == d) & (concatenation['category'] == 'mascotas')]['price'].mean())"
   ]
  },
  {
   "cell_type": "code",
   "execution_count": null,
   "metadata": {},
   "outputs": [],
   "source": [
    "plt.figure(figsize = (20,8))\n",
    "\n",
    "line_plot = sns.lineplot(x = price_evolution_expensive_categories3['dates'], \n",
    "             y = price_evolution_expensive_categories3['mean_prices'], \n",
    "             linewidth = 2, \n",
    "             palette = \"mako\")\n",
    "\n",
    "plt.title('History of the evolution of the average price of the \"mascotas\" category')\n",
    "plt.xlabel('Date')\n",
    "plt.ylabel('Average price')\n",
    "plt.xticks(rotation=90);\n",
    "\n",
    "for index, label in enumerate(line_plot.get_xticklabels()):\n",
    "   if index % 5 == 0:\n",
    "      label.set_visible(True)\n",
    "   else:\n",
    "      label.set_visible(False)\n",
    "      \n",
    "plt.show()"
   ]
  },
  {
   "cell_type": "code",
   "execution_count": null,
   "metadata": {},
   "outputs": [],
   "source": [
    "fig, ax = plt.subplots(1, 2, figsize=(20, 8)) \n",
    "\n",
    "ax[0].boxplot(initial['price'][initial['category'] == 'mascotas']) # figura del primer subplot\n",
    "\n",
    "ax[1].boxplot(scraped['price'][scraped['category'] == 'mascotas']) # figura del segundo subplot\n",
    "\n",
    "ax[0].set_title('2021-2022')\n",
    "ax[1].set_title('2023')\n",
    "\n",
    "plt.show()"
   ]
  },
  {
   "cell_type": "code",
   "execution_count": null,
   "metadata": {},
   "outputs": [],
   "source": [
    "price_evolution_expensive_categories4 = {'dates': [], 'mean_prices': []}\n",
    "\n",
    "for d in tqdm(unique_dates):\n",
    "    price_evolution_expensive_categories4['dates'].append(d)\n",
    "    price_evolution_expensive_categories4['mean_prices'].append(concatenation[(concatenation['insert_date'] == d) & (concatenation['category'] == 'aceites_salsas_y_especias')]['price'].mean())"
   ]
  },
  {
   "cell_type": "code",
   "execution_count": null,
   "metadata": {},
   "outputs": [],
   "source": [
    "plt.figure(figsize =(20,8))\n",
    "\n",
    "\n",
    "line_plot = sns.lineplot(x = price_evolution_expensive_categories4['dates'], \n",
    "             y = price_evolution_expensive_categories4['mean_prices'], \n",
    "             linewidth = 2, \n",
    "             palette= \"mako\")\n",
    "\n",
    "plt.title('History of the evolution of the average price of the \"aceites_salsas_y_especias\" category')\n",
    "plt.xlabel('Date')\n",
    "plt.ylabel('Average price')\n",
    "plt.xticks(rotation=90);\n",
    "\n",
    "for index, label in enumerate(line_plot.get_xticklabels()):\n",
    "   if index % 5 == 0:\n",
    "      label.set_visible(True)\n",
    "   else:\n",
    "      label.set_visible(False)\n",
    "      \n",
    "plt.show()"
   ]
  },
  {
   "cell_type": "code",
   "execution_count": null,
   "metadata": {},
   "outputs": [],
   "source": [
    "fig, ax = plt.subplots(1, 2 , figsize=(20, 8))\n",
    "\n",
    "ax[0].boxplot(initial['price'][initial['category'] == 'aceites_salsas_y_especias']) # figura del primer subplot\n",
    "ax[1].boxplot(scraped['price'][scraped['category'] == 'aceites_salsas_y_especias']) # figura del segundo subplot\n",
    "\n",
    "ax[0].set_title('2021-2022')\n",
    "ax[1].set_title('2023')\n",
    "\n",
    "plt.show()"
   ]
  },
  {
   "cell_type": "code",
   "execution_count": null,
   "metadata": {},
   "outputs": [],
   "source": [
    "price_evolution_expensive_categories5 = {'dates': [], 'mean_prices': []}\n",
    "\n",
    "for d in tqdm(unique_dates):\n",
    "    price_evolution_expensive_categories5['dates'].append(d)\n",
    "    price_evolution_expensive_categories5['mean_prices'].append(concatenation[(concatenation['insert_date'] == d) & (concatenation['category'] == 'congelados')]['price'].mean())"
   ]
  },
  {
   "cell_type": "code",
   "execution_count": null,
   "metadata": {},
   "outputs": [],
   "source": [
    "plt.figure(figsize =(20,8))\n",
    "\n",
    "\n",
    "line_plot = sns.lineplot(x = price_evolution_expensive_categories5['dates'], \n",
    "             y = price_evolution_expensive_categories5['mean_prices'], \n",
    "             linewidth = 2, \n",
    "             palette = \"mako\")\n",
    "\n",
    "plt.title('History of the evolution of the average price of the \"congelados\" category')\n",
    "plt.xlabel('Date')\n",
    "plt.ylabel('Average price')\n",
    "plt.xticks(rotation = 90);\n",
    "\n",
    "for index, label in enumerate(line_plot.get_xticklabels()):\n",
    "   if index % 5 == 0:\n",
    "      label.set_visible(True)\n",
    "   else:\n",
    "      label.set_visible(False)\n",
    "      \n",
    "plt.show()"
   ]
  },
  {
   "cell_type": "code",
   "execution_count": null,
   "metadata": {},
   "outputs": [],
   "source": [
    "fig, ax = plt.subplots(1, 2, figsize = (20, 8)) \n",
    "\n",
    "ax[0].boxplot(initial['price'][initial['category'] == 'congelados']) # figura del primer subplot\n",
    "\n",
    "ax[1].boxplot(scraped['price'][scraped['category'] == 'congelados']) # figura del segundo subplot\n",
    "\n",
    "ax[0].set_title('2021-2022')\n",
    "ax[1].set_title('2023')\n",
    "\n",
    "plt.show()"
   ]
  }
 ],
 "metadata": {
  "kernelspec": {
   "display_name": "base",
   "language": "python",
   "name": "python3"
  },
  "language_info": {
   "codemirror_mode": {
    "name": "ipython",
    "version": 3
   },
   "file_extension": ".py",
   "mimetype": "text/x-python",
   "name": "python",
   "nbconvert_exporter": "python",
   "pygments_lexer": "ipython3",
   "version": "3.10.9"
  },
  "orig_nbformat": 4
 },
 "nbformat": 4,
 "nbformat_minor": 2
}
